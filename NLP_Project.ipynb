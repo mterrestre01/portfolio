{
 "cells": [
  {
   "cell_type": "markdown",
   "id": "59c3f389",
   "metadata": {},
   "source": [
    "<h1>Introduction</h1>\n",
    "<h2>1. Domain Specific Area</h2>\n",
    "This project seeks to quantify the margin opportunity for prospect Airbnb hosts who wish to have a property as an income source.\n",
    "Airbnb has been around for more than 10 years (it was founded in 2008). For many people represents an opportunity to turn their properties into a source of income as short-term rentals.\n",
    "Historically, short-terms rentals were managed by real estate agencies, but through Airbnb property-owners are able to have direct contact with prospect customers who rent a property through the platform.\n",
    "It is difficult however to estimate how much income an owner could derive from a property given different variables that have direct impact on the likelihood of a property to be successful and have a high occupancy rate.\n",
    "One of the main features at the time of choosing a rental is the description that hosts include to \"sell\" the attractiveness of the property, highlighting the main advantages it has.\n",
    "There are existing solutions that aim to assess this yield opportunity such as <a href=\"https://www.nestify.co.uk/\">Nestify</a> and <a href=\"https://www.houst.com/\">Houst</a>.\n",
    "There are several examples of how Airbnb *reviews* can influence prospects for getting more clients in a rental. Typically this would be done by doing a sentiment analysis such as this <a href=\"https://medium.com/@yogi.sarumaha/airbnb-sentiment-analysis-with-python-e81e66fee6a6\">example</a>. Instead of customer-side reviews, I decided to focus on host-side inputs to conduct a more novel analysis, as I am sure most of my fellow students will focus the former instead of the latter.\n",
    "\n",
    "Additionally, my aim is to bring in the text mining element to these numerical approaches, proving the impact of how a good description can boost the rental value.\n",
    "\n",
    "There is a final challenge I wanted to take on with this project which is attempting to work with unstructured language data, because I consider that it is more realistic with professional projects.\n",
    "\n",
    "<h2>2. Objectives</h2>\n",
    "The main goal for this project is to show the impact that a property description on Airbnb can have in boosting the chances of a property to be chosen and thus have a higher yield or margin through a high occupancy rate.\n",
    "\n",
    "* what are the main factors that influence Airbnb renting price?\n",
    "* how well can we predict the Airbnb renting yield?\n",
    "\n",
    "Ultimately I would like to explore how text-mining based features can help improve a model's performance.\n",
    "\n",
    "<h3>2.1 Project Plan</h3>\n",
    "Here's a brief overview of my project plan to achieve the stated objectives:</br>\n",
    "\n",
    "<li>1) Scrap datasets from Airbnb's API</li>\n",
    "<li>2) Perform an initial Exploratory Data Analysis</li>\n",
    "<li>3) Clean data, including removing outliers and missing values</li>\n",
    "<li>4) Feature engineering for detecting best features for the model</li>\n",
    "<li>5) Topic modelling, apply text-mining techniques to process unstructured data</li>\n",
    "<li>6) Train & test a first model with a straightforward algorithm such as Linear Regression without including topics</li>\n",
    "<li>7) Iterate with other algorithms to evaluate performance</li>\n",
    "<li>8) Include the topic dictionary to the model and re-run all models</li>\n",
    "<li>9) Further improve results through tuning hyperparameters</li>\n",
    "\n",
    "<h2>3. Dataset</h2>\n",
    "I chose the dataset for listings for 4 cities, located in the same country, United States, 26/10/2021 available at http://insideairbnb.com/get-the-data.html\n",
    "I chose 4 cities in the same country to ensure using the same language, English, in terms of simplifying the analysis. The selected cities are: Chicago, IL; Cambridge, MA , Denver, CO and Boston, MA.\n",
    "\n",
    "The dataset is scraped from the Airbnb API and includes key fields such as: number of reviews for a listing, host ID and host tenure with AirBNB. It includes as well price, number of guests for the rental, type of property and type of room.\n",
    "\n",
    "The full data dictionary is available <a href=\"https://docs.google.com/spreadsheets/d/1iWCNJcSutYqpULSQHlNyGInUvHg2BoUGoNRIGa6Szc4/edit#gid=982310896\">here</a>.\n",
    "\n",
    "<h2>4. Evaluation methodology</h2>\n",
    "I will choose Mean Squared Error (MSE) as a metric for accuracy. The formula is as follows:\n"
   ]
  },
  {
   "cell_type": "code",
   "execution_count": 1,
   "id": "17f235c0",
   "metadata": {},
   "outputs": [
    {
     "data": {
      "text/html": [
       "<img src=\"https://cdn-media-1.freecodecamp.org/images/hmZydSW9YegiMVPWq2JBpOpai3CejzQpGkNG\"/>"
      ],
      "text/plain": [
       "<IPython.core.display.Image object>"
      ]
     },
     "execution_count": 1,
     "metadata": {},
     "output_type": "execute_result"
    }
   ],
   "source": [
    "from IPython.display import Image\n",
    "from IPython.core.display import HTML \n",
    "Image(url= \"https://cdn-media-1.freecodecamp.org/images/hmZydSW9YegiMVPWq2JBpOpai3CejzQpGkNG\")\n"
   ]
  },
  {
   "cell_type": "markdown",
   "id": "231c89da",
   "metadata": {},
   "source": [
    "This is a useful value to know because it gives us an idea of the average distance between the observed data values and the predicted data values.\n",
    "\n",
    "<h2>5. Implementation</h2>\n",
    "Next I will move on with the implementation part of my project."
   ]
  },
  {
   "cell_type": "code",
   "execution_count": 2,
   "id": "4671b6a3",
   "metadata": {},
   "outputs": [],
   "source": [
    "#How to access the datasets\n",
    "#Datasets can also be downloaded from http://insideairbnb.com/get-the-data.html\n",
    "# Chicago data:\n",
    "chicago_dataset = 'http://data.insideairbnb.com/united-states/il/chicago/2021-10-18/data/'\n",
    "chicago_listings = pd.read_csv(chicago_dataset + 'listings.csv.gz', header=0, index_col=0)\n",
    "\n",
    "# Cambridge data:\n",
    "cambridge_dataset = 'http://data.insideairbnb.com/united-states/ma/cambridge/2021-10-28/data/'\n",
    "cambridge_listings = pd.read_csv(cambridge_dataset + 'listings.csv.gz', header=0, index_col=0)\n",
    "\n",
    "# Boston data:\n",
    "boston_dataset = 'http://data.insideairbnb.com/united-states/ma/boston/2021-10-19/data/'\n",
    "boston_listings = pd.read_csv(boston_dataset + 'listings.csv.gz', header=0, index_col=0)\n",
    "\n",
    "# Denver data: \n",
    "denver_dataset = 'http://data.insideairbnb.com/united-states/co/denver/2021-10-29/data/'\n",
    "denver_listings = pd.read_csv(denver_dataset + 'listings.csv.gz', header=0, index_col=0)"
   ]
  },
  {
   "cell_type": "code",
   "execution_count": 3,
   "id": "fe9a08bb",
   "metadata": {},
   "outputs": [],
   "source": [
    "#Add city as a column\n",
    "chicago_listings['city'] = 'chicago'\n",
    "boston_listings['city'] = 'boston'\n",
    "cambridge_listings['city'] = 'cambridge'\n",
    "denver_listings['city'] = 'denver'\n",
    "\n",
    "#Concatenate all the cities dataset\n",
    "df = pd.concat([chicago_listings,boston_listings,cambridge_listings, denver_listings], ignore_index=True)"
   ]
  },
  {
   "cell_type": "code",
   "execution_count": 4,
   "id": "aba13fe6",
   "metadata": {},
   "outputs": [
    {
     "name": "stderr",
     "output_type": "stream",
     "text": [
      "[nltk_data] Downloading package stopwords to\n",
      "[nltk_data]     /Users/marinap/nltk_data...\n",
      "[nltk_data]   Package stopwords is already up-to-date!\n",
      "[nltk_data] Downloading package words to /Users/marinap/nltk_data...\n",
      "[nltk_data]   Package words is already up-to-date!\n",
      "/opt/anaconda3/lib/python3.7/site-packages/scipy/sparse/sparsetools.py:21: DeprecationWarning: `scipy.sparse.sparsetools` is deprecated!\n",
      "scipy.sparse.sparsetools is a private module for scipy.sparse, and should not be used.\n",
      "  _deprecated()\n"
     ]
    }
   ],
   "source": [
    "#Import necessary libraries\n",
    "#System libraries\n",
    "import re, string, unicodedata\n",
    "import utils\n",
    "import itertools\n",
    "from collections import Counter\n",
    "from collections import defaultdict\n",
    "import time\n",
    "import os\n",
    "import warnings\n",
    "warnings.filterwarnings(\"ignore\", category=DeprecationWarning)\n",
    "\n",
    "#Data handling libraries\n",
    "import pandas as pd\n",
    "import numpy as np\n",
    "from bs4 import BeautifulSoup\n",
    "from geopy import distance\n",
    "\n",
    "#Data visualisation libraries\n",
    "import seaborn as sns\n",
    "import matplotlib as mpl\n",
    "import matplotlib.pyplot as plt\n",
    "%matplotlib inline\n",
    "\n",
    "#NLP & Modelling libraries\n",
    "from wordcloud import WordCloud\n",
    "import nltk\n",
    "from nltk import word_tokenize\n",
    "from nltk.tokenize import RegexpTokenizer\n",
    "from nltk.corpus import stopwords\n",
    "from nltk.corpus import words\n",
    "from nltk import word_tokenize, sent_tokenize\n",
    "nltk.download('stopwords')\n",
    "nltk.download('words')\n",
    "import pyLDAvis\n",
    "import pyLDAvis.gensim_models as gensimvis\n",
    "pyLDAvis.enable_notebook()\n",
    "import contractions\n",
    "import inflect\n",
    "from nltk.stem import LancasterStemmer, WordNetLemmatizer, SnowballStemmer\n",
    "\n",
    "from gensim.corpora.dictionary import Dictionary\n",
    "from gensim.models.tfidfmodel import TfidfModel\n",
    "from gensim.models.ldamodel import LdaModel\n",
    "\n",
    "#Scikit-Learn Libraries\n",
    "from sklearn.impute import SimpleImputer\n",
    "from sklearn.feature_extraction.text import TfidfVectorizer\n",
    "import sklearn_pandas\n",
    "from sklearn.preprocessing import StandardScaler\n",
    "from sklearn.ensemble import RandomForestRegressor\n",
    "from sklearn.tree import DecisionTreeClassifier\n",
    "from sklearn.model_selection import GridSearchCV\n",
    "from sklearn.model_selection import cross_val_score\n",
    "from sklearn.model_selection import train_test_split\n",
    "from sklearn.metrics import classification_report\n",
    "from sklearn import linear_model\n",
    "from sklearn.metrics import mean_squared_error, r2_score"
   ]
  },
  {
   "cell_type": "code",
   "execution_count": 5,
   "id": "3acc6385",
   "metadata": {},
   "outputs": [],
   "source": [
    "#For reproducibility\n",
    "sns.set(style=\"ticks\")\n",
    "seed=42\n",
    "np.random.seed(seed)\n",
    "#np.random.seed(sum(map(ord, \"axis_grids\")))\n",
    "pd.options.display.max_columns = 20"
   ]
  },
  {
   "cell_type": "markdown",
   "id": "8a5cfedc",
   "metadata": {},
   "source": [
    "<h2>Exploratory Data Analysis</h2>"
   ]
  },
  {
   "cell_type": "code",
   "execution_count": 6,
   "id": "1ef293fe",
   "metadata": {},
   "outputs": [
    {
     "data": {
      "text/plain": [
       "(14484, 74)"
      ]
     },
     "execution_count": 6,
     "metadata": {},
     "output_type": "execute_result"
    }
   ],
   "source": [
    "df.shape"
   ]
  },
  {
   "cell_type": "markdown",
   "id": "a6d9c3bd",
   "metadata": {},
   "source": [
    "My Airbnb dataset consists of 74 columns and 14484 rows, which is a reasonable sample for training the model. I will now proceed to have evaluate which features I will keep for the model."
   ]
  },
  {
   "cell_type": "code",
   "execution_count": 7,
   "id": "72c9b16d",
   "metadata": {},
   "outputs": [
    {
     "data": {
      "text/plain": [
       "['accommodates',\n",
       " 'amenities',\n",
       " 'availability_30',\n",
       " 'availability_365',\n",
       " 'availability_60',\n",
       " 'availability_90',\n",
       " 'bathrooms',\n",
       " 'bathrooms_text',\n",
       " 'bedrooms',\n",
       " 'beds',\n",
       " 'calculated_host_listings_count',\n",
       " 'calculated_host_listings_count_entire_homes',\n",
       " 'calculated_host_listings_count_private_rooms',\n",
       " 'calculated_host_listings_count_shared_rooms',\n",
       " 'calendar_last_scraped',\n",
       " 'calendar_updated',\n",
       " 'city',\n",
       " 'description',\n",
       " 'first_review',\n",
       " 'has_availability',\n",
       " 'host_about',\n",
       " 'host_acceptance_rate',\n",
       " 'host_has_profile_pic',\n",
       " 'host_id',\n",
       " 'host_identity_verified',\n",
       " 'host_is_superhost',\n",
       " 'host_listings_count',\n",
       " 'host_location',\n",
       " 'host_name',\n",
       " 'host_neighbourhood',\n",
       " 'host_picture_url',\n",
       " 'host_response_rate',\n",
       " 'host_response_time',\n",
       " 'host_since',\n",
       " 'host_thumbnail_url',\n",
       " 'host_total_listings_count',\n",
       " 'host_url',\n",
       " 'host_verifications',\n",
       " 'instant_bookable',\n",
       " 'last_review',\n",
       " 'last_scraped',\n",
       " 'latitude',\n",
       " 'license',\n",
       " 'listing_url',\n",
       " 'longitude',\n",
       " 'maximum_maximum_nights',\n",
       " 'maximum_minimum_nights',\n",
       " 'maximum_nights',\n",
       " 'maximum_nights_avg_ntm',\n",
       " 'minimum_maximum_nights',\n",
       " 'minimum_minimum_nights',\n",
       " 'minimum_nights',\n",
       " 'minimum_nights_avg_ntm',\n",
       " 'name',\n",
       " 'neighborhood_overview',\n",
       " 'neighbourhood',\n",
       " 'neighbourhood_cleansed',\n",
       " 'neighbourhood_group_cleansed',\n",
       " 'number_of_reviews',\n",
       " 'number_of_reviews_l30d',\n",
       " 'number_of_reviews_ltm',\n",
       " 'picture_url',\n",
       " 'price',\n",
       " 'property_type',\n",
       " 'review_scores_accuracy',\n",
       " 'review_scores_checkin',\n",
       " 'review_scores_cleanliness',\n",
       " 'review_scores_communication',\n",
       " 'review_scores_location',\n",
       " 'review_scores_rating',\n",
       " 'review_scores_value',\n",
       " 'reviews_per_month',\n",
       " 'room_type',\n",
       " 'scrape_id']"
      ]
     },
     "execution_count": 7,
     "metadata": {},
     "output_type": "execute_result"
    }
   ],
   "source": [
    "#First look at all columns in alphabetical order\n",
    "sorted(df)"
   ]
  },
  {
   "cell_type": "code",
   "execution_count": 8,
   "id": "dec319b1",
   "metadata": {},
   "outputs": [
    {
     "name": "stdout",
     "output_type": "stream",
     "text": [
      "Dataset has 14484 rows, 15 columns.\n"
     ]
    },
    {
     "data": {
      "text/html": [
       "<div>\n",
       "<style scoped>\n",
       "    .dataframe tbody tr th:only-of-type {\n",
       "        vertical-align: middle;\n",
       "    }\n",
       "\n",
       "    .dataframe tbody tr th {\n",
       "        vertical-align: top;\n",
       "    }\n",
       "\n",
       "    .dataframe thead th {\n",
       "        text-align: right;\n",
       "    }\n",
       "</style>\n",
       "<table border=\"1\" class=\"dataframe\">\n",
       "  <thead>\n",
       "    <tr style=\"text-align: right;\">\n",
       "      <th></th>\n",
       "      <th>description</th>\n",
       "      <th>property_type</th>\n",
       "      <th>room_type</th>\n",
       "      <th>accommodates</th>\n",
       "      <th>bedrooms</th>\n",
       "      <th>beds</th>\n",
       "      <th>price</th>\n",
       "      <th>minimum_nights</th>\n",
       "      <th>amenities</th>\n",
       "      <th>host_acceptance_rate</th>\n",
       "      <th>availability_365</th>\n",
       "      <th>city</th>\n",
       "      <th>reviews_per_month</th>\n",
       "      <th>latitude</th>\n",
       "      <th>longitude</th>\n",
       "    </tr>\n",
       "  </thead>\n",
       "  <tbody>\n",
       "    <tr>\n",
       "      <th>0</th>\n",
       "      <td>If you are fully vaccinated, and able to climb...</td>\n",
       "      <td>Private room in condominium (condo)</td>\n",
       "      <td>Private room</td>\n",
       "      <td>1</td>\n",
       "      <td>1.0</td>\n",
       "      <td>1.0</td>\n",
       "      <td>$81.00</td>\n",
       "      <td>3</td>\n",
       "      <td>[\"Hot water\", \"Gas stove\", \"Essentials\", \"Room...</td>\n",
       "      <td>83%</td>\n",
       "      <td>329</td>\n",
       "      <td>chicago</td>\n",
       "      <td>2.41</td>\n",
       "      <td>41.78790</td>\n",
       "      <td>-87.58780</td>\n",
       "    </tr>\n",
       "    <tr>\n",
       "      <th>1</th>\n",
       "      <td>A very small studio in a wonderful neighborhoo...</td>\n",
       "      <td>Entire rental unit</td>\n",
       "      <td>Entire home/apt</td>\n",
       "      <td>2</td>\n",
       "      <td>1.0</td>\n",
       "      <td>1.0</td>\n",
       "      <td>$65.00</td>\n",
       "      <td>2</td>\n",
       "      <td>[\"Hot water\", \"Stove\", \"Essentials\", \"Room-dar...</td>\n",
       "      <td>NaN</td>\n",
       "      <td>230</td>\n",
       "      <td>chicago</td>\n",
       "      <td>3.34</td>\n",
       "      <td>41.90166</td>\n",
       "      <td>-87.68021</td>\n",
       "    </tr>\n",
       "    <tr>\n",
       "      <th>2</th>\n",
       "      <td>Beautiful first floor apartment in Historic Ol...</td>\n",
       "      <td>Entire rental unit</td>\n",
       "      <td>Entire home/apt</td>\n",
       "      <td>4</td>\n",
       "      <td>2.0</td>\n",
       "      <td>2.0</td>\n",
       "      <td>$125.00</td>\n",
       "      <td>4</td>\n",
       "      <td>[\"Hot water\", \"Stove\", \"Essentials\", \"Kitchen\"...</td>\n",
       "      <td>92%</td>\n",
       "      <td>144</td>\n",
       "      <td>chicago</td>\n",
       "      <td>0.40</td>\n",
       "      <td>41.91196</td>\n",
       "      <td>-87.63981</td>\n",
       "    </tr>\n",
       "    <tr>\n",
       "      <th>3</th>\n",
       "      <td>Available as extended stay rental located in C...</td>\n",
       "      <td>Entire condominium (condo)</td>\n",
       "      <td>Entire home/apt</td>\n",
       "      <td>2</td>\n",
       "      <td>1.0</td>\n",
       "      <td>1.0</td>\n",
       "      <td>$99.00</td>\n",
       "      <td>7</td>\n",
       "      <td>[\"Hot water\", \"Stove\", \"Essentials\", \"Kitchen\"...</td>\n",
       "      <td>93%</td>\n",
       "      <td>0</td>\n",
       "      <td>chicago</td>\n",
       "      <td>0.16</td>\n",
       "      <td>41.90491</td>\n",
       "      <td>-87.63213</td>\n",
       "    </tr>\n",
       "    <tr>\n",
       "      <th>4</th>\n",
       "      <td>Bed and Breakfast license issued by the City o...</td>\n",
       "      <td>Room in boutique hotel</td>\n",
       "      <td>Private room</td>\n",
       "      <td>2</td>\n",
       "      <td>1.0</td>\n",
       "      <td>2.0</td>\n",
       "      <td>$329.00</td>\n",
       "      <td>2</td>\n",
       "      <td>[\"Free parking on premises\", \"Hot water\", \"Ess...</td>\n",
       "      <td>100%</td>\n",
       "      <td>167</td>\n",
       "      <td>chicago</td>\n",
       "      <td>0.09</td>\n",
       "      <td>41.92357</td>\n",
       "      <td>-87.64947</td>\n",
       "    </tr>\n",
       "  </tbody>\n",
       "</table>\n",
       "</div>"
      ],
      "text/plain": [
       "                                         description  \\\n",
       "0  If you are fully vaccinated, and able to climb...   \n",
       "1  A very small studio in a wonderful neighborhoo...   \n",
       "2  Beautiful first floor apartment in Historic Ol...   \n",
       "3  Available as extended stay rental located in C...   \n",
       "4  Bed and Breakfast license issued by the City o...   \n",
       "\n",
       "                         property_type        room_type  accommodates  \\\n",
       "0  Private room in condominium (condo)     Private room             1   \n",
       "1                   Entire rental unit  Entire home/apt             2   \n",
       "2                   Entire rental unit  Entire home/apt             4   \n",
       "3           Entire condominium (condo)  Entire home/apt             2   \n",
       "4               Room in boutique hotel     Private room             2   \n",
       "\n",
       "   bedrooms  beds    price  minimum_nights  \\\n",
       "0       1.0   1.0   $81.00               3   \n",
       "1       1.0   1.0   $65.00               2   \n",
       "2       2.0   2.0  $125.00               4   \n",
       "3       1.0   1.0   $99.00               7   \n",
       "4       1.0   2.0  $329.00               2   \n",
       "\n",
       "                                           amenities host_acceptance_rate  \\\n",
       "0  [\"Hot water\", \"Gas stove\", \"Essentials\", \"Room...                  83%   \n",
       "1  [\"Hot water\", \"Stove\", \"Essentials\", \"Room-dar...                  NaN   \n",
       "2  [\"Hot water\", \"Stove\", \"Essentials\", \"Kitchen\"...                  92%   \n",
       "3  [\"Hot water\", \"Stove\", \"Essentials\", \"Kitchen\"...                  93%   \n",
       "4  [\"Free parking on premises\", \"Hot water\", \"Ess...                 100%   \n",
       "\n",
       "   availability_365     city  reviews_per_month  latitude  longitude  \n",
       "0               329  chicago               2.41  41.78790  -87.58780  \n",
       "1               230  chicago               3.34  41.90166  -87.68021  \n",
       "2               144  chicago               0.40  41.91196  -87.63981  \n",
       "3                 0  chicago               0.16  41.90491  -87.63213  \n",
       "4               167  chicago               0.09  41.92357  -87.64947  "
      ]
     },
     "execution_count": 8,
     "metadata": {},
     "output_type": "execute_result"
    }
   ],
   "source": [
    "#I decided to select variables that help to explain the following criteria: \n",
    "# a)description of the rental unit and types of accomodation; b) available amenities in the rental;\n",
    "# c) location of property, and d) how popular the rental is derived from the number of monthly reviews\n",
    "#Columns to include\n",
    "cols_to_include = [\n",
    "    'description', 'property_type', 'room_type', 'accommodates',\n",
    "    'bedrooms', 'beds','price', 'minimum_nights', 'amenities',\n",
    "    'host_acceptance_rate','availability_365', 'city',\n",
    "    'reviews_per_month', 'latitude', 'longitude']\n",
    "df = df[cols_to_include]\n",
    "print(\"Dataset has {} rows, {} columns.\".format(*df.shape))\n",
    "df.head()"
   ]
  },
  {
   "cell_type": "code",
   "execution_count": 9,
   "id": "6d233a60",
   "metadata": {},
   "outputs": [
    {
     "data": {
      "text/plain": [
       "description              object\n",
       "property_type            object\n",
       "room_type                object\n",
       "accommodates              int64\n",
       "bedrooms                float64\n",
       "beds                    float64\n",
       "price                    object\n",
       "minimum_nights            int64\n",
       "amenities                object\n",
       "host_acceptance_rate     object\n",
       "availability_365          int64\n",
       "city                     object\n",
       "reviews_per_month       float64\n",
       "latitude                float64\n",
       "longitude               float64\n",
       "dtype: object"
      ]
     },
     "execution_count": 9,
     "metadata": {},
     "output_type": "execute_result"
    }
   ],
   "source": [
    "#Explore data types to begin transformations\n",
    "df.dtypes"
   ]
  },
  {
   "cell_type": "code",
   "execution_count": 10,
   "id": "4834fbc1",
   "metadata": {},
   "outputs": [],
   "source": [
    "#Turn object data types into float\n",
    "df['host_acceptance_rate'] = df['host_acceptance_rate'].str.rstrip('%').astype('float')"
   ]
  },
  {
   "cell_type": "code",
   "execution_count": 11,
   "id": "dfaeb9a2",
   "metadata": {},
   "outputs": [
    {
     "name": "stdout",
     "output_type": "stream",
     "text": [
      "Dataset has 14484 rows, 15 columns.\n"
     ]
    },
    {
     "name": "stderr",
     "output_type": "stream",
     "text": [
      "<>:3: DeprecationWarning: invalid escape sequence \\$\n",
      "<>:3: DeprecationWarning: invalid escape sequence \\$\n",
      "<>:3: DeprecationWarning: invalid escape sequence \\$\n",
      "<ipython-input-11-1e163db98b65>:3: DeprecationWarning: invalid escape sequence \\$\n",
      "  df[num_feats] = df[num_feats].replace('[\\$,]', '', regex=True)\n"
     ]
    }
   ],
   "source": [
    "# Remove '$' from Price column\n",
    "num_feats = ['price']\n",
    "df[num_feats] = df[num_feats].replace('[\\$,]', '', regex=True)\n",
    "df[num_feats] = df[num_feats].apply(pd.to_numeric, errors='coerce')\n",
    "print(\"Dataset has {} rows, {} columns.\".format(*df.shape))"
   ]
  },
  {
   "cell_type": "code",
   "execution_count": 12,
   "id": "4be86037",
   "metadata": {},
   "outputs": [
    {
     "data": {
      "text/html": [
       "<div>\n",
       "<style scoped>\n",
       "    .dataframe tbody tr th:only-of-type {\n",
       "        vertical-align: middle;\n",
       "    }\n",
       "\n",
       "    .dataframe tbody tr th {\n",
       "        vertical-align: top;\n",
       "    }\n",
       "\n",
       "    .dataframe thead th {\n",
       "        text-align: right;\n",
       "    }\n",
       "</style>\n",
       "<table border=\"1\" class=\"dataframe\">\n",
       "  <thead>\n",
       "    <tr style=\"text-align: right;\">\n",
       "      <th></th>\n",
       "      <th>description</th>\n",
       "      <th>property_type</th>\n",
       "      <th>room_type</th>\n",
       "      <th>accommodates</th>\n",
       "      <th>bedrooms</th>\n",
       "      <th>beds</th>\n",
       "      <th>price</th>\n",
       "      <th>minimum_nights</th>\n",
       "      <th>amenities</th>\n",
       "      <th>host_acceptance_rate</th>\n",
       "      <th>availability_365</th>\n",
       "      <th>city</th>\n",
       "      <th>reviews_per_month</th>\n",
       "      <th>latitude</th>\n",
       "      <th>longitude</th>\n",
       "    </tr>\n",
       "  </thead>\n",
       "  <tbody>\n",
       "    <tr>\n",
       "      <th>0</th>\n",
       "      <td>If you are fully vaccinated, and able to climb...</td>\n",
       "      <td>Private room in condominium (condo)</td>\n",
       "      <td>Private room</td>\n",
       "      <td>1</td>\n",
       "      <td>1.0</td>\n",
       "      <td>1.0</td>\n",
       "      <td>81.0</td>\n",
       "      <td>3</td>\n",
       "      <td>[\"Hot water\", \"Gas stove\", \"Essentials\", \"Room...</td>\n",
       "      <td>83.0</td>\n",
       "      <td>329</td>\n",
       "      <td>chicago</td>\n",
       "      <td>2.41</td>\n",
       "      <td>41.78790</td>\n",
       "      <td>-87.58780</td>\n",
       "    </tr>\n",
       "    <tr>\n",
       "      <th>1</th>\n",
       "      <td>A very small studio in a wonderful neighborhoo...</td>\n",
       "      <td>Entire rental unit</td>\n",
       "      <td>Entire home/apt</td>\n",
       "      <td>2</td>\n",
       "      <td>1.0</td>\n",
       "      <td>1.0</td>\n",
       "      <td>65.0</td>\n",
       "      <td>2</td>\n",
       "      <td>[\"Hot water\", \"Stove\", \"Essentials\", \"Room-dar...</td>\n",
       "      <td>NaN</td>\n",
       "      <td>230</td>\n",
       "      <td>chicago</td>\n",
       "      <td>3.34</td>\n",
       "      <td>41.90166</td>\n",
       "      <td>-87.68021</td>\n",
       "    </tr>\n",
       "    <tr>\n",
       "      <th>2</th>\n",
       "      <td>Beautiful first floor apartment in Historic Ol...</td>\n",
       "      <td>Entire rental unit</td>\n",
       "      <td>Entire home/apt</td>\n",
       "      <td>4</td>\n",
       "      <td>2.0</td>\n",
       "      <td>2.0</td>\n",
       "      <td>125.0</td>\n",
       "      <td>4</td>\n",
       "      <td>[\"Hot water\", \"Stove\", \"Essentials\", \"Kitchen\"...</td>\n",
       "      <td>92.0</td>\n",
       "      <td>144</td>\n",
       "      <td>chicago</td>\n",
       "      <td>0.40</td>\n",
       "      <td>41.91196</td>\n",
       "      <td>-87.63981</td>\n",
       "    </tr>\n",
       "    <tr>\n",
       "      <th>3</th>\n",
       "      <td>Available as extended stay rental located in C...</td>\n",
       "      <td>Entire condominium (condo)</td>\n",
       "      <td>Entire home/apt</td>\n",
       "      <td>2</td>\n",
       "      <td>1.0</td>\n",
       "      <td>1.0</td>\n",
       "      <td>99.0</td>\n",
       "      <td>7</td>\n",
       "      <td>[\"Hot water\", \"Stove\", \"Essentials\", \"Kitchen\"...</td>\n",
       "      <td>93.0</td>\n",
       "      <td>0</td>\n",
       "      <td>chicago</td>\n",
       "      <td>0.16</td>\n",
       "      <td>41.90491</td>\n",
       "      <td>-87.63213</td>\n",
       "    </tr>\n",
       "    <tr>\n",
       "      <th>4</th>\n",
       "      <td>Bed and Breakfast license issued by the City o...</td>\n",
       "      <td>Room in boutique hotel</td>\n",
       "      <td>Private room</td>\n",
       "      <td>2</td>\n",
       "      <td>1.0</td>\n",
       "      <td>2.0</td>\n",
       "      <td>329.0</td>\n",
       "      <td>2</td>\n",
       "      <td>[\"Free parking on premises\", \"Hot water\", \"Ess...</td>\n",
       "      <td>100.0</td>\n",
       "      <td>167</td>\n",
       "      <td>chicago</td>\n",
       "      <td>0.09</td>\n",
       "      <td>41.92357</td>\n",
       "      <td>-87.64947</td>\n",
       "    </tr>\n",
       "  </tbody>\n",
       "</table>\n",
       "</div>"
      ],
      "text/plain": [
       "                                         description  \\\n",
       "0  If you are fully vaccinated, and able to climb...   \n",
       "1  A very small studio in a wonderful neighborhoo...   \n",
       "2  Beautiful first floor apartment in Historic Ol...   \n",
       "3  Available as extended stay rental located in C...   \n",
       "4  Bed and Breakfast license issued by the City o...   \n",
       "\n",
       "                         property_type        room_type  accommodates  \\\n",
       "0  Private room in condominium (condo)     Private room             1   \n",
       "1                   Entire rental unit  Entire home/apt             2   \n",
       "2                   Entire rental unit  Entire home/apt             4   \n",
       "3           Entire condominium (condo)  Entire home/apt             2   \n",
       "4               Room in boutique hotel     Private room             2   \n",
       "\n",
       "   bedrooms  beds  price  minimum_nights  \\\n",
       "0       1.0   1.0   81.0               3   \n",
       "1       1.0   1.0   65.0               2   \n",
       "2       2.0   2.0  125.0               4   \n",
       "3       1.0   1.0   99.0               7   \n",
       "4       1.0   2.0  329.0               2   \n",
       "\n",
       "                                           amenities  host_acceptance_rate  \\\n",
       "0  [\"Hot water\", \"Gas stove\", \"Essentials\", \"Room...                  83.0   \n",
       "1  [\"Hot water\", \"Stove\", \"Essentials\", \"Room-dar...                   NaN   \n",
       "2  [\"Hot water\", \"Stove\", \"Essentials\", \"Kitchen\"...                  92.0   \n",
       "3  [\"Hot water\", \"Stove\", \"Essentials\", \"Kitchen\"...                  93.0   \n",
       "4  [\"Free parking on premises\", \"Hot water\", \"Ess...                 100.0   \n",
       "\n",
       "   availability_365     city  reviews_per_month  latitude  longitude  \n",
       "0               329  chicago               2.41  41.78790  -87.58780  \n",
       "1               230  chicago               3.34  41.90166  -87.68021  \n",
       "2               144  chicago               0.40  41.91196  -87.63981  \n",
       "3                 0  chicago               0.16  41.90491  -87.63213  \n",
       "4               167  chicago               0.09  41.92357  -87.64947  "
      ]
     },
     "execution_count": 12,
     "metadata": {},
     "output_type": "execute_result"
    }
   ],
   "source": [
    "#Fill NAs in text variables\n",
    "df[\"description\"]=df[\"description\"].fillna(\"\")\n",
    "df.head()"
   ]
  },
  {
   "cell_type": "markdown",
   "id": "f6daa714",
   "metadata": {},
   "source": [
    "<h2> Distribution Analysis</h2>\n",
    "The next section will look at the distribution of variables using histograms"
   ]
  },
  {
   "cell_type": "code",
   "execution_count": 13,
   "id": "fad20e7c",
   "metadata": {},
   "outputs": [
    {
     "name": "stderr",
     "output_type": "stream",
     "text": [
      "/opt/anaconda3/lib/python3.7/site-packages/seaborn/distributions.py:2619: FutureWarning: `distplot` is a deprecated function and will be removed in a future version. Please adapt your code to use either `displot` (a figure-level function with similar flexibility) or `histplot` (an axes-level function for histograms).\n",
      "  warnings.warn(msg, FutureWarning)\n"
     ]
    },
    {
     "name": "stdout",
     "output_type": "stream",
     "text": [
      "You dropped 391 rows.\n"
     ]
    },
    {
     "name": "stderr",
     "output_type": "stream",
     "text": [
      "/opt/anaconda3/lib/python3.7/site-packages/seaborn/distributions.py:2619: FutureWarning: `distplot` is a deprecated function and will be removed in a future version. Please adapt your code to use either `displot` (a figure-level function with similar flexibility) or `histplot` (an axes-level function for histograms).\n",
      "  warnings.warn(msg, FutureWarning)\n"
     ]
    },
    {
     "name": "stdout",
     "output_type": "stream",
     "text": [
      "Dataset has 14093 rows, 15 columns.\n"
     ]
    },
    {
     "data": {
      "text/plain": [
       "<AxesSubplot:xlabel='Max guests (after pre-processing)', ylabel='Density'>"
      ]
     },
     "execution_count": 13,
     "metadata": {},
     "output_type": "execute_result"
    },
    {
     "data": {
      "image/png": "[encoded data removed]",
      "text/plain": [
       "<Figure size 1152x288 with 2 Axes>"
      ]
     },
     "metadata": {
      "needs_background": "light"
     },
     "output_type": "display_data"
    }
   ],
   "source": [
    "#Distribution of Size of rental\n",
    "#The goal is to remove outliers from rentals for more than 10 guests that can skewed results\n",
    "%matplotlib inline\n",
    "\n",
    "fig, axs = plt.subplots(ncols=2, figsize=(16, 4))\n",
    "fig.suptitle('Distribution of max guests (before and after removing large rentals > 10)', weight='bold', fontsize=12)\n",
    "\n",
    "# Before pre-processing\n",
    "x_axis=df['accommodates'].dropna()\n",
    "sns.distplot(pd.Series(x_axis, name='Max guests (before pre-processing)'), ax=axs[0])\n",
    "\n",
    "# Remove where price > 1000\n",
    "condition = df[df['accommodates'] > 10]\n",
    "rows_to_drop = condition.index\n",
    "print(\"You dropped {} rows.\".format(condition.shape[0]))\n",
    "df = df.drop(rows_to_drop, axis=0)\n",
    "print(\"Dataset has {} rows, {} columns.\".format(*df.shape))\n",
    "\n",
    "#After pre-processing\n",
    "x_axis=df['accommodates'].dropna()\n",
    "sns.distplot(pd.Series(x_axis, name='Max guests (after pre-processing)'), ax=axs[1])"
   ]
  },
  {
   "cell_type": "code",
   "execution_count": 14,
   "id": "0922626b",
   "metadata": {},
   "outputs": [
    {
     "name": "stdout",
     "output_type": "stream",
     "text": [
      "You dropped 78 rows.\n",
      "Dataset has 14015 rows, 15 columns.\n"
     ]
    },
    {
     "name": "stderr",
     "output_type": "stream",
     "text": [
      "/opt/anaconda3/lib/python3.7/site-packages/seaborn/distributions.py:2619: FutureWarning: `distplot` is a deprecated function and will be removed in a future version. Please adapt your code to use either `displot` (a figure-level function with similar flexibility) or `histplot` (an axes-level function for histograms).\n",
      "  warnings.warn(msg, FutureWarning)\n",
      "/opt/anaconda3/lib/python3.7/site-packages/seaborn/distributions.py:2619: FutureWarning: `distplot` is a deprecated function and will be removed in a future version. Please adapt your code to use either `displot` (a figure-level function with similar flexibility) or `histplot` (an axes-level function for histograms).\n",
      "  warnings.warn(msg, FutureWarning)\n"
     ]
    },
    {
     "data": {
      "text/plain": [
       "<AxesSubplot:xlabel='Price  (after pre-processing)', ylabel='Density'>"
      ]
     },
     "execution_count": 14,
     "metadata": {},
     "output_type": "execute_result"
    },
    {
     "data": {
      "image/png": "[encoded data removed]",
      "text/plain": [
       "<Figure size 1152x288 with 2 Axes>"
      ]
     },
     "metadata": {
      "needs_background": "light"
     },
     "output_type": "display_data"
    }
   ],
   "source": [
    "#Distribution of price\n",
    "%matplotlib inline\n",
    "\n",
    "fig, axs = plt.subplots(ncols=2, figsize=(16, 4))\n",
    "fig.suptitle('Distribution of price (before and after removing high-priced outliers)')\n",
    "\n",
    "# Before pre-processing\n",
    "x_axis=df['price'].dropna()\n",
    "sns.distplot(pd.Series(x_axis, name='Price (before pre-processing)'), ax=axs[0])\n",
    "\n",
    "# Remove where price > 1000\n",
    "condition = df[df['price'] > 1000]\n",
    "rows_to_drop = condition.index\n",
    "print(\"You dropped {} rows.\".format(condition.shape[0]))\n",
    "df = df.drop(rows_to_drop, axis=0)\n",
    "print(\"Dataset has {} rows, {} columns.\".format(*df.shape))\n",
    "\n",
    "#After pre-processing\n",
    "x_axis=df['price'].dropna()\n",
    "sns.distplot(pd.Series(x_axis, name='Price  (after pre-processing)'), ax=axs[1])\n"
   ]
  },
  {
   "cell_type": "code",
   "execution_count": 15,
   "id": "72c07a55",
   "metadata": {},
   "outputs": [
    {
     "name": "stderr",
     "output_type": "stream",
     "text": [
      "/opt/anaconda3/lib/python3.7/site-packages/seaborn/distributions.py:2619: FutureWarning: `distplot` is a deprecated function and will be removed in a future version. Please adapt your code to use either `displot` (a figure-level function with similar flexibility) or `histplot` (an axes-level function for histograms).\n",
      "  warnings.warn(msg, FutureWarning)\n",
      "/opt/anaconda3/lib/python3.7/site-packages/seaborn/distributions.py:2619: FutureWarning: `distplot` is a deprecated function and will be removed in a future version. Please adapt your code to use either `displot` (a figure-level function with similar flexibility) or `histplot` (an axes-level function for histograms).\n",
      "  warnings.warn(msg, FutureWarning)\n"
     ]
    },
    {
     "name": "stdout",
     "output_type": "stream",
     "text": [
      "Dataset has 5911 rows, 15 columns.\n",
      "Dataset has 5911 rows, 14 columns.\n"
     ]
    },
    {
     "data": {
      "image/png": "[encoded data removed]",
      "text/plain": [
       "<Figure size 1152x288 with 2 Axes>"
      ]
     },
     "metadata": {
      "needs_background": "light"
     },
     "output_type": "display_data"
    }
   ],
   "source": [
    "#Distribution of availability of rental in a calendar year\n",
    "%matplotlib inline\n",
    "\n",
    "fig, axs = plt.subplots(ncols=2, figsize=(16, 4))\n",
    "fig.suptitle('Distribution of availability (before and after removing part-time listings)')\n",
    "\n",
    "# Before pre-processing\n",
    "x_axis=df['availability_365'].dropna()\n",
    "sns.distplot(pd.Series(x_axis, name='Availability (before pre-processing)'), ax=axs[0])\n",
    "\n",
    "# Remove where availability less than 60 days or greater than 300 days\n",
    "df = df.query('60 <= availability_365 <= 300')\n",
    "print(\"Dataset has {} rows, {} columns.\".format(*df.shape))\n",
    "\n",
    "#After pre-processing\n",
    "x_axis=df['availability_365'].dropna()\n",
    "sns.distplot(pd.Series(x_axis, name='Availability (after pre-processing)'), ax=axs[1])\n",
    "df = df.drop('availability_365', axis = 1)\n",
    "print(\"Dataset has {} rows, {} columns.\".format(*df.shape))"
   ]
  },
  {
   "cell_type": "code",
   "execution_count": 16,
   "id": "226c9bfa",
   "metadata": {},
   "outputs": [
    {
     "data": {
      "text/plain": [
       "(5911, 14)"
      ]
     },
     "execution_count": 16,
     "metadata": {},
     "output_type": "execute_result"
    }
   ],
   "source": [
    "#Check shape of dataset after removing outliers\n",
    "df.shape"
   ]
  },
  {
   "cell_type": "markdown",
   "id": "f4ce4878",
   "metadata": {},
   "source": [
    "I have now removed the outliers from 3 key numeric variables: price, accomodates & availability_365."
   ]
  },
  {
   "cell_type": "code",
   "execution_count": 17,
   "id": "7787c6f5",
   "metadata": {},
   "outputs": [
    {
     "data": {
      "text/plain": [
       "Entire rental unit                     2201\n",
       "Entire condominium (condo)              661\n",
       "Private room in residential home        567\n",
       "Entire residential home                 539\n",
       "Private room in rental unit             522\n",
       "Entire guest suite                      370\n",
       "Entire townhouse                        200\n",
       "Private room in condominium (condo)     126\n",
       "Entire guesthouse                       119\n",
       "Entire loft                              96\n",
       "Entire serviced apartment                95\n",
       "Private room in townhouse                83\n",
       "Room in boutique hotel                   78\n",
       "Entire bungalow                          34\n",
       "Room in hotel                            28\n",
       "Private room in bungalow                 25\n",
       "Shared room in rental unit               25\n",
       "Private room in guest suite              23\n",
       "Private room in loft                     21\n",
       "Private room in bed and breakfast        20\n",
       "Entire cottage                            7\n",
       "Tiny house                                7\n",
       "Private room in hostel                    7\n",
       "Private room in castle                    6\n",
       "Shared room in residential home           6\n",
       "Boat                                      5\n",
       "Private room in cottage                   4\n",
       "Private room in guesthouse                4\n",
       "Entire villa                              4\n",
       "Private room in serviced apartment        3\n",
       "Room in aparthotel                        3\n",
       "Private room in villa                     2\n",
       "Camper/RV                                 2\n",
       "Shared room in hostel                     2\n",
       "Private room                              2\n",
       "Houseboat                                 2\n",
       "Private room in farm stay                 1\n",
       "Lighthouse                                1\n",
       "Castle                                    1\n",
       "Barn                                      1\n",
       "Entire bed and breakfast                  1\n",
       "Shared room in bed and breakfast          1\n",
       "Room in bed and breakfast                 1\n",
       "Room in serviced apartment                1\n",
       "Shared room in serviced apartment         1\n",
       "Private room in cabin                     1\n",
       "Entire home/apt                           1\n",
       "Private room in tiny house                1\n",
       "Name: property_type, dtype: int64"
      ]
     },
     "execution_count": 17,
     "metadata": {},
     "output_type": "execute_result"
    }
   ],
   "source": [
    "#Look into property_type counts as it has too many possible values\n",
    "df['property_type'].value_counts()"
   ]
  },
  {
   "cell_type": "code",
   "execution_count": 18,
   "id": "dd008920",
   "metadata": {},
   "outputs": [
    {
     "name": "stderr",
     "output_type": "stream",
     "text": [
      "/opt/anaconda3/lib/python3.7/site-packages/pandas/core/indexing.py:1732: SettingWithCopyWarning: \n",
      "A value is trying to be set on a copy of a slice from a DataFrame\n",
      "\n",
      "See the caveats in the documentation: https://pandas.pydata.org/pandas-docs/stable/user_guide/indexing.html#returning-a-view-versus-a-copy\n",
      "  self._setitem_single_block(indexer, value, name)\n"
     ]
    }
   ],
   "source": [
    "#Bin under 'Other' all property types with less than 100 occurrences in the dataset \n",
    "categories_to_rename = ['Entire serviced apartment','Entire loft','Room in boutique hotel','Entire townhouse', 'Lighthouse', 'Private room in farm stay',\n",
    "                        'Private room in townhouse', 'property_type_Camper/RV', 'Room in hotel', 'Shared room in rental unit', 'Entire guesthouse', 'Houseboat',\n",
    "                        'Entire guesthouse', 'Private room in loft', 'Private room in bungalow', 'Private room in castle',\n",
    "                        'Private room in bed and breakfast', 'Private room in guest suite', 'Boat', 'Entire loft', 'Private room in cottage', \n",
    "                        'Shared room in residential home', 'Private room in hostel', 'Entire bungalow', 'Entire serviced apartment',\n",
    "                        'Private room in cottage', 'Private room in guesthouse', 'Room in aparthotel', 'Entire cottage', \n",
    "                        'Private room in villa', 'Houseboat', 'Entire villa', 'Tiny house', 'Private room in serviced apartment',\n",
    "                        'Shared room in hostel', 'Private room in farm stay', 'Private room in cabin', 'Entire bed and breakfast',\n",
    "                        'Shared room in bed and breakfast', 'Private room in tiny house', 'Barn', 'property_type_Camper/RV', 'Castle' ]\n",
    "df['property_type'].loc[df['property_type'].isin(categories_to_rename)] = 'Other'"
   ]
  },
  {
   "cell_type": "code",
   "execution_count": 19,
   "id": "e2b865db",
   "metadata": {},
   "outputs": [
    {
     "data": {
      "image/png": "[encoded data removed]",
      "text/plain": [
       "<Figure size 648x360 with 1 Axes>"
      ]
     },
     "metadata": {
      "needs_background": "light"
     },
     "output_type": "display_data"
    }
   ],
   "source": [
    "ax = df.property_type.value_counts(normalize=True).head(9).sort_values().plot(kind='barh', figsize=(9,5));"
   ]
  },
  {
   "cell_type": "markdown",
   "id": "46cee2b5",
   "metadata": {},
   "source": [
    "Over 40% of rentals are Entire units, suggesting that owners have dedicated properties for Airbnb reservations or give up their own units for renting purposes."
   ]
  },
  {
   "cell_type": "code",
   "execution_count": 20,
   "id": "d92f392d",
   "metadata": {},
   "outputs": [
    {
     "data": {
      "text/plain": [
       "[\"Hot water\", \"Essentials\", \"Kitchen\", \"Gym\", \"Hangers\", \"Dishwasher\", \"Shampoo\", \"Elevator\", \"Heating\", \"Smoke alarm\", \"TV with standard cable\", \"Refrigerator\", \"Private entrance\", \"Oven\", \"Washer\", \"Paid parking on premises\", \"Carbon monoxide alarm\", \"Pool\", \"Long term stays allowed\", \"Microwave\", \"Cable TV\", \"Wifi\", \"Air conditioning\", \"Dryer\", \"Coffee maker\", \"Bed linens\", \"BBQ grill\", \"Bathtub\", \"Iron\", \"Lockbox\", \"Hair dryer\"]                                                                                                                                                                                                                                                                                                                                                                                                                                                                                                                   25\n",
       "[\"Refrigerator\", \"Wifi\", \"Dryer\", \"Central air conditioning\", \"Hangers\", \"Long term stays allowed\", \"Hair dryer\", \"Microwave\", \"Oven\", \"Elevator\", \"Dishwasher\", \"Washer\", \"Fire extinguisher\", \"Hot water\", \"Essentials\", \"Paid valet parking on premises\", \"Cable TV\", \"Stove\", \"Dishes and silverware\", \"Single level home\", \"Central heating\", \"Iron\", \"Coffee maker\", \"Smoke alarm\", \"TV with standard cable\", \"Carbon monoxide alarm\", \"Kitchen\", \"Free street parking\", \"Shampoo\", \"First aid kit\", \"Bed linens\", \"Security cameras on property\", \"Cooking basics\"]                                                                                                                                                                                                                                                                                                                                                                                             15\n",
       "[\"Wifi\", \"Body soap\", \"Hangers\", \"Hair dryer\", \"Lock on bedroom door\", \"Microwave\", \"Fire extinguisher\", \"Conditioner\", \"Essentials\", \"Heating\", \"Air conditioning\", \"Paid parking on premises\", \"Gym\", \"Cable TV\", \"Mini fridge\", \"Crib\", \"Iron\", \"Coffee maker\", \"Smoke alarm\", \"Private entrance\", \"TV with standard cable\", \"Carbon monoxide alarm\", \"Shampoo\", \"First aid kit\", \"Bed linens\", \"Shower gel\", \"Dedicated workspace\"]                                                                                                                                                                                                                                                                                                                                                                                                                                                                                                                                13\n",
       "[\"Washer\", \"Shampoo\", \"TV\", \"Dedicated workspace\", \"Essentials\", \"Long term stays allowed\", \"Fire extinguisher\", \"Cooking basics\", \"Air conditioning\", \"Wifi\", \"Hair dryer\", \"Lock on bedroom door\", \"Kitchen\", \"Keypad\", \"Smoke alarm\"]                                                                                                                                                                                                                                                                                                                                                                                                                                                                                                                                                                                                                                                                                                                               10\n",
       "[\"Hot water\", \"Stove\", \"Essentials\", \"TV\", \"Kitchen\", \"Gym\", \"Hangers\", \"Dishwasher\", \"Shampoo\", \"Elevator\", \"Heating\", \"Smoke alarm\", \"Refrigerator\", \"Cooking basics\", \"Oven\", \"Washer\", \"Fire extinguisher\", \"Long term stays allowed\", \"Keypad\", \"Dishes and silverware\", \"Microwave\", \"Wifi\", \"Air conditioning\", \"Dryer\", \"Coffee maker\", \"Bed linens\", \"Iron\", \"Hair dryer\"]                                                                                                                                                                                                                                                                                                                                                                                                                                                                                                                                                                                    10\n",
       "                                                                                                                                                                                                                                                                                                                                                                                                                                                                                                                                                                                                                                                                                                                                                                                                                                                                                                                                                                       ..\n",
       "[\"Hot water\", \"Essentials\", \"Kitchen\", \"Gym\", \"Washer \\u2013\\u00a0In building\", \"Hangers\", \"High chair\", \"Dishwasher\", \"Shampoo\", \"Extra pillows and blankets\", \"Security cameras on property\", \"Ethernet connection\", \"Central heating\", \"Shower gel\", \"Smoke alarm\", \"Refrigerator\", \"Pack \\u2019n play/Travel crib\", \"Dedicated workspace\", \"Private entrance\", \"Cooking basics\", \"First aid kit\", \"Toaster\", \"Wifi \\u2013 50 Mbps\", \"Fire extinguisher\", \"Central air conditioning\", \"Paid dryer \\u2013 In building\", \"Carbon monoxide alarm\", \"Long term stays allowed\", \"Dishes and silverware\", \"Cleaning products\", \"Microwave\", \"Wine glasses\", \"Freezer\", \"HDTV\", \"Coffee maker\", \"Bed linens\", \"Crib\", \"Hot water kettle\", \"Stainless steel oven\", \"Paid parking lot on premises \\u2013 1 space\", \"Bathtub\", \"Iron\", \"Hair dryer\", \"Dining table\", \"Stainless steel gas stove\", \"Smart lock\"]                                                                1\n",
       "[\"Hot water\", \"Essentials\", \"Kitchen\", \"Gym\", \"High chair\", \"Hangers\", \"Dishwasher\", \"Shampoo\", \"Extra pillows and blankets\", \"Clothing storage: dresser, closet, and wardrobe\", \"Central heating\", \"Ethernet connection\", \"Shower gel\", \"Security cameras on property\", \"Smoke alarm\", \"Refrigerator\", \"Pack \\u2019n play/Travel crib\", \"Free washer \\u2013 In unit\", \"Dedicated workspace\", \"Private entrance\", \"Cooking basics\", \"Mosquito net\", \"First aid kit\", \"Toaster\", \"Wifi \\u2013 50 Mbps\", \"Fire extinguisher\", \"Central air conditioning\", \"Carbon monoxide alarm\", \"Long term stays allowed\", \"Dishes and silverware\", \"Cleaning products\", \"Wine glasses\", \"Microwave\", \"Freezer\", \"Free dryer \\u2013 In unit\", \"HDTV\", \"Coffee maker\", \"Bed linens\", \"Crib\", \"Hot water kettle\", \"Stainless steel oven\", \"Paid parking lot on premises \\u2013 1 space\", \"Bathtub\", \"Iron\", \"Hair dryer\", \"Dining table\", \"Stainless steel gas stove\", \"Smart lock\"]     1\n",
       "[\"Hot water\", \"Essentials\", \"Kitchen\", \"Gym\", \"Washer \\u2013\\u00a0In building\", \"Hangers\", \"High chair\", \"Dishwasher\", \"Shampoo\", \"Extra pillows and blankets\", \"HDTV with Netflix, Roku\", \"Central heating\", \"Ethernet connection\", \"Shower gel\", \"Security cameras on property\", \"Smoke alarm\", \"Dedicated workspace: table\", \"Refrigerator\", \"Pack \\u2019n play/Travel crib\", \"Cooking basics\", \"Mosquito net\", \"First aid kit\", \"Toaster\", \"Wifi \\u2013 50 Mbps\", \"Fire extinguisher\", \"Central air conditioning\", \"Carbon monoxide alarm\", \"Long term stays allowed\", \"Dishes and silverware\", \"Cleaning products\", \"Microwave\", \"Wine glasses\", \"Freezer\", \"Dryer \\u2013 In building\", \"Coffee maker\", \"Bed linens\", \"Crib\", \"Hot water kettle\", \"Stainless steel oven\", \"Paid parking lot on premises \\u2013 1 space\", \"Bathtub\", \"Iron\", \"Hair dryer\", \"Dining table\", \"Stainless steel gas stove\", \"Smart lock\"]                                               1\n",
       "[\"Hot water\", \"Essentials\", \"Keurig coffee machine\", \"Kitchen\", \"Washer \\u2013\\u00a0In building\", \"Hangers\", \"High chair\", \"Dishwasher\", \"Shampoo\", \"Extra pillows and blankets\", \"HDTV with Netflix\", \"Central heating\", \"Ethernet connection\", \"Shower gel\", \"Security cameras on property\", \"Smoke alarm\", \"Dedicated workspace: table\", \"Refrigerator\", \"Pack \\u2019n play/Travel crib\", \"Cooking basics\", \"Mosquito net\", \"First aid kit\", \"Toaster\", \"Wifi \\u2013 50 Mbps\", \"Fire extinguisher\", \"Central air conditioning\", \"Carbon monoxide alarm\", \"Long term stays allowed\", \"Dishes and silverware\", \"Cleaning products\", \"Microwave\", \"Wine glasses\", \"Freezer\", \"Dryer \\u2013 In building\", \"Coffee maker\", \"Bed linens\", \"Crib\", \"Hot water kettle\", \"Stainless steel oven\", \"Paid parking lot on premises \\u2013 1 space\", \"Bathtub\", \"Iron\", \"Shared gym in building\", \"Hair dryer\", \"Dining table\", \"Stainless steel gas stove\", \"Smart lock\"]         1\n",
       "[\"TV\", \"Refrigerator\", \"Wifi\", \"Dryer\", \"Ceiling fan\", \"Baking sheet\", \"Hangers\", \"Extra pillows and blankets\", \"Hair dryer\", \"Room-darkening shades\", \"Microwave\", \"Clothing storage\", \"Dining table\", \"Oven\", \"Elevator\", \"Dishwasher\", \"Luggage dropoff allowed\", \"Bathtub\", \"Washer\", \"Hot water\", \"Conditioner\", \"Essentials\", \"Patio or balcony\", \"Hot tub\", \"Pool\", \"Heating\", \"Air conditioning\", \"Paid parking on premises\", \"Gym\", \"Outdoor furniture\", \"Cleaning products\", \"Stove\", \"Dishes and silverware\", \"Single level home\", \"Laundromat nearby\", \"Coffee maker\", \"Toaster\", \"Ethernet connection\", \"Smoke alarm\", \"Carbon monoxide alarm\", \"Kitchen\", \"Wine glasses\", \"Shampoo\", \"Free street parking\", \"Bed linens\", \"Long term stays allowed\", \"Dedicated workspace\", \"Cooking basics\"]                                                                                                                                                             1\n",
       "Name: amenities, Length: 5391, dtype: int64"
      ]
     },
     "execution_count": 20,
     "metadata": {},
     "output_type": "execute_result"
    }
   ],
   "source": [
    "#Similar exercise with Amenities\n",
    "df['amenities'].value_counts()"
   ]
  },
  {
   "cell_type": "code",
   "execution_count": 21,
   "id": "f1f92596",
   "metadata": {},
   "outputs": [
    {
     "data": {
      "text/html": [
       "<div>\n",
       "<style scoped>\n",
       "    .dataframe tbody tr th:only-of-type {\n",
       "        vertical-align: middle;\n",
       "    }\n",
       "\n",
       "    .dataframe tbody tr th {\n",
       "        vertical-align: top;\n",
       "    }\n",
       "\n",
       "    .dataframe thead th {\n",
       "        text-align: right;\n",
       "    }\n",
       "</style>\n",
       "<table border=\"1\" class=\"dataframe\">\n",
       "  <thead>\n",
       "    <tr style=\"text-align: right;\">\n",
       "      <th></th>\n",
       "      <th>description</th>\n",
       "      <th>property_type</th>\n",
       "      <th>room_type</th>\n",
       "      <th>accommodates</th>\n",
       "      <th>bedrooms</th>\n",
       "      <th>beds</th>\n",
       "      <th>price</th>\n",
       "      <th>minimum_nights</th>\n",
       "      <th>host_acceptance_rate</th>\n",
       "      <th>city</th>\n",
       "      <th>reviews_per_month</th>\n",
       "      <th>latitude</th>\n",
       "      <th>longitude</th>\n",
       "      <th>has_TV</th>\n",
       "      <th>has_AC</th>\n",
       "      <th>has_Wifi</th>\n",
       "      <th>amenities_number</th>\n",
       "    </tr>\n",
       "  </thead>\n",
       "  <tbody>\n",
       "    <tr>\n",
       "      <th>1</th>\n",
       "      <td>A very small studio in a wonderful neighborhoo...</td>\n",
       "      <td>Entire rental unit</td>\n",
       "      <td>Entire home/apt</td>\n",
       "      <td>2</td>\n",
       "      <td>1.0</td>\n",
       "      <td>1.0</td>\n",
       "      <td>65.0</td>\n",
       "      <td>2</td>\n",
       "      <td>NaN</td>\n",
       "      <td>chicago</td>\n",
       "      <td>3.34</td>\n",
       "      <td>41.90166</td>\n",
       "      <td>-87.68021</td>\n",
       "      <td>0</td>\n",
       "      <td>0</td>\n",
       "      <td>0</td>\n",
       "      <td>38</td>\n",
       "    </tr>\n",
       "    <tr>\n",
       "      <th>2</th>\n",
       "      <td>Beautiful first floor apartment in Historic Ol...</td>\n",
       "      <td>Entire rental unit</td>\n",
       "      <td>Entire home/apt</td>\n",
       "      <td>4</td>\n",
       "      <td>2.0</td>\n",
       "      <td>2.0</td>\n",
       "      <td>125.0</td>\n",
       "      <td>4</td>\n",
       "      <td>92.0</td>\n",
       "      <td>chicago</td>\n",
       "      <td>0.40</td>\n",
       "      <td>41.91196</td>\n",
       "      <td>-87.63981</td>\n",
       "      <td>0</td>\n",
       "      <td>0</td>\n",
       "      <td>0</td>\n",
       "      <td>33</td>\n",
       "    </tr>\n",
       "    <tr>\n",
       "      <th>4</th>\n",
       "      <td>Bed and Breakfast license issued by the City o...</td>\n",
       "      <td>Other</td>\n",
       "      <td>Private room</td>\n",
       "      <td>2</td>\n",
       "      <td>1.0</td>\n",
       "      <td>2.0</td>\n",
       "      <td>329.0</td>\n",
       "      <td>2</td>\n",
       "      <td>100.0</td>\n",
       "      <td>chicago</td>\n",
       "      <td>0.09</td>\n",
       "      <td>41.92357</td>\n",
       "      <td>-87.64947</td>\n",
       "      <td>0</td>\n",
       "      <td>0</td>\n",
       "      <td>0</td>\n",
       "      <td>22</td>\n",
       "    </tr>\n",
       "    <tr>\n",
       "      <th>9</th>\n",
       "      <td>Comfort and style. Recently named as one of th...</td>\n",
       "      <td>Private room in residential home</td>\n",
       "      <td>Private room</td>\n",
       "      <td>2</td>\n",
       "      <td>1.0</td>\n",
       "      <td>1.0</td>\n",
       "      <td>110.0</td>\n",
       "      <td>3</td>\n",
       "      <td>NaN</td>\n",
       "      <td>chicago</td>\n",
       "      <td>2.01</td>\n",
       "      <td>41.97303</td>\n",
       "      <td>-87.66567</td>\n",
       "      <td>0</td>\n",
       "      <td>0</td>\n",
       "      <td>0</td>\n",
       "      <td>37</td>\n",
       "    </tr>\n",
       "    <tr>\n",
       "      <th>10</th>\n",
       "      <td>Very close to all the Chicago action for both ...</td>\n",
       "      <td>Entire condominium (condo)</td>\n",
       "      <td>Entire home/apt</td>\n",
       "      <td>4</td>\n",
       "      <td>1.0</td>\n",
       "      <td>2.0</td>\n",
       "      <td>79.0</td>\n",
       "      <td>2</td>\n",
       "      <td>NaN</td>\n",
       "      <td>chicago</td>\n",
       "      <td>0.31</td>\n",
       "      <td>41.84576</td>\n",
       "      <td>-87.61871</td>\n",
       "      <td>0</td>\n",
       "      <td>0</td>\n",
       "      <td>0</td>\n",
       "      <td>47</td>\n",
       "    </tr>\n",
       "  </tbody>\n",
       "</table>\n",
       "</div>"
      ],
      "text/plain": [
       "                                          description  \\\n",
       "1   A very small studio in a wonderful neighborhoo...   \n",
       "2   Beautiful first floor apartment in Historic Ol...   \n",
       "4   Bed and Breakfast license issued by the City o...   \n",
       "9   Comfort and style. Recently named as one of th...   \n",
       "10  Very close to all the Chicago action for both ...   \n",
       "\n",
       "                       property_type        room_type  accommodates  bedrooms  \\\n",
       "1                 Entire rental unit  Entire home/apt             2       1.0   \n",
       "2                 Entire rental unit  Entire home/apt             4       2.0   \n",
       "4                              Other     Private room             2       1.0   \n",
       "9   Private room in residential home     Private room             2       1.0   \n",
       "10        Entire condominium (condo)  Entire home/apt             4       1.0   \n",
       "\n",
       "    beds  price  minimum_nights  host_acceptance_rate     city  \\\n",
       "1    1.0   65.0               2                   NaN  chicago   \n",
       "2    2.0  125.0               4                  92.0  chicago   \n",
       "4    2.0  329.0               2                 100.0  chicago   \n",
       "9    1.0  110.0               3                   NaN  chicago   \n",
       "10   2.0   79.0               2                   NaN  chicago   \n",
       "\n",
       "    reviews_per_month  latitude  longitude has_TV has_AC has_Wifi  \\\n",
       "1                3.34  41.90166  -87.68021      0      0        0   \n",
       "2                0.40  41.91196  -87.63981      0      0        0   \n",
       "4                0.09  41.92357  -87.64947      0      0        0   \n",
       "9                2.01  41.97303  -87.66567      0      0        0   \n",
       "10               0.31  41.84576  -87.61871      0      0        0   \n",
       "\n",
       "    amenities_number  \n",
       "1                 38  \n",
       "2                 33  \n",
       "4                 22  \n",
       "9                 37  \n",
       "10                47  "
      ]
     },
     "execution_count": 21,
     "metadata": {},
     "output_type": "execute_result"
    }
   ],
   "source": [
    "#The Amenities list is far more extensive than property type. For analytical purposes, I will focus in only \n",
    "#3 key amenities: TV, AC and Wifi.\n",
    "#Derive key amenities from list and turn them into categorical variables, then drop amenities\n",
    "df['has_TV'] = df.amenities.apply(lambda s: int('TV' in str(s)[1:].split(','))).astype(\"category\")\n",
    "df['has_AC'] = df.amenities.apply(lambda s: int('Air conditioning' in str(s)[1:].split(','))).astype(\"category\")\n",
    "\n",
    "df['has_Wifi'] = df.amenities.apply(lambda s: int('Wifi' in str(s)[1:].split(','))).astype(\"category\")\n",
    "df['amenities_number'] = df.amenities.apply(lambda s: len(str(s)[1:].split(',')))\n",
    "df = df.drop(columns = 'amenities')\n",
    "df.head()"
   ]
  },
  {
   "cell_type": "code",
   "execution_count": 22,
   "id": "8e4cc7b0",
   "metadata": {},
   "outputs": [],
   "source": [
    "#In order to address the location criterion, I will create a variable that establishes how close\n",
    "#a property is to the city centre, assuming that this is a positive signal.\n",
    "#Calculate distance to city center to establish premium location\n",
    "#Geographic coordinates for each city were taken from this website: https://dateandtime.info/citycoordinates.php?id=4930956\n",
    "lat_center_dict = {'chicago': 41.8500300, 'cambridge': 42.3751000, 'boston': 42.3584300, 'denver':39.7391500}\n",
    "lon_center_dict = {'chicago': -87.6500500, 'cambridge': -71.1056100, 'boston': -71.0597700, 'denver':-104.9847000}"
   ]
  },
  {
   "cell_type": "code",
   "execution_count": 23,
   "id": "07ee4c8c",
   "metadata": {},
   "outputs": [
    {
     "data": {
      "text/html": [
       "<div>\n",
       "<style scoped>\n",
       "    .dataframe tbody tr th:only-of-type {\n",
       "        vertical-align: middle;\n",
       "    }\n",
       "\n",
       "    .dataframe tbody tr th {\n",
       "        vertical-align: top;\n",
       "    }\n",
       "\n",
       "    .dataframe thead th {\n",
       "        text-align: right;\n",
       "    }\n",
       "</style>\n",
       "<table border=\"1\" class=\"dataframe\">\n",
       "  <thead>\n",
       "    <tr style=\"text-align: right;\">\n",
       "      <th></th>\n",
       "      <th>description</th>\n",
       "      <th>property_type</th>\n",
       "      <th>room_type</th>\n",
       "      <th>accommodates</th>\n",
       "      <th>bedrooms</th>\n",
       "      <th>beds</th>\n",
       "      <th>price</th>\n",
       "      <th>minimum_nights</th>\n",
       "      <th>host_acceptance_rate</th>\n",
       "      <th>city</th>\n",
       "      <th>reviews_per_month</th>\n",
       "      <th>latitude</th>\n",
       "      <th>longitude</th>\n",
       "      <th>has_TV</th>\n",
       "      <th>has_AC</th>\n",
       "      <th>has_Wifi</th>\n",
       "      <th>amenities_number</th>\n",
       "      <th>lat_center</th>\n",
       "      <th>lon_center</th>\n",
       "    </tr>\n",
       "  </thead>\n",
       "  <tbody>\n",
       "    <tr>\n",
       "      <th>1</th>\n",
       "      <td>A very small studio in a wonderful neighborhoo...</td>\n",
       "      <td>Entire rental unit</td>\n",
       "      <td>Entire home/apt</td>\n",
       "      <td>2</td>\n",
       "      <td>1.0</td>\n",
       "      <td>1.0</td>\n",
       "      <td>65.0</td>\n",
       "      <td>2</td>\n",
       "      <td>NaN</td>\n",
       "      <td>chicago</td>\n",
       "      <td>3.34</td>\n",
       "      <td>41.90166</td>\n",
       "      <td>-87.68021</td>\n",
       "      <td>0</td>\n",
       "      <td>0</td>\n",
       "      <td>0</td>\n",
       "      <td>38</td>\n",
       "      <td>41.85003</td>\n",
       "      <td>-87.65005</td>\n",
       "    </tr>\n",
       "    <tr>\n",
       "      <th>2</th>\n",
       "      <td>Beautiful first floor apartment in Historic Ol...</td>\n",
       "      <td>Entire rental unit</td>\n",
       "      <td>Entire home/apt</td>\n",
       "      <td>4</td>\n",
       "      <td>2.0</td>\n",
       "      <td>2.0</td>\n",
       "      <td>125.0</td>\n",
       "      <td>4</td>\n",
       "      <td>92.0</td>\n",
       "      <td>chicago</td>\n",
       "      <td>0.40</td>\n",
       "      <td>41.91196</td>\n",
       "      <td>-87.63981</td>\n",
       "      <td>0</td>\n",
       "      <td>0</td>\n",
       "      <td>0</td>\n",
       "      <td>33</td>\n",
       "      <td>41.85003</td>\n",
       "      <td>-87.65005</td>\n",
       "    </tr>\n",
       "    <tr>\n",
       "      <th>4</th>\n",
       "      <td>Bed and Breakfast license issued by the City o...</td>\n",
       "      <td>Other</td>\n",
       "      <td>Private room</td>\n",
       "      <td>2</td>\n",
       "      <td>1.0</td>\n",
       "      <td>2.0</td>\n",
       "      <td>329.0</td>\n",
       "      <td>2</td>\n",
       "      <td>100.0</td>\n",
       "      <td>chicago</td>\n",
       "      <td>0.09</td>\n",
       "      <td>41.92357</td>\n",
       "      <td>-87.64947</td>\n",
       "      <td>0</td>\n",
       "      <td>0</td>\n",
       "      <td>0</td>\n",
       "      <td>22</td>\n",
       "      <td>41.85003</td>\n",
       "      <td>-87.65005</td>\n",
       "    </tr>\n",
       "    <tr>\n",
       "      <th>9</th>\n",
       "      <td>Comfort and style. Recently named as one of th...</td>\n",
       "      <td>Private room in residential home</td>\n",
       "      <td>Private room</td>\n",
       "      <td>2</td>\n",
       "      <td>1.0</td>\n",
       "      <td>1.0</td>\n",
       "      <td>110.0</td>\n",
       "      <td>3</td>\n",
       "      <td>NaN</td>\n",
       "      <td>chicago</td>\n",
       "      <td>2.01</td>\n",
       "      <td>41.97303</td>\n",
       "      <td>-87.66567</td>\n",
       "      <td>0</td>\n",
       "      <td>0</td>\n",
       "      <td>0</td>\n",
       "      <td>37</td>\n",
       "      <td>41.85003</td>\n",
       "      <td>-87.65005</td>\n",
       "    </tr>\n",
       "    <tr>\n",
       "      <th>10</th>\n",
       "      <td>Very close to all the Chicago action for both ...</td>\n",
       "      <td>Entire condominium (condo)</td>\n",
       "      <td>Entire home/apt</td>\n",
       "      <td>4</td>\n",
       "      <td>1.0</td>\n",
       "      <td>2.0</td>\n",
       "      <td>79.0</td>\n",
       "      <td>2</td>\n",
       "      <td>NaN</td>\n",
       "      <td>chicago</td>\n",
       "      <td>0.31</td>\n",
       "      <td>41.84576</td>\n",
       "      <td>-87.61871</td>\n",
       "      <td>0</td>\n",
       "      <td>0</td>\n",
       "      <td>0</td>\n",
       "      <td>47</td>\n",
       "      <td>41.85003</td>\n",
       "      <td>-87.65005</td>\n",
       "    </tr>\n",
       "  </tbody>\n",
       "</table>\n",
       "</div>"
      ],
      "text/plain": [
       "                                          description  \\\n",
       "1   A very small studio in a wonderful neighborhoo...   \n",
       "2   Beautiful first floor apartment in Historic Ol...   \n",
       "4   Bed and Breakfast license issued by the City o...   \n",
       "9   Comfort and style. Recently named as one of th...   \n",
       "10  Very close to all the Chicago action for both ...   \n",
       "\n",
       "                       property_type        room_type  accommodates  bedrooms  \\\n",
       "1                 Entire rental unit  Entire home/apt             2       1.0   \n",
       "2                 Entire rental unit  Entire home/apt             4       2.0   \n",
       "4                              Other     Private room             2       1.0   \n",
       "9   Private room in residential home     Private room             2       1.0   \n",
       "10        Entire condominium (condo)  Entire home/apt             4       1.0   \n",
       "\n",
       "    beds  price  minimum_nights  host_acceptance_rate     city  \\\n",
       "1    1.0   65.0               2                   NaN  chicago   \n",
       "2    2.0  125.0               4                  92.0  chicago   \n",
       "4    2.0  329.0               2                 100.0  chicago   \n",
       "9    1.0  110.0               3                   NaN  chicago   \n",
       "10   2.0   79.0               2                   NaN  chicago   \n",
       "\n",
       "    reviews_per_month  latitude  longitude has_TV has_AC has_Wifi  \\\n",
       "1                3.34  41.90166  -87.68021      0      0        0   \n",
       "2                0.40  41.91196  -87.63981      0      0        0   \n",
       "4                0.09  41.92357  -87.64947      0      0        0   \n",
       "9                2.01  41.97303  -87.66567      0      0        0   \n",
       "10               0.31  41.84576  -87.61871      0      0        0   \n",
       "\n",
       "    amenities_number  lat_center  lon_center  \n",
       "1                 38    41.85003   -87.65005  \n",
       "2                 33    41.85003   -87.65005  \n",
       "4                 22    41.85003   -87.65005  \n",
       "9                 37    41.85003   -87.65005  \n",
       "10                47    41.85003   -87.65005  "
      ]
     },
     "execution_count": 23,
     "metadata": {},
     "output_type": "execute_result"
    }
   ],
   "source": [
    "df['lat_center'] = df.city.replace(lat_center_dict)\n",
    "df['lon_center'] = df.city.replace(lon_center_dict)\n",
    "df.head()"
   ]
  },
  {
   "cell_type": "code",
   "execution_count": 24,
   "id": "02d18b02",
   "metadata": {},
   "outputs": [
    {
     "name": "stdout",
     "output_type": "stream",
     "text": [
      "CPU times: user 1.22 s, sys: 4.95 ms, total: 1.22 s\n",
      "Wall time: 1.22 s\n"
     ]
    }
   ],
   "source": [
    "%%time\n",
    "# calculates distance of property to city center using Geopy https://geopy.readthedocs.io/en/stable/#module-geopy.distance\n",
    "df['distance_center'] = df.apply(lambda x: distance.distance((x['latitude'], x['longitude']), (x['lat_center'], x['lon_center'])).km, axis = 1)"
   ]
  },
  {
   "cell_type": "code",
   "execution_count": 25,
   "id": "24b0acd9",
   "metadata": {},
   "outputs": [
    {
     "data": {
      "text/html": [
       "<div>\n",
       "<style scoped>\n",
       "    .dataframe tbody tr th:only-of-type {\n",
       "        vertical-align: middle;\n",
       "    }\n",
       "\n",
       "    .dataframe tbody tr th {\n",
       "        vertical-align: top;\n",
       "    }\n",
       "\n",
       "    .dataframe thead th {\n",
       "        text-align: right;\n",
       "    }\n",
       "</style>\n",
       "<table border=\"1\" class=\"dataframe\">\n",
       "  <thead>\n",
       "    <tr style=\"text-align: right;\">\n",
       "      <th></th>\n",
       "      <th>description</th>\n",
       "      <th>property_type</th>\n",
       "      <th>room_type</th>\n",
       "      <th>accommodates</th>\n",
       "      <th>bedrooms</th>\n",
       "      <th>beds</th>\n",
       "      <th>price</th>\n",
       "      <th>minimum_nights</th>\n",
       "      <th>host_acceptance_rate</th>\n",
       "      <th>city</th>\n",
       "      <th>reviews_per_month</th>\n",
       "      <th>has_TV</th>\n",
       "      <th>has_AC</th>\n",
       "      <th>has_Wifi</th>\n",
       "      <th>amenities_number</th>\n",
       "      <th>distance_center</th>\n",
       "    </tr>\n",
       "  </thead>\n",
       "  <tbody>\n",
       "    <tr>\n",
       "      <th>1</th>\n",
       "      <td>A very small studio in a wonderful neighborhoo...</td>\n",
       "      <td>Entire rental unit</td>\n",
       "      <td>Entire home/apt</td>\n",
       "      <td>2</td>\n",
       "      <td>1.0</td>\n",
       "      <td>1.0</td>\n",
       "      <td>65.0</td>\n",
       "      <td>2</td>\n",
       "      <td>NaN</td>\n",
       "      <td>chicago</td>\n",
       "      <td>3.34</td>\n",
       "      <td>0</td>\n",
       "      <td>0</td>\n",
       "      <td>0</td>\n",
       "      <td>38</td>\n",
       "      <td>6.257290</td>\n",
       "    </tr>\n",
       "    <tr>\n",
       "      <th>2</th>\n",
       "      <td>Beautiful first floor apartment in Historic Ol...</td>\n",
       "      <td>Entire rental unit</td>\n",
       "      <td>Entire home/apt</td>\n",
       "      <td>4</td>\n",
       "      <td>2.0</td>\n",
       "      <td>2.0</td>\n",
       "      <td>125.0</td>\n",
       "      <td>4</td>\n",
       "      <td>92.0</td>\n",
       "      <td>chicago</td>\n",
       "      <td>0.40</td>\n",
       "      <td>0</td>\n",
       "      <td>0</td>\n",
       "      <td>0</td>\n",
       "      <td>33</td>\n",
       "      <td>6.930941</td>\n",
       "    </tr>\n",
       "    <tr>\n",
       "      <th>4</th>\n",
       "      <td>Bed and Breakfast license issued by the City o...</td>\n",
       "      <td>Other</td>\n",
       "      <td>Private room</td>\n",
       "      <td>2</td>\n",
       "      <td>1.0</td>\n",
       "      <td>2.0</td>\n",
       "      <td>329.0</td>\n",
       "      <td>2</td>\n",
       "      <td>100.0</td>\n",
       "      <td>chicago</td>\n",
       "      <td>0.09</td>\n",
       "      <td>0</td>\n",
       "      <td>0</td>\n",
       "      <td>0</td>\n",
       "      <td>22</td>\n",
       "      <td>8.168310</td>\n",
       "    </tr>\n",
       "    <tr>\n",
       "      <th>9</th>\n",
       "      <td>Comfort and style. Recently named as one of th...</td>\n",
       "      <td>Private room in residential home</td>\n",
       "      <td>Private room</td>\n",
       "      <td>2</td>\n",
       "      <td>1.0</td>\n",
       "      <td>1.0</td>\n",
       "      <td>110.0</td>\n",
       "      <td>3</td>\n",
       "      <td>NaN</td>\n",
       "      <td>chicago</td>\n",
       "      <td>2.01</td>\n",
       "      <td>0</td>\n",
       "      <td>0</td>\n",
       "      <td>0</td>\n",
       "      <td>37</td>\n",
       "      <td>13.723129</td>\n",
       "    </tr>\n",
       "    <tr>\n",
       "      <th>10</th>\n",
       "      <td>Very close to all the Chicago action for both ...</td>\n",
       "      <td>Entire condominium (condo)</td>\n",
       "      <td>Entire home/apt</td>\n",
       "      <td>4</td>\n",
       "      <td>1.0</td>\n",
       "      <td>2.0</td>\n",
       "      <td>79.0</td>\n",
       "      <td>2</td>\n",
       "      <td>NaN</td>\n",
       "      <td>chicago</td>\n",
       "      <td>0.31</td>\n",
       "      <td>0</td>\n",
       "      <td>0</td>\n",
       "      <td>0</td>\n",
       "      <td>47</td>\n",
       "      <td>2.645575</td>\n",
       "    </tr>\n",
       "  </tbody>\n",
       "</table>\n",
       "</div>"
      ],
      "text/plain": [
       "                                          description  \\\n",
       "1   A very small studio in a wonderful neighborhoo...   \n",
       "2   Beautiful first floor apartment in Historic Ol...   \n",
       "4   Bed and Breakfast license issued by the City o...   \n",
       "9   Comfort and style. Recently named as one of th...   \n",
       "10  Very close to all the Chicago action for both ...   \n",
       "\n",
       "                       property_type        room_type  accommodates  bedrooms  \\\n",
       "1                 Entire rental unit  Entire home/apt             2       1.0   \n",
       "2                 Entire rental unit  Entire home/apt             4       2.0   \n",
       "4                              Other     Private room             2       1.0   \n",
       "9   Private room in residential home     Private room             2       1.0   \n",
       "10        Entire condominium (condo)  Entire home/apt             4       1.0   \n",
       "\n",
       "    beds  price  minimum_nights  host_acceptance_rate     city  \\\n",
       "1    1.0   65.0               2                   NaN  chicago   \n",
       "2    2.0  125.0               4                  92.0  chicago   \n",
       "4    2.0  329.0               2                 100.0  chicago   \n",
       "9    1.0  110.0               3                   NaN  chicago   \n",
       "10   2.0   79.0               2                   NaN  chicago   \n",
       "\n",
       "    reviews_per_month has_TV has_AC has_Wifi  amenities_number  \\\n",
       "1                3.34      0      0        0                38   \n",
       "2                0.40      0      0        0                33   \n",
       "4                0.09      0      0        0                22   \n",
       "9                2.01      0      0        0                37   \n",
       "10               0.31      0      0        0                47   \n",
       "\n",
       "    distance_center  \n",
       "1          6.257290  \n",
       "2          6.930941  \n",
       "4          8.168310  \n",
       "9         13.723129  \n",
       "10         2.645575  "
      ]
     },
     "execution_count": 25,
     "metadata": {},
     "output_type": "execute_result"
    }
   ],
   "source": [
    "#Drop latitude, longitude, lat_center & lon_center columns\n",
    "df = df.drop(columns = ['latitude', 'longitude', 'lat_center', 'lon_center'])\n",
    "df.head()"
   ]
  },
  {
   "cell_type": "markdown",
   "id": "edb1d4f8",
   "metadata": {},
   "source": [
    "Summary of data preparation:\n",
    "These are the steps I took for pre-processing and feature engineering.\n",
    "- eliminate outliers from the 3 key numeric variables such as price, accomodates and availability\n",
    "- I binned property type to get only the most frequent types\n",
    "- I identified the top 3 amenities and include an overall count of amenities available in the rental\n",
    "- I derived a new variable 'distance_center' to account for close the rental unit is from main attractions in a city\n",
    "\n",
    "Next I will move to engineer the target variable for my model."
   ]
  },
  {
   "cell_type": "markdown",
   "id": "2edbde97",
   "metadata": {},
   "source": [
    "<h2>Calculating Yield as target variable for model</h2>\n",
    "Calculate yield using as guidance the San Francisco Model available at <a href= 'http://insideairbnb.com/about.html'>Inside Airbnb</a>.<br>\n",
    "The given formula for Yield is: Average length of stay * Price * No. of reviews/month * Review Rate\n",
    "I will use 2 variables to calculate Yield: 'Price' and 'Monthly Reviews' as proxies of possible gains derived from the $ amount gains from renting times the frequency of renting."
   ]
  },
  {
   "cell_type": "code",
   "execution_count": 26,
   "id": "c5806b22",
   "metadata": {},
   "outputs": [
    {
     "name": "stderr",
     "output_type": "stream",
     "text": [
      "/opt/anaconda3/lib/python3.7/site-packages/seaborn/distributions.py:2619: FutureWarning: `distplot` is a deprecated function and will be removed in a future version. Please adapt your code to use either `displot` (a figure-level function with similar flexibility) or `histplot` (an axes-level function for histograms).\n",
      "  warnings.warn(msg, FutureWarning)\n",
      "/opt/anaconda3/lib/python3.7/site-packages/seaborn/distributions.py:2619: FutureWarning: `distplot` is a deprecated function and will be removed in a future version. Please adapt your code to use either `displot` (a figure-level function with similar flexibility) or `histplot` (an axes-level function for histograms).\n",
      "  warnings.warn(msg, FutureWarning)\n"
     ]
    },
    {
     "data": {
      "text/plain": [
       "<AxesSubplot:xlabel='reviews_per_month', ylabel='Density'>"
      ]
     },
     "execution_count": 26,
     "metadata": {},
     "output_type": "execute_result"
    },
    {
     "data": {
      "image/png": "[encoded data removed]",
      "text/plain": [
       "<Figure size 1152x288 with 2 Axes>"
      ]
     },
     "metadata": {
      "needs_background": "light"
     },
     "output_type": "display_data"
    }
   ],
   "source": [
    "#Distribution of yield, reviews_per_month\n",
    "%matplotlib inline\n",
    "\n",
    "fig, axs = plt.subplots(ncols=2, figsize=(16, 4))\n",
    "fig.suptitle('Distribution of variables for calculation of yield')\n",
    "x_axis=df['price'].dropna()\n",
    "sns.distplot(pd.Series(x_axis, name=x_axis.name), ax=axs[0])\n",
    "x_axis=df['reviews_per_month'].dropna()\n",
    "sns.distplot(pd.Series(x_axis, name=x_axis.name), ax=axs[1])"
   ]
  },
  {
   "cell_type": "code",
   "execution_count": 27,
   "id": "ee5cbf5e",
   "metadata": {},
   "outputs": [
    {
     "data": {
      "text/html": [
       "<div>\n",
       "<style scoped>\n",
       "    .dataframe tbody tr th:only-of-type {\n",
       "        vertical-align: middle;\n",
       "    }\n",
       "\n",
       "    .dataframe tbody tr th {\n",
       "        vertical-align: top;\n",
       "    }\n",
       "\n",
       "    .dataframe thead th {\n",
       "        text-align: right;\n",
       "    }\n",
       "</style>\n",
       "<table border=\"1\" class=\"dataframe\">\n",
       "  <thead>\n",
       "    <tr style=\"text-align: right;\">\n",
       "      <th></th>\n",
       "      <th>count</th>\n",
       "      <th>mean</th>\n",
       "      <th>std</th>\n",
       "      <th>min</th>\n",
       "      <th>25%</th>\n",
       "      <th>50%</th>\n",
       "      <th>75%</th>\n",
       "      <th>max</th>\n",
       "    </tr>\n",
       "  </thead>\n",
       "  <tbody>\n",
       "    <tr>\n",
       "      <th>accommodates</th>\n",
       "      <td>5911.0</td>\n",
       "      <td>3.622399</td>\n",
       "      <td>2.058830</td>\n",
       "      <td>1.000000</td>\n",
       "      <td>2.000000</td>\n",
       "      <td>3.000000</td>\n",
       "      <td>5.000000</td>\n",
       "      <td>10.000000</td>\n",
       "    </tr>\n",
       "    <tr>\n",
       "      <th>bedrooms</th>\n",
       "      <td>5425.0</td>\n",
       "      <td>1.632995</td>\n",
       "      <td>0.858144</td>\n",
       "      <td>1.000000</td>\n",
       "      <td>1.000000</td>\n",
       "      <td>1.000000</td>\n",
       "      <td>2.000000</td>\n",
       "      <td>7.000000</td>\n",
       "    </tr>\n",
       "    <tr>\n",
       "      <th>beds</th>\n",
       "      <td>5818.0</td>\n",
       "      <td>1.899794</td>\n",
       "      <td>1.201725</td>\n",
       "      <td>0.000000</td>\n",
       "      <td>1.000000</td>\n",
       "      <td>2.000000</td>\n",
       "      <td>2.000000</td>\n",
       "      <td>12.000000</td>\n",
       "    </tr>\n",
       "    <tr>\n",
       "      <th>price</th>\n",
       "      <td>5911.0</td>\n",
       "      <td>156.506682</td>\n",
       "      <td>123.308211</td>\n",
       "      <td>11.000000</td>\n",
       "      <td>80.000000</td>\n",
       "      <td>123.000000</td>\n",
       "      <td>194.000000</td>\n",
       "      <td>1000.000000</td>\n",
       "    </tr>\n",
       "    <tr>\n",
       "      <th>minimum_nights</th>\n",
       "      <td>5911.0</td>\n",
       "      <td>16.868889</td>\n",
       "      <td>27.737076</td>\n",
       "      <td>1.000000</td>\n",
       "      <td>2.000000</td>\n",
       "      <td>3.000000</td>\n",
       "      <td>30.000000</td>\n",
       "      <td>365.000000</td>\n",
       "    </tr>\n",
       "    <tr>\n",
       "      <th>host_acceptance_rate</th>\n",
       "      <td>4988.0</td>\n",
       "      <td>87.294106</td>\n",
       "      <td>22.697705</td>\n",
       "      <td>0.000000</td>\n",
       "      <td>87.000000</td>\n",
       "      <td>97.000000</td>\n",
       "      <td>100.000000</td>\n",
       "      <td>100.000000</td>\n",
       "    </tr>\n",
       "    <tr>\n",
       "      <th>reviews_per_month</th>\n",
       "      <td>5040.0</td>\n",
       "      <td>3.904218</td>\n",
       "      <td>8.191664</td>\n",
       "      <td>0.020000</td>\n",
       "      <td>0.660000</td>\n",
       "      <td>2.070000</td>\n",
       "      <td>4.280000</td>\n",
       "      <td>185.380000</td>\n",
       "    </tr>\n",
       "    <tr>\n",
       "      <th>amenities_number</th>\n",
       "      <td>5911.0</td>\n",
       "      <td>32.487566</td>\n",
       "      <td>11.659327</td>\n",
       "      <td>1.000000</td>\n",
       "      <td>25.000000</td>\n",
       "      <td>32.000000</td>\n",
       "      <td>39.000000</td>\n",
       "      <td>78.000000</td>\n",
       "    </tr>\n",
       "    <tr>\n",
       "      <th>distance_center</th>\n",
       "      <td>5911.0</td>\n",
       "      <td>5.855662</td>\n",
       "      <td>4.430716</td>\n",
       "      <td>0.023885</td>\n",
       "      <td>2.380271</td>\n",
       "      <td>4.784746</td>\n",
       "      <td>8.009964</td>\n",
       "      <td>23.939544</td>\n",
       "    </tr>\n",
       "  </tbody>\n",
       "</table>\n",
       "</div>"
      ],
      "text/plain": [
       "                       count        mean         std        min        25%  \\\n",
       "accommodates          5911.0    3.622399    2.058830   1.000000   2.000000   \n",
       "bedrooms              5425.0    1.632995    0.858144   1.000000   1.000000   \n",
       "beds                  5818.0    1.899794    1.201725   0.000000   1.000000   \n",
       "price                 5911.0  156.506682  123.308211  11.000000  80.000000   \n",
       "minimum_nights        5911.0   16.868889   27.737076   1.000000   2.000000   \n",
       "host_acceptance_rate  4988.0   87.294106   22.697705   0.000000  87.000000   \n",
       "reviews_per_month     5040.0    3.904218    8.191664   0.020000   0.660000   \n",
       "amenities_number      5911.0   32.487566   11.659327   1.000000  25.000000   \n",
       "distance_center       5911.0    5.855662    4.430716   0.023885   2.380271   \n",
       "\n",
       "                             50%         75%          max  \n",
       "accommodates            3.000000    5.000000    10.000000  \n",
       "bedrooms                1.000000    2.000000     7.000000  \n",
       "beds                    2.000000    2.000000    12.000000  \n",
       "price                 123.000000  194.000000  1000.000000  \n",
       "minimum_nights          3.000000   30.000000   365.000000  \n",
       "host_acceptance_rate   97.000000  100.000000   100.000000  \n",
       "reviews_per_month       2.070000    4.280000   185.380000  \n",
       "amenities_number       32.000000   39.000000    78.000000  \n",
       "distance_center         4.784746    8.009964    23.939544  "
      ]
     },
     "execution_count": 27,
     "metadata": {},
     "output_type": "execute_result"
    }
   ],
   "source": [
    "#Get basic stats for all columns\n",
    "df.describe().T"
   ]
  },
  {
   "cell_type": "code",
   "execution_count": 28,
   "id": "539a6799",
   "metadata": {},
   "outputs": [
    {
     "name": "stdout",
     "output_type": "stream",
     "text": [
      "Dataset has 5911 rows, 17 columns.\n"
     ]
    }
   ],
   "source": [
    "# Calculate yield using as guidance the San Francisco Model available at http://insideairbnb.com/about.html\n",
    "# The formula for Yield is: Average length of stay * Price * No. of reviews/month * Review Rate\n",
    "# Avg length stay in US cities is around 3 nights according to the Budget and Legislative Analyst's Office\n",
    "avg_length_of_stay_cities = 3\n",
    "review_rate = 3.31\n",
    "df['yield'] = avg_length_of_stay_cities * df['price'] * (df['reviews_per_month'] / review_rate) * 12\n",
    "\n",
    "print(\"Dataset has {} rows, {} columns.\".format(*df.shape))"
   ]
  },
  {
   "cell_type": "code",
   "execution_count": 29,
   "id": "d3b4b019",
   "metadata": {},
   "outputs": [
    {
     "data": {
      "text/plain": [
       "count      5040.000000\n",
       "mean       6408.640850\n",
       "std       13818.241482\n",
       "min           8.157100\n",
       "25%         788.356495\n",
       "50%        2724.797583\n",
       "75%        6582.942598\n",
       "max      223896.072508\n",
       "Name: yield, dtype: float64"
      ]
     },
     "execution_count": 29,
     "metadata": {},
     "output_type": "execute_result"
    }
   ],
   "source": [
    "#Have a look at the newly created variable - The mean suggests a potential yield of US$6230 a year\n",
    "df['yield'].describe()"
   ]
  },
  {
   "cell_type": "code",
   "execution_count": 30,
   "id": "a50a1744",
   "metadata": {},
   "outputs": [
    {
     "data": {
      "text/html": [
       "<div>\n",
       "<style scoped>\n",
       "    .dataframe tbody tr th:only-of-type {\n",
       "        vertical-align: middle;\n",
       "    }\n",
       "\n",
       "    .dataframe tbody tr th {\n",
       "        vertical-align: top;\n",
       "    }\n",
       "\n",
       "    .dataframe thead th {\n",
       "        text-align: right;\n",
       "    }\n",
       "</style>\n",
       "<table border=\"1\" class=\"dataframe\">\n",
       "  <thead>\n",
       "    <tr style=\"text-align: right;\">\n",
       "      <th></th>\n",
       "      <th>description</th>\n",
       "      <th>property_type</th>\n",
       "      <th>room_type</th>\n",
       "      <th>accommodates</th>\n",
       "      <th>bedrooms</th>\n",
       "      <th>beds</th>\n",
       "      <th>price</th>\n",
       "      <th>minimum_nights</th>\n",
       "      <th>host_acceptance_rate</th>\n",
       "      <th>city</th>\n",
       "      <th>reviews_per_month</th>\n",
       "      <th>has_TV</th>\n",
       "      <th>has_AC</th>\n",
       "      <th>has_Wifi</th>\n",
       "      <th>amenities_number</th>\n",
       "      <th>distance_center</th>\n",
       "      <th>yield</th>\n",
       "    </tr>\n",
       "  </thead>\n",
       "  <tbody>\n",
       "    <tr>\n",
       "      <th>1</th>\n",
       "      <td>A very small studio in a wonderful neighborhoo...</td>\n",
       "      <td>Entire rental unit</td>\n",
       "      <td>Entire home/apt</td>\n",
       "      <td>2</td>\n",
       "      <td>1.0</td>\n",
       "      <td>1.0</td>\n",
       "      <td>65.0</td>\n",
       "      <td>2</td>\n",
       "      <td>NaN</td>\n",
       "      <td>chicago</td>\n",
       "      <td>3.34</td>\n",
       "      <td>0</td>\n",
       "      <td>0</td>\n",
       "      <td>0</td>\n",
       "      <td>38</td>\n",
       "      <td>6.257290</td>\n",
       "      <td>2361.208459</td>\n",
       "    </tr>\n",
       "    <tr>\n",
       "      <th>2</th>\n",
       "      <td>Beautiful first floor apartment in Historic Ol...</td>\n",
       "      <td>Entire rental unit</td>\n",
       "      <td>Entire home/apt</td>\n",
       "      <td>4</td>\n",
       "      <td>2.0</td>\n",
       "      <td>2.0</td>\n",
       "      <td>125.0</td>\n",
       "      <td>4</td>\n",
       "      <td>92.0</td>\n",
       "      <td>chicago</td>\n",
       "      <td>0.40</td>\n",
       "      <td>0</td>\n",
       "      <td>0</td>\n",
       "      <td>0</td>\n",
       "      <td>33</td>\n",
       "      <td>6.930941</td>\n",
       "      <td>543.806647</td>\n",
       "    </tr>\n",
       "    <tr>\n",
       "      <th>4</th>\n",
       "      <td>Bed and Breakfast license issued by the City o...</td>\n",
       "      <td>Other</td>\n",
       "      <td>Private room</td>\n",
       "      <td>2</td>\n",
       "      <td>1.0</td>\n",
       "      <td>2.0</td>\n",
       "      <td>329.0</td>\n",
       "      <td>2</td>\n",
       "      <td>100.0</td>\n",
       "      <td>chicago</td>\n",
       "      <td>0.09</td>\n",
       "      <td>0</td>\n",
       "      <td>0</td>\n",
       "      <td>0</td>\n",
       "      <td>22</td>\n",
       "      <td>8.168310</td>\n",
       "      <td>322.042296</td>\n",
       "    </tr>\n",
       "    <tr>\n",
       "      <th>9</th>\n",
       "      <td>Comfort and style. Recently named as one of th...</td>\n",
       "      <td>Private room in residential home</td>\n",
       "      <td>Private room</td>\n",
       "      <td>2</td>\n",
       "      <td>1.0</td>\n",
       "      <td>1.0</td>\n",
       "      <td>110.0</td>\n",
       "      <td>3</td>\n",
       "      <td>NaN</td>\n",
       "      <td>chicago</td>\n",
       "      <td>2.01</td>\n",
       "      <td>0</td>\n",
       "      <td>0</td>\n",
       "      <td>0</td>\n",
       "      <td>37</td>\n",
       "      <td>13.723129</td>\n",
       "      <td>2404.712991</td>\n",
       "    </tr>\n",
       "    <tr>\n",
       "      <th>10</th>\n",
       "      <td>Very close to all the Chicago action for both ...</td>\n",
       "      <td>Entire condominium (condo)</td>\n",
       "      <td>Entire home/apt</td>\n",
       "      <td>4</td>\n",
       "      <td>1.0</td>\n",
       "      <td>2.0</td>\n",
       "      <td>79.0</td>\n",
       "      <td>2</td>\n",
       "      <td>NaN</td>\n",
       "      <td>chicago</td>\n",
       "      <td>0.31</td>\n",
       "      <td>0</td>\n",
       "      <td>0</td>\n",
       "      <td>0</td>\n",
       "      <td>47</td>\n",
       "      <td>2.645575</td>\n",
       "      <td>266.356495</td>\n",
       "    </tr>\n",
       "  </tbody>\n",
       "</table>\n",
       "</div>"
      ],
      "text/plain": [
       "                                          description  \\\n",
       "1   A very small studio in a wonderful neighborhoo...   \n",
       "2   Beautiful first floor apartment in Historic Ol...   \n",
       "4   Bed and Breakfast license issued by the City o...   \n",
       "9   Comfort and style. Recently named as one of th...   \n",
       "10  Very close to all the Chicago action for both ...   \n",
       "\n",
       "                       property_type        room_type  accommodates  bedrooms  \\\n",
       "1                 Entire rental unit  Entire home/apt             2       1.0   \n",
       "2                 Entire rental unit  Entire home/apt             4       2.0   \n",
       "4                              Other     Private room             2       1.0   \n",
       "9   Private room in residential home     Private room             2       1.0   \n",
       "10        Entire condominium (condo)  Entire home/apt             4       1.0   \n",
       "\n",
       "    beds  price  minimum_nights  host_acceptance_rate     city  \\\n",
       "1    1.0   65.0               2                   NaN  chicago   \n",
       "2    2.0  125.0               4                  92.0  chicago   \n",
       "4    2.0  329.0               2                 100.0  chicago   \n",
       "9    1.0  110.0               3                   NaN  chicago   \n",
       "10   2.0   79.0               2                   NaN  chicago   \n",
       "\n",
       "    reviews_per_month has_TV has_AC has_Wifi  amenities_number  \\\n",
       "1                3.34      0      0        0                38   \n",
       "2                0.40      0      0        0                33   \n",
       "4                0.09      0      0        0                22   \n",
       "9                2.01      0      0        0                37   \n",
       "10               0.31      0      0        0                47   \n",
       "\n",
       "    distance_center        yield  \n",
       "1          6.257290  2361.208459  \n",
       "2          6.930941   543.806647  \n",
       "4          8.168310   322.042296  \n",
       "9         13.723129  2404.712991  \n",
       "10         2.645575   266.356495  "
      ]
     },
     "execution_count": 30,
     "metadata": {},
     "output_type": "execute_result"
    }
   ],
   "source": [
    "df.head()"
   ]
  },
  {
   "cell_type": "markdown",
   "id": "c7063ddf",
   "metadata": {},
   "source": [
    "<h2>Text Cleaning and Mining of Rental Descriptions</h2>\n",
    "\n"
   ]
  },
  {
   "cell_type": "code",
   "execution_count": 31,
   "id": "7fc87640",
   "metadata": {},
   "outputs": [
    {
     "name": "stderr",
     "output_type": "stream",
     "text": [
      "<>:14: DeprecationWarning: invalid escape sequence \\[\n",
      "<>:14: DeprecationWarning: invalid escape sequence \\[\n",
      "<>:14: DeprecationWarning: invalid escape sequence \\[\n",
      "<ipython-input-31-ed71e3b35ed8>:14: DeprecationWarning: invalid escape sequence \\[\n",
      "  self.text = re.sub('\\[[^]]*\\]', '', self.text)\n"
     ]
    }
   ],
   "source": [
    "#Define a class that removes special HTML characters, numbers, symbols, stopwords \n",
    "#and performs tokenization and lemmatization\n",
    "class cleantext():\n",
    "    \n",
    "    def __init__(self, text = \"test\"):\n",
    "        self.text = text\n",
    "        \n",
    "    def strip_html(self):\n",
    "        soup = BeautifulSoup(self.text, \"html.parser\")\n",
    "        self.text = soup.get_text()\n",
    "        return self\n",
    "\n",
    "    def remove_between_square_brackets(self):\n",
    "        self.text = re.sub('\\[[^]]*\\]', '', self.text)\n",
    "        return self\n",
    "\n",
    "    def remove_numbers(self):\n",
    "        self.text = re.sub('[-+]?[0-9]+', '', self.text)\n",
    "        return self\n",
    "    \n",
    "    def remove_special_characters(self):\n",
    "        self.text = re.sub('<br />', '', self.text)\n",
    "        return self\n",
    "  \n",
    "    def get_words(self):\n",
    "        self.words = nltk.word_tokenize(self.text)\n",
    "        return self\n",
    "\n",
    "    def to_lowercase(self):\n",
    "        \"\"\"Convert all characters to lowercase from list of tokenized words\"\"\"\n",
    "        new_words = []\n",
    "        for word in self.words:\n",
    "            new_word = word.lower()\n",
    "            new_words.append(new_word)\n",
    "        self.words = new_words\n",
    "        return self\n",
    "\n",
    "    def remove_punctuation(self):\n",
    "        \"\"\"Remove punctuation from list of tokenized words\"\"\"\n",
    "        new_words = []\n",
    "        for word in self.words:\n",
    "            new_word = re.sub(r'[^\\w\\s]', '', word)\n",
    "            if new_word != '':\n",
    "                new_words.append(new_word)\n",
    "        self.words = new_words\n",
    "        return self\n",
    "\n",
    "    def replace_numbers(self):\n",
    "        \"\"\"Replace all interger occurrences in list of tokenized words with textual representation\"\"\"\n",
    "        p = inflect.engine()\n",
    "        new_words = []\n",
    "        for word in self.words:\n",
    "            if word.isdigit():\n",
    "                new_word = p.number_to_words(word)\n",
    "                new_words.append(new_word)\n",
    "            else:\n",
    "                new_words.append(word)\n",
    "        self.words = new_words\n",
    "        return self\n",
    "\n",
    "    def remove_stopwords(self):\n",
    "        \"\"\"Remove stop words from list of tokenized words\"\"\"\n",
    "        new_words = []\n",
    "        for word in self.words:\n",
    "            if word not in stopwords.words('english'):\n",
    "                new_words.append(word)\n",
    "        self.words = new_words\n",
    "        return self\n",
    "\n",
    "    def stem_words(self):\n",
    "        \"\"\"Stem words in list of tokenized words\"\"\"\n",
    "        stemmer = LancasterStemmer()\n",
    "        stems = []\n",
    "        for word in self.words:\n",
    "            stem = stemmer.stem(word)\n",
    "            stems.append(stem)\n",
    "        self.words = stems\n",
    "        return self\n",
    "\n",
    "    def lemmatize_verbs(self):\n",
    "        \"\"\"Lemmatize verbs in list of tokenized words\"\"\"\n",
    "        lemmatizer = WordNetLemmatizer()\n",
    "        lemmas = []\n",
    "        for word in self.words:\n",
    "            lemma = lemmatizer.lemmatize(word, pos='v')\n",
    "            lemmas.append(lemma)\n",
    "        self.words = lemmas\n",
    "        return self\n",
    "    \n",
    "    def join_words(self):\n",
    "        self.words = ' '.join(self.words)\n",
    "        return self\n",
    "    \n",
    "    def do_all(self, text):\n",
    "        \n",
    "        self.text = text\n",
    "        self = self.strip_html()\n",
    "        self = self.remove_numbers()\n",
    "        self = self.remove_special_characters()\n",
    "        self = self.get_words()\n",
    "        self = self.remove_punctuation()\n",
    "        self = self.remove_stopwords()\n",
    "        self = self.stem_words()\n",
    "        self = self.lemmatize_verbs()\n",
    "        self = self.join_words()\n",
    "        \n",
    "        return self.words"
   ]
  },
  {
   "cell_type": "code",
   "execution_count": 32,
   "id": "997d0a25",
   "metadata": {},
   "outputs": [],
   "source": [
    "#Initiates class\n",
    "ct = cleantext(df)"
   ]
  },
  {
   "cell_type": "code",
   "execution_count": 33,
   "id": "c2294c16",
   "metadata": {},
   "outputs": [
    {
     "name": "stdout",
     "output_type": "stream",
     "text": [
      "CPU times: user 1min 47s, sys: 30.9 s, total: 2min 18s\n",
      "Wall time: 2min 19s\n"
     ]
    }
   ],
   "source": [
    "%%time\n",
    "#Apply to description column\n",
    "df['cleaned_description'] = df['description'].apply(ct.do_all)"
   ]
  },
  {
   "cell_type": "code",
   "execution_count": 34,
   "id": "720be368",
   "metadata": {},
   "outputs": [
    {
     "data": {
      "text/html": [
       "<div>\n",
       "<style scoped>\n",
       "    .dataframe tbody tr th:only-of-type {\n",
       "        vertical-align: middle;\n",
       "    }\n",
       "\n",
       "    .dataframe tbody tr th {\n",
       "        vertical-align: top;\n",
       "    }\n",
       "\n",
       "    .dataframe thead th {\n",
       "        text-align: right;\n",
       "    }\n",
       "</style>\n",
       "<table border=\"1\" class=\"dataframe\">\n",
       "  <thead>\n",
       "    <tr style=\"text-align: right;\">\n",
       "      <th></th>\n",
       "      <th>property_type</th>\n",
       "      <th>room_type</th>\n",
       "      <th>accommodates</th>\n",
       "      <th>bedrooms</th>\n",
       "      <th>beds</th>\n",
       "      <th>price</th>\n",
       "      <th>minimum_nights</th>\n",
       "      <th>host_acceptance_rate</th>\n",
       "      <th>city</th>\n",
       "      <th>reviews_per_month</th>\n",
       "      <th>has_TV</th>\n",
       "      <th>has_AC</th>\n",
       "      <th>has_Wifi</th>\n",
       "      <th>amenities_number</th>\n",
       "      <th>distance_center</th>\n",
       "      <th>yield</th>\n",
       "      <th>cleaned_description</th>\n",
       "    </tr>\n",
       "  </thead>\n",
       "  <tbody>\n",
       "    <tr>\n",
       "      <th>1</th>\n",
       "      <td>Entire rental unit</td>\n",
       "      <td>Entire home/apt</td>\n",
       "      <td>2</td>\n",
       "      <td>1.0</td>\n",
       "      <td>1.0</td>\n",
       "      <td>65.0</td>\n",
       "      <td>2</td>\n",
       "      <td>NaN</td>\n",
       "      <td>chicago</td>\n",
       "      <td>3.34</td>\n",
       "      <td>0</td>\n",
       "      <td>0</td>\n",
       "      <td>0</td>\n",
       "      <td>38</td>\n",
       "      <td>6.257290</td>\n",
       "      <td>2361.208459</td>\n",
       "      <td>a smal studio wond neighborhoodth spaceth smal...</td>\n",
       "    </tr>\n",
       "    <tr>\n",
       "      <th>2</th>\n",
       "      <td>Entire rental unit</td>\n",
       "      <td>Entire home/apt</td>\n",
       "      <td>4</td>\n",
       "      <td>2.0</td>\n",
       "      <td>2.0</td>\n",
       "      <td>125.0</td>\n",
       "      <td>4</td>\n",
       "      <td>92.0</td>\n",
       "      <td>chicago</td>\n",
       "      <td>0.40</td>\n",
       "      <td>0</td>\n",
       "      <td>0</td>\n",
       "      <td>0</td>\n",
       "      <td>33</td>\n",
       "      <td>6.930941</td>\n",
       "      <td>543.806647</td>\n",
       "      <td>beauty first flo apart hist old town treelin s...</td>\n",
       "    </tr>\n",
       "    <tr>\n",
       "      <th>4</th>\n",
       "      <td>Other</td>\n",
       "      <td>Private room</td>\n",
       "      <td>2</td>\n",
       "      <td>1.0</td>\n",
       "      <td>2.0</td>\n",
       "      <td>329.0</td>\n",
       "      <td>2</td>\n",
       "      <td>100.0</td>\n",
       "      <td>chicago</td>\n",
       "      <td>0.09</td>\n",
       "      <td>0</td>\n",
       "      <td>0</td>\n",
       "      <td>0</td>\n",
       "      <td>22</td>\n",
       "      <td>8.168310</td>\n",
       "      <td>322.042296</td>\n",
       "      <td>bed breakfast licens issu city chicago the spa...</td>\n",
       "    </tr>\n",
       "    <tr>\n",
       "      <th>9</th>\n",
       "      <td>Private room in residential home</td>\n",
       "      <td>Private room</td>\n",
       "      <td>2</td>\n",
       "      <td>1.0</td>\n",
       "      <td>1.0</td>\n",
       "      <td>110.0</td>\n",
       "      <td>3</td>\n",
       "      <td>NaN</td>\n",
       "      <td>chicago</td>\n",
       "      <td>2.01</td>\n",
       "      <td>0</td>\n",
       "      <td>0</td>\n",
       "      <td>0</td>\n",
       "      <td>37</td>\n",
       "      <td>13.723129</td>\n",
       "      <td>2404.712991</td>\n",
       "      <td>comfort styl rec nam on unbeliev airbnb chicag...</td>\n",
       "    </tr>\n",
       "    <tr>\n",
       "      <th>10</th>\n",
       "      <td>Entire condominium (condo)</td>\n",
       "      <td>Entire home/apt</td>\n",
       "      <td>4</td>\n",
       "      <td>1.0</td>\n",
       "      <td>2.0</td>\n",
       "      <td>79.0</td>\n",
       "      <td>2</td>\n",
       "      <td>NaN</td>\n",
       "      <td>chicago</td>\n",
       "      <td>0.31</td>\n",
       "      <td>0</td>\n",
       "      <td>0</td>\n",
       "      <td>0</td>\n",
       "      <td>47</td>\n",
       "      <td>2.645575</td>\n",
       "      <td>266.356495</td>\n",
       "      <td>very clos chicago act busy pleas travel step a...</td>\n",
       "    </tr>\n",
       "  </tbody>\n",
       "</table>\n",
       "</div>"
      ],
      "text/plain": [
       "                       property_type        room_type  accommodates  bedrooms  \\\n",
       "1                 Entire rental unit  Entire home/apt             2       1.0   \n",
       "2                 Entire rental unit  Entire home/apt             4       2.0   \n",
       "4                              Other     Private room             2       1.0   \n",
       "9   Private room in residential home     Private room             2       1.0   \n",
       "10        Entire condominium (condo)  Entire home/apt             4       1.0   \n",
       "\n",
       "    beds  price  minimum_nights  host_acceptance_rate     city  \\\n",
       "1    1.0   65.0               2                   NaN  chicago   \n",
       "2    2.0  125.0               4                  92.0  chicago   \n",
       "4    2.0  329.0               2                 100.0  chicago   \n",
       "9    1.0  110.0               3                   NaN  chicago   \n",
       "10   2.0   79.0               2                   NaN  chicago   \n",
       "\n",
       "    reviews_per_month has_TV has_AC has_Wifi  amenities_number  \\\n",
       "1                3.34      0      0        0                38   \n",
       "2                0.40      0      0        0                33   \n",
       "4                0.09      0      0        0                22   \n",
       "9                2.01      0      0        0                37   \n",
       "10               0.31      0      0        0                47   \n",
       "\n",
       "    distance_center        yield  \\\n",
       "1          6.257290  2361.208459   \n",
       "2          6.930941   543.806647   \n",
       "4          8.168310   322.042296   \n",
       "9         13.723129  2404.712991   \n",
       "10         2.645575   266.356495   \n",
       "\n",
       "                                  cleaned_description  \n",
       "1   a smal studio wond neighborhoodth spaceth smal...  \n",
       "2   beauty first flo apart hist old town treelin s...  \n",
       "4   bed breakfast licens issu city chicago the spa...  \n",
       "9   comfort styl rec nam on unbeliev airbnb chicag...  \n",
       "10  very clos chicago act busy pleas travel step a...  "
      ]
     },
     "execution_count": 34,
     "metadata": {},
     "output_type": "execute_result"
    }
   ],
   "source": [
    "#Drop description and replace with cleaned_description\n",
    "df = df.drop(columns = ['description'])\n",
    "df.head()"
   ]
  },
  {
   "cell_type": "markdown",
   "id": "e90cd674",
   "metadata": {},
   "source": [
    "<h2>Topic Modelling for Descriptions</h2>\n",
    "Since there is no existing Topic Directory for Airbnb reviews that I can use as starting point (similar to the Reuters news categories), I will create one based on descriptions using Latent Dirichlet Allocation (LDA). LDA follows a generative Bayesian inference model that associates the description with a probability distribution over topics. \n",
    "This will help me establish the topics I want to introduce to my model. I will use pyLDAvis package to visualize results."
   ]
  },
  {
   "cell_type": "code",
   "execution_count": 35,
   "id": "dc268f9f",
   "metadata": {},
   "outputs": [],
   "source": [
    "#First I will have a quick look at the most frequent terms using WordCloud as part of my EDA\n",
    "# wrap the plotting in a function for easier access\n",
    "def plot_wordcloud(wordcloud, language):\n",
    "    plt.figure(figsize=(12, 10))\n",
    "    plt.imshow(wordcloud, interpolation = 'bilinear')\n",
    "    plt.axis(\"off\")\n",
    "    plt.title(language + ' Comments\\n', fontsize=18, fontweight='bold')\n",
    "    plt.show()"
   ]
  },
  {
   "cell_type": "code",
   "execution_count": 36,
   "id": "3c62b269",
   "metadata": {},
   "outputs": [
    {
     "data": {
      "image/png": "[encoded data removed]",
      "text/plain": [
       "<Figure size 864x720 with 1 Axes>"
      ]
     },
     "metadata": {
      "needs_background": "light"
     },
     "output_type": "display_data"
    }
   ],
   "source": [
    "wordcloud = WordCloud(max_font_size=None, max_words=200, background_color=\"lightgrey\", \n",
    "                      width=3000, height=2000,\n",
    "                      stopwords=stopwords.words('english')).generate(str(df.cleaned_description.values))\n",
    "\n",
    "plot_wordcloud(wordcloud, 'Descriptions')"
   ]
  },
  {
   "cell_type": "code",
   "execution_count": 37,
   "id": "a2bf0a00",
   "metadata": {},
   "outputs": [
    {
     "data": {
      "text/html": [
       "<div>\n",
       "<style scoped>\n",
       "    .dataframe tbody tr th:only-of-type {\n",
       "        vertical-align: middle;\n",
       "    }\n",
       "\n",
       "    .dataframe tbody tr th {\n",
       "        vertical-align: top;\n",
       "    }\n",
       "\n",
       "    .dataframe thead th {\n",
       "        text-align: right;\n",
       "    }\n",
       "</style>\n",
       "<table border=\"1\" class=\"dataframe\">\n",
       "  <thead>\n",
       "    <tr style=\"text-align: right;\">\n",
       "      <th></th>\n",
       "      <th>cleaned_description</th>\n",
       "    </tr>\n",
       "  </thead>\n",
       "  <tbody>\n",
       "    <tr>\n",
       "      <th>1</th>\n",
       "      <td>a smal studio wond neighborhoodth spaceth smal...</td>\n",
       "    </tr>\n",
       "    <tr>\n",
       "      <th>2</th>\n",
       "      <td>beauty first flo apart hist old town treelin s...</td>\n",
       "    </tr>\n",
       "    <tr>\n",
       "      <th>4</th>\n",
       "      <td>bed breakfast licens issu city chicago the spa...</td>\n",
       "    </tr>\n",
       "    <tr>\n",
       "      <th>9</th>\n",
       "      <td>comfort styl rec nam on unbeliev airbnb chicag...</td>\n",
       "    </tr>\n",
       "    <tr>\n",
       "      <th>10</th>\n",
       "      <td>very clos chicago act busy pleas travel step a...</td>\n",
       "    </tr>\n",
       "  </tbody>\n",
       "</table>\n",
       "</div>"
      ],
      "text/plain": [
       "                                  cleaned_description\n",
       "1   a smal studio wond neighborhoodth spaceth smal...\n",
       "2   beauty first flo apart hist old town treelin s...\n",
       "4   bed breakfast licens issu city chicago the spa...\n",
       "9   comfort styl rec nam on unbeliev airbnb chicag...\n",
       "10  very clos chicago act busy pleas travel step a..."
      ]
     },
     "execution_count": 37,
     "metadata": {},
     "output_type": "execute_result"
    }
   ],
   "source": [
    "nlp_feats = ['cleaned_description']\n",
    "corpus = df[nlp_feats]\n",
    "corpus.head()"
   ]
  },
  {
   "cell_type": "code",
   "execution_count": 38,
   "id": "90293ca1",
   "metadata": {},
   "outputs": [],
   "source": [
    "def preprocess_text(corpus):\n",
    "    \"\"\"Takes a corpus in list format and applies basic preprocessing steps of word tokenization,\n",
    "     removing of english stop words and lemmatization.\"\"\"\n",
    "    processed_corpus = []\n",
    "    english_words = set(nltk.corpus.words.words())\n",
    "    english_stopwords = set(stopwords.words('english'))\n",
    "    wordnet_lemmatizer = WordNetLemmatizer()\n",
    "    tokenizer = RegexpTokenizer(r'[\\w|!]+')\n",
    "    for row in corpus:\n",
    "        word_tokens = tokenizer.tokenize(row)\n",
    "        word_tokens_lower = [t.lower() for t in word_tokens]\n",
    "        word_tokens_lower_english = [t for t in word_tokens_lower if t in english_words or not t.isalpha()]\n",
    "        word_tokens_no_stops = [t for t in word_tokens_lower_english if not t in english_stopwords]\n",
    "        word_tokens_no_stops_lemmatized = [wordnet_lemmatizer.lemmatize(t) for t in word_tokens_no_stops]\n",
    "        processed_corpus.append(word_tokens_no_stops_lemmatized)\n",
    "    return processed_corpus"
   ]
  },
  {
   "cell_type": "code",
   "execution_count": 39,
   "id": "f1b80072",
   "metadata": {},
   "outputs": [],
   "source": [
    "def nlp_model_pipeline(processed_corpus):\n",
    "    \"\"\"Takes processed corpus and produce dictionary, doc_term_matrix and LDA model\"\"\"\n",
    "    # Creates the term dictionary (every unique term in corpus is assigned an index)\n",
    "    dictionary = Dictionary(processed_corpus)\n",
    "    # Convert corpus into Document Term Matrix using dictionary prepared above\n",
    "    doc_term_matrix = [dictionary.doc2bow(listing) for listing in processed_corpus]    \n",
    "    return dictionary, doc_term_matrix"
   ]
  },
  {
   "cell_type": "code",
   "execution_count": 40,
   "id": "8a7f7a80",
   "metadata": {},
   "outputs": [],
   "source": [
    "def LDA_topic_modelling(doc_term_matrix, dictionary, num_topics=3, passes=2):\n",
    "    # Create an object for LDA model and train it on Document-Term-Matrix\n",
    "    LDA = LdaModel\n",
    "    ldamodel = LDA(doc_term_matrix, num_topics=num_topics, id2word = dictionary, passes=passes)\n",
    "    return ldamodel"
   ]
  },
  {
   "cell_type": "code",
   "execution_count": 41,
   "id": "8d747b17",
   "metadata": {},
   "outputs": [],
   "source": [
    "def add_topics_to_df(ldamodel, doc_term_matrix, df, new_col, num_topics):\n",
    "    '''This function stores the topics as defined by the LDA model \n",
    "    and will incorporate them as columns to the dataframe'''\n",
    "    # Convert into Per-document topic probability matrix:\n",
    "    docTopicProbMat = ldamodel[doc_term_matrix]\n",
    "    docTopicProbDf = pd.DataFrame(index=df.index, dtype='float', columns=range(0, num_topics))\n",
    "    for i, doc in enumerate(docTopicProbMat):\n",
    "        for topic in doc:\n",
    "            docTopicProbDf.loc[i, topic[0]] = topic[1]\n",
    "    docTopicProbDf[new_col] = docTopicProbDf.idxmax(axis=1)\n",
    "    df_topics = docTopicProbDf[new_col]\n",
    "    # Merge with df\n",
    "    df_new = pd.concat([df, df_topics], axis=1)\n",
    "    return df_new"
   ]
  },
  {
   "cell_type": "code",
   "execution_count": 42,
   "id": "bbadb41e",
   "metadata": {},
   "outputs": [
    {
     "name": "stdout",
     "output_type": "stream",
     "text": [
      "CPU times: user 2.33 s, sys: 27 ms, total: 2.36 s\n",
      "Wall time: 2.38 s\n"
     ]
    }
   ],
   "source": [
    "%%time\n",
    "corpus_description = corpus['cleaned_description'].astype(str)\n",
    "processed_corpus_description = preprocess_text(corpus_description)\n",
    "dictionary_description, doc_term_matrix_description = nlp_model_pipeline(processed_corpus_description)"
   ]
  },
  {
   "cell_type": "code",
   "execution_count": 43,
   "id": "abaf11c4",
   "metadata": {},
   "outputs": [
    {
     "name": "stdout",
     "output_type": "stream",
     "text": [
      "CPU times: user 35.5 s, sys: 157 ms, total: 35.7 s\n",
      "Wall time: 35.9 s\n"
     ]
    }
   ],
   "source": [
    "%%time\n",
    "ldamodel_description = LDA_topic_modelling(doc_term_matrix_description, dictionary_description, num_topics=3, passes=10)"
   ]
  },
  {
   "cell_type": "code",
   "execution_count": 44,
   "id": "0f3c68a1",
   "metadata": {},
   "outputs": [
    {
     "name": "stderr",
     "output_type": "stream",
     "text": [
      "/opt/anaconda3/lib/python3.7/site-packages/pyLDAvis/_prepare.py:247: FutureWarning: In a future version of pandas all arguments of DataFrame.drop except for the argument 'labels' will be keyword-only\n",
      "  by='saliency', ascending=False).head(R).drop('saliency', 1)\n"
     ]
    },
    {
     "name": "stdout",
     "output_type": "stream",
     "text": [
      "CPU times: user 2.45 s, sys: 253 ms, total: 2.71 s\n",
      "Wall time: 4.85 s\n"
     ]
    }
   ],
   "source": [
    "%%time\n",
    "p = gensimvis.prepare(ldamodel_description, doc_term_matrix_description, dictionary_description)"
   ]
  },
  {
   "cell_type": "code",
   "execution_count": 45,
   "id": "20ad23b5",
   "metadata": {},
   "outputs": [
    {
     "data": {
      "text/html": [
       "<style>.container { max-width:100% !important; }</style>"
      ],
      "text/plain": [
       "<IPython.core.display.HTML object>"
      ]
     },
     "metadata": {},
     "output_type": "display_data"
    },
    {
     "data": {
      "text/html": [
       "<style>.output_result { max-width:100% !important; }</style>"
      ],
      "text/plain": [
       "<IPython.core.display.HTML object>"
      ]
     },
     "metadata": {},
     "output_type": "display_data"
    },
    {
     "data": {
      "text/html": [
       "<style>.output_area { max-width:100% !important; }</style>"
      ],
      "text/plain": [
       "<IPython.core.display.HTML object>"
      ]
     },
     "metadata": {},
     "output_type": "display_data"
    },
    {
     "data": {
      "text/html": [
       "<style>.input_area { max-width:100% !important; }</style>"
      ],
      "text/plain": [
       "<IPython.core.display.HTML object>"
      ]
     },
     "metadata": {},
     "output_type": "display_data"
    },
    {
     "data": {
      "text/html": [
       "\n",
       "<link rel=\"stylesheet\" type=\"text/css\" href=\"https://cdn.jsdelivr.net/gh/bmabey/pyLDAvis@3.3.1/pyLDAvis/js/ldavis.v1.0.0.css\">\n",
       "\n",
       "\n",
       "<div id=\"ldavis_el44441403362157993766157189426\"></div>\n",
       "<script type=\"text/javascript\">\n",
       "\n",
       "var ldavis_el44441403362157993766157189426_data = {\"mdsDat\": {\"x\": [-0.07100101266271679, -0.11377969003592309, 0.18478070269863975], \"y\": [-0.091407546023356, 0.0783103837206318, 0.013097162302724232], \"topics\": [1, 2, 3], \"cluster\": [1, 1, 1], \"Freq\": [48.70827475717677, 33.08541397351713, 18.206311269306113]}, \"tinfo\": {\"Term\": [\"apart\", \"boston\", \"stay\", \"design\", \"best\", \"modern\", \"studio\", \"feel\", \"lin\", \"comfort\", \"luxury\", \"towel\", \"view\", \"art\", \"find\", \"room\", \"start\", \"smart\", \"un\", \"new\", \"min\", \"id\", \"wireless\", \"bed\", \"beauty\", \"every\", \"mattress\", \"speak\", \"show\", \"u\", \"lock\", \"thatch\", \"key\", \"respect\", \"permit\", \"bus\", \"quart\", \"twin\", \"coin\", \"driveway\", \"rout\", \"bank\", \"send\", \"note\", \"study\", \"proof\", \"slight\", \"inquiry\", \"cod\", \"belong\", \"valet\", \"lockbox\", \"harry\", \"portfolio\", \"camera\", \"hear\", \"drop\", \"limit\", \"intern\", \"afford\", \"stud\", \"must\", \"item\", \"airport\", \"min\", \"request\", \"oh\", \"orang\", \"ask\", \"adult\", \"common\", \"pay\", \"dress\", \"room\", \"stop\", \"ba\", \"desk\", \"train\", \"u\", \"bathroom\", \"bedroom\", \"thing\", \"area\", \"guest\", \"two\", \"avail\", \"bed\", \"quiet\", \"access\", \"park\", \"street\", \"queen\", \"walk\", \"second\", \"unit\", \"downtown\", \"transport\", \"laundry\", \"rent\", \"block\", \"lin\", \"also\", \"apart\", \"away\", \"cent\", \"din\", \"stay\", \"easy\", \"new\", \"comfort\", \"stainless\", \"steel\", \"carry\", \"pit\", \"fir\", \"origin\", \"boast\", \"soak\", \"colorado\", \"art\", \"gallery\", \"highlight\", \"bronco\", \"quartz\", \"scoot\", \"rain\", \"pearl\", \"curt\", \"skylight\", \"sustain\", \"fe\", \"sant\", \"glass\", \"lush\", \"vault\", \"sunset\", \"giant\", \"spa\", \"sunroom\", \"rocky\", \"mountain\", \"creek\", \"cherry\", \"loft\", \"win\", \"wood\", \"gas\", \"ceil\", \"nat\", \"brewery\", \"pool\", \"window\", \"outdo\", \"overlook\", \"ski\", \"light\", \"brand\", \"apply\", \"feat\", \"tub\", \"brick\", \"new\", \"hist\", \"perfect\", \"patio\", \"bar\", \"view\", \"enjoy\", \"high\", \"modern\", \"deck\", \"cent\", \"bath\", \"park\", \"city\", \"walk\", \"shop\", \"bed\", \"build\", \"downtown\", \"bedroom\", \"beauty\", \"unit\", \"access\", \"coff\", \"street\", \"comfort\", \"block\", \"bathroom\", \"room\", \"simply\", \"start\", \"wireless\", \"support\", \"speak\", \"latest\", \"knob\", \"chi\", \"process\", \"sond\", \"ye\", \"healthy\", \"switch\", \"crazy\", \"faucet\", \"text\", \"soph\", \"company\", \"beacon\", \"sam\", \"disinfect\", \"decad\", \"truth\", \"paty\", \"today\", \"thorough\", \"submit\", \"ready\", \"regardless\", \"glory\", \"think\", \"cheery\", \"bay\", \"every\", \"design\", \"boston\", \"happy\", \"follow\", \"apart\", \"studio\", \"id\", \"feel\", \"find\", \"towel\", \"stay\", \"best\", \"luxury\", \"smart\", \"un\", \"mind\", \"comfort\", \"modern\", \"mattress\", \"lin\", \"show\", \"nee\", \"beauty\", \"day\", \"equip\", \"view\", \"room\", \"relax\", \"guest\", \"city\", \"also\", \"build\"], \"Freq\": [4748.0, 1813.0, 2728.0, 1199.0, 1091.0, 1461.0, 849.0, 962.0, 1783.0, 2211.0, 821.0, 734.0, 993.0, 671.0, 739.0, 5705.0, 370.0, 874.0, 858.0, 2104.0, 1417.0, 548.0, 338.0, 3540.0, 1501.0, 419.0, 810.0, 312.0, 920.0, 1903.0, 372.93210319226114, 139.60024652693698, 196.69865502203965, 127.4866468908793, 153.47395105537254, 714.5062810488579, 120.87111996682512, 265.7100444398425, 72.05581311490361, 71.26083671463545, 72.87216934123073, 68.7825055992272, 61.05410849286301, 50.50059343455099, 90.23586821261799, 49.70068578552873, 47.938530823444076, 47.491848337986404, 175.35703782985394, 42.03739963181499, 39.37661600632467, 40.868645657444574, 38.12155225039014, 38.07269040880278, 38.22512324950322, 81.28024766631894, 45.98674995421334, 93.84743353609001, 89.8858345089212, 91.60295073238515, 153.58294827502476, 162.01079592096085, 77.33771613433262, 418.4326578760561, 1345.4801189330115, 200.5370060747298, 111.98161139820452, 105.4654703760062, 199.9485067852153, 104.64324836464426, 526.919243949434, 134.9777862903341, 138.59306020837477, 4444.253018257171, 544.8021756109823, 978.4758864902302, 507.5850845646591, 602.5469729315352, 1501.186008581775, 2102.5557465298466, 3445.7960516467374, 1049.6023568343196, 380.5601059841029, 2160.5318064885987, 1205.2221952688697, 1022.456626614195, 2351.5283865468064, 838.8743397389026, 1767.9095483835295, 2866.876106228842, 1521.2614731725132, 1313.3641036765232, 2257.75407585741, 424.5249183592829, 1456.3043902584561, 1616.2983017451743, 420.5227390333782, 642.8566476908811, 575.8114044055335, 841.9188742505821, 975.6147427187328, 876.0309112499547, 1674.9119444641858, 801.421080662361, 912.6279725652917, 709.4381836776569, 953.2521243238349, 729.4692633357889, 789.8455966206823, 755.1748768411159, 267.4555520155636, 222.43131615641843, 187.52764820686255, 133.62475437800973, 223.11785269866766, 209.20805590936828, 118.76008307128183, 83.27366797882284, 200.30642506966083, 665.2824323300739, 83.24970152466837, 75.03876723359497, 92.88610791914327, 48.073359959985616, 53.62077112805323, 57.69217288958079, 48.14046703523851, 45.59206920352502, 52.25215913604711, 49.92548111387328, 39.68010799463658, 38.4059843503067, 155.7242538697042, 31.211336106381808, 29.56461840405991, 60.314597758917145, 26.87326237946958, 32.96995496959519, 28.75248379208029, 105.75102551728823, 419.0428526600426, 208.33502663215322, 211.9386058179983, 434.527309718994, 116.37565171559379, 208.60279254372836, 263.47806402905724, 448.70212250008694, 491.1825219820468, 257.9382402308978, 339.28538366057575, 558.3739414898453, 491.47678347107916, 122.26807745420933, 83.69426519854889, 875.0318611330774, 372.846328005266, 472.9856805429493, 631.6998097856459, 271.5910299188622, 230.94382331083386, 1280.5852131374393, 589.9005473684081, 658.9253404018026, 480.56939727304655, 623.6753029942151, 603.75857741963, 929.4989802911222, 554.9229728156723, 743.5984616262399, 387.093602176223, 858.913959048827, 701.5665198651504, 1433.2617228842955, 763.4414813217167, 1198.4292520610657, 692.9816316104997, 1171.9145656722344, 713.592220155949, 873.959111404575, 1178.2880366847521, 640.143829886816, 771.8686807456828, 744.4448748915547, 587.1619082796907, 642.9229750931913, 630.4944215906002, 570.1788051570195, 634.2051272134826, 584.7067317249513, 226.32230517792783, 369.438165419607, 336.93085688662376, 181.81804091300654, 310.30414326514125, 95.16407873631441, 94.27218883943472, 88.92547199424888, 88.4419447780575, 64.16339112756654, 78.08993259755616, 149.8941218394892, 57.77783523335806, 46.489143708296645, 44.45527753237816, 63.59870719945617, 160.53936407234437, 102.41693175175268, 93.69998845777404, 27.79348425629946, 264.72931731402394, 25.225679263890406, 21.61457284592039, 17.476029260939665, 50.4863561516958, 86.4710102613644, 34.98578867622062, 308.9468959773314, 15.675006082097669, 16.882222527036372, 264.8510606660173, 42.970253295584705, 176.82339342665867, 348.90038667562953, 915.3070351305009, 1341.4489726780555, 234.06110437109683, 143.43633398643834, 2858.998345419671, 602.7723000524717, 394.0812201239703, 630.3265915376538, 485.06898937633974, 481.9833664549591, 1395.261257355012, 659.5108875538073, 502.43514504119565, 472.3400823917666, 449.65857354058755, 185.7898984421886, 825.771349712867, 620.8755873031223, 413.7342333098483, 674.3266845721508, 420.5293724110013, 498.4483429688048, 494.19684685838376, 389.26976203090953, 392.4897864317907, 386.0242446472302, 676.5491689979618, 353.3835729104756, 475.8867881008092, 404.23878203771727, 395.07942282822944, 375.6609715932615], \"Total\": [4748.0, 1813.0, 2728.0, 1199.0, 1091.0, 1461.0, 849.0, 962.0, 1783.0, 2211.0, 821.0, 734.0, 993.0, 671.0, 739.0, 5705.0, 370.0, 874.0, 858.0, 2104.0, 1417.0, 548.0, 338.0, 3540.0, 1501.0, 419.0, 810.0, 312.0, 920.0, 1903.0, 373.95961384646074, 140.27349367693242, 197.83414331407852, 128.27410914633012, 154.81565244105246, 720.7758768867212, 121.96976062310058, 268.36305185959276, 72.81338937364264, 72.0204534327038, 73.66061165955703, 69.5321245446164, 61.907682242583505, 51.22079317988403, 91.52318066728049, 50.43756379589067, 48.67593884843088, 48.22782159177108, 178.19856651700667, 42.73962734594911, 40.06193645932006, 41.58667982706642, 38.80634288915277, 38.75815446462428, 38.91754955182427, 82.7946224714975, 46.84633702389304, 95.61301793994654, 91.6562183268306, 93.58796732431763, 157.0520798723648, 166.67402777589805, 79.0714684425078, 435.3374107678158, 1417.3782754757842, 207.91369969427237, 115.25967903544574, 108.57017281816951, 209.29534988926204, 108.02274922672417, 571.8248074431913, 141.171734567372, 145.52206638257366, 5705.508918980084, 615.6632789433727, 1164.5526255657408, 579.6902894036713, 712.0576094545543, 1903.7187324968756, 2762.0668371257066, 4889.326004582123, 1325.042223567414, 443.24412291289156, 3034.7989916038878, 1636.9391433546364, 1370.9653679748076, 3540.9772588473397, 1100.6820909359674, 2575.374391164883, 4509.5424474683105, 2196.783290745155, 1872.5784501140527, 3592.624223951915, 516.7883813064417, 2342.808343173368, 2695.333216989134, 521.2937099208009, 933.2171104053833, 811.5681916074554, 1418.0539635152134, 1783.4316162512623, 1541.0211027933015, 4748.774950856267, 1386.7784181634443, 1916.7464823038647, 1210.0876775255308, 2728.205564726841, 1354.5199886083246, 2104.4700471862398, 2211.440648144583, 268.54524027794196, 223.35822014994955, 188.51226554165407, 134.35744687687404, 224.7399469929137, 211.0183535032033, 119.79421499616903, 84.00578858672156, 202.15133073396007, 671.6125933282402, 84.08264730310216, 75.8265414288611, 93.89675064582251, 48.78677991742927, 54.42472919037062, 58.58436100702477, 48.92319230613185, 46.38988847934577, 53.19503007618872, 50.842755960107624, 40.422682786136846, 39.15017116848127, 158.86323450332225, 31.93950248978776, 30.28013161872077, 61.880428614490796, 27.59299947692948, 33.85840686851114, 29.54738499943491, 108.72424178693971, 432.47354440427654, 214.72189716255352, 218.84697489605807, 453.3018847742786, 119.99048003070514, 216.9926127451017, 282.4689183957979, 497.4434272491378, 553.465772694712, 284.62847210352936, 385.1204164490532, 655.050817302976, 574.8823986692411, 131.30175090251808, 87.49301229698662, 1180.386622621628, 464.09711970942936, 608.5767390657552, 862.795117339575, 327.7347213135021, 271.45261930308976, 2104.4700471862398, 911.8935179646651, 1058.9585627139354, 730.5510836462901, 1035.900047105647, 993.1423848802663, 1885.3065526903058, 906.4951774677988, 1461.1415509664287, 556.0570574880059, 1916.7464823038647, 1404.7265203652112, 4509.5424474683105, 1654.4594231808312, 3592.624223951915, 1458.2489740561873, 3540.9772588473397, 1767.9469787002363, 2695.333216989134, 4889.326004582123, 1501.8423336690453, 2342.808343173368, 2575.374391164883, 1338.5579917134617, 2196.783290745155, 2211.440648144583, 1418.0539635152134, 2762.0668371257066, 5705.508918980084, 227.01581006014277, 370.6569873241814, 338.1070480838596, 182.9867750862298, 312.44808075759806, 95.82946384592812, 94.95792876526527, 89.58278349610947, 89.1551774189685, 64.81165207736866, 79.01894964457706, 151.9397459791852, 58.587339922215804, 47.17631605287925, 45.12985184830366, 64.63857878297861, 163.69830424339244, 104.65367894756373, 95.82588202138312, 28.48671029208343, 271.7652057894983, 25.922635872172826, 22.26274639658001, 18.17568438807754, 52.61936099573235, 90.19547772066005, 36.61654928807428, 323.7174918807156, 16.4520576646084, 17.762703208098518, 287.9962510417238, 45.88523540934826, 203.32609415405008, 419.22349526955014, 1199.2378973716645, 1813.4686909013872, 287.3131505541578, 169.48461693064195, 4748.774950856267, 849.9975726436486, 548.5518496456224, 962.5525795201505, 739.0850373280016, 734.7812720806943, 2728.205564726841, 1091.3774715039776, 821.5951954665154, 874.9815339584804, 858.3886365448562, 252.47438857868343, 2211.440648144583, 1461.1415509664287, 810.3887725604193, 1783.4316162512623, 920.4495182037713, 1426.6755835343379, 1501.8423336690453, 948.1917185027589, 1011.4720834805016, 993.1423848802663, 5705.508918980084, 812.24990034958, 3034.7989916038878, 1654.4594231808312, 1541.0211027933015, 1767.9469787002363], \"Category\": [\"Default\", \"Default\", \"Default\", \"Default\", \"Default\", \"Default\", \"Default\", \"Default\", \"Default\", \"Default\", \"Default\", \"Default\", \"Default\", \"Default\", \"Default\", \"Default\", \"Default\", \"Default\", \"Default\", \"Default\", \"Default\", \"Default\", \"Default\", \"Default\", \"Default\", \"Default\", \"Default\", \"Default\", \"Default\", \"Default\", \"Topic1\", \"Topic1\", \"Topic1\", \"Topic1\", \"Topic1\", \"Topic1\", \"Topic1\", \"Topic1\", \"Topic1\", \"Topic1\", \"Topic1\", \"Topic1\", \"Topic1\", \"Topic1\", \"Topic1\", \"Topic1\", \"Topic1\", \"Topic1\", \"Topic1\", \"Topic1\", \"Topic1\", \"Topic1\", \"Topic1\", \"Topic1\", \"Topic1\", \"Topic1\", \"Topic1\", \"Topic1\", \"Topic1\", \"Topic1\", \"Topic1\", \"Topic1\", \"Topic1\", \"Topic1\", \"Topic1\", \"Topic1\", \"Topic1\", \"Topic1\", \"Topic1\", \"Topic1\", \"Topic1\", \"Topic1\", \"Topic1\", \"Topic1\", \"Topic1\", \"Topic1\", \"Topic1\", \"Topic1\", \"Topic1\", \"Topic1\", \"Topic1\", \"Topic1\", \"Topic1\", \"Topic1\", \"Topic1\", \"Topic1\", \"Topic1\", \"Topic1\", \"Topic1\", \"Topic1\", \"Topic1\", \"Topic1\", \"Topic1\", \"Topic1\", \"Topic1\", \"Topic1\", \"Topic1\", \"Topic1\", \"Topic1\", \"Topic1\", \"Topic1\", \"Topic1\", \"Topic1\", \"Topic1\", \"Topic1\", \"Topic1\", \"Topic1\", \"Topic1\", \"Topic1\", \"Topic1\", \"Topic2\", \"Topic2\", \"Topic2\", \"Topic2\", \"Topic2\", \"Topic2\", \"Topic2\", \"Topic2\", \"Topic2\", \"Topic2\", \"Topic2\", \"Topic2\", \"Topic2\", \"Topic2\", \"Topic2\", \"Topic2\", \"Topic2\", \"Topic2\", \"Topic2\", \"Topic2\", \"Topic2\", \"Topic2\", \"Topic2\", \"Topic2\", \"Topic2\", \"Topic2\", \"Topic2\", \"Topic2\", \"Topic2\", \"Topic2\", \"Topic2\", \"Topic2\", \"Topic2\", \"Topic2\", \"Topic2\", \"Topic2\", \"Topic2\", \"Topic2\", \"Topic2\", \"Topic2\", \"Topic2\", \"Topic2\", \"Topic2\", \"Topic2\", \"Topic2\", \"Topic2\", \"Topic2\", \"Topic2\", \"Topic2\", \"Topic2\", \"Topic2\", \"Topic2\", \"Topic2\", \"Topic2\", \"Topic2\", \"Topic2\", \"Topic2\", \"Topic2\", \"Topic2\", \"Topic2\", \"Topic2\", \"Topic2\", \"Topic2\", \"Topic2\", \"Topic2\", \"Topic2\", \"Topic2\", \"Topic2\", \"Topic2\", \"Topic2\", \"Topic2\", \"Topic2\", \"Topic2\", \"Topic2\", \"Topic2\", \"Topic2\", \"Topic2\", \"Topic2\", \"Topic2\", \"Topic2\", \"Topic3\", \"Topic3\", \"Topic3\", \"Topic3\", \"Topic3\", \"Topic3\", \"Topic3\", \"Topic3\", \"Topic3\", \"Topic3\", \"Topic3\", \"Topic3\", \"Topic3\", \"Topic3\", \"Topic3\", \"Topic3\", \"Topic3\", \"Topic3\", \"Topic3\", \"Topic3\", \"Topic3\", \"Topic3\", \"Topic3\", \"Topic3\", \"Topic3\", \"Topic3\", \"Topic3\", \"Topic3\", \"Topic3\", \"Topic3\", \"Topic3\", \"Topic3\", \"Topic3\", \"Topic3\", \"Topic3\", \"Topic3\", \"Topic3\", \"Topic3\", \"Topic3\", \"Topic3\", \"Topic3\", \"Topic3\", \"Topic3\", \"Topic3\", \"Topic3\", \"Topic3\", \"Topic3\", \"Topic3\", \"Topic3\", \"Topic3\", \"Topic3\", \"Topic3\", \"Topic3\", \"Topic3\", \"Topic3\", \"Topic3\", \"Topic3\", \"Topic3\", \"Topic3\", \"Topic3\", \"Topic3\", \"Topic3\", \"Topic3\", \"Topic3\", \"Topic3\", \"Topic3\"], \"logprob\": [30.0, 29.0, 28.0, 27.0, 26.0, 25.0, 24.0, 23.0, 22.0, 21.0, 20.0, 19.0, 18.0, 17.0, 16.0, 15.0, 14.0, 13.0, 12.0, 11.0, 10.0, 9.0, 8.0, 7.0, 6.0, 5.0, 4.0, 3.0, 2.0, 1.0, -5.8299, -6.8125, -6.4696, -6.9033, -6.7178, -5.1797, -6.9566, -6.1689, -7.4739, -7.485, -7.4626, -7.5204, -7.6395, -7.8293, -7.2489, -7.8453, -7.8814, -7.8907, -6.5845, -8.0127, -8.0781, -8.0409, -8.1105, -8.1118, -8.1078, -7.3534, -7.9229, -7.2096, -7.2528, -7.2338, -6.7171, -6.6636, -7.4031, -5.7148, -4.5468, -6.4503, -7.033, -7.0929, -6.4532, -7.1007, -5.4843, -6.8462, -6.8198, -3.3519, -5.4509, -4.8653, -5.5216, -5.3501, -4.4373, -4.1004, -3.6064, -4.7951, -5.8097, -4.0732, -4.6569, -4.8213, -3.9885, -5.0192, -4.2737, -3.7903, -4.424, -4.571, -4.0292, -5.7003, -4.4676, -4.3634, -5.7098, -5.2854, -5.3955, -5.0156, -4.8682, -4.9759, -4.3278, -5.0649, -4.935, -5.1868, -4.8914, -5.159, -5.0795, -5.1244, -5.7756, -5.9599, -6.1306, -6.4695, -5.9568, -6.0212, -6.5874, -6.9424, -6.0647, -4.8643, -6.9427, -7.0465, -6.8332, -7.4918, -7.3826, -7.3094, -7.4904, -7.5448, -7.4085, -7.454, -7.6837, -7.7163, -6.3165, -7.9238, -7.978, -7.265, -8.0734, -7.8689, -8.0058, -6.7035, -5.3266, -6.0254, -6.0082, -5.2903, -6.6077, -6.0241, -5.7906, -5.2582, -5.1677, -5.8118, -5.5377, -5.0395, -5.1671, -6.5583, -6.9374, -4.5903, -5.4434, -5.2055, -4.9161, -5.7602, -5.9224, -4.2095, -4.9846, -4.8739, -5.1896, -4.9289, -4.9614, -4.5299, -5.0457, -4.753, -5.4059, -4.6089, -4.8112, -4.0968, -4.7267, -4.2758, -4.8235, -4.2982, -4.7942, -4.5915, -4.2927, -4.9029, -4.7157, -4.7519, -4.9892, -4.8985, -4.918, -5.0186, -4.9122, -4.9934, -5.3453, -4.8552, -4.9473, -5.5642, -5.0297, -6.2116, -6.221, -6.2794, -6.2849, -6.6058, -6.4094, -5.7573, -6.7106, -6.928, -6.9727, -6.6146, -5.6887, -6.1382, -6.2271, -7.4424, -5.1885, -7.5394, -7.6939, -7.9064, -6.8455, -6.3074, -7.2123, -5.0341, -8.0152, -7.941, -5.1881, -7.0067, -5.5921, -4.9124, -3.948, -3.5657, -5.3116, -5.8013, -2.809, -4.3657, -4.7907, -4.321, -4.5829, -4.5893, -3.5264, -4.2757, -4.5478, -4.6095, -4.6587, -5.5426, -4.0509, -4.3361, -4.742, -4.2535, -4.7257, -4.5557, -4.5643, -4.8029, -4.7947, -4.8113, -4.2502, -4.8997, -4.602, -4.7652, -4.7881, -4.8385], \"loglift\": [30.0, 29.0, 28.0, 27.0, 26.0, 25.0, 24.0, 23.0, 22.0, 21.0, 20.0, 19.0, 18.0, 17.0, 16.0, 15.0, 14.0, 13.0, 12.0, 11.0, 10.0, 9.0, 8.0, 7.0, 6.0, 5.0, 4.0, 3.0, 2.0, 1.0, 0.7166, 0.7145, 0.7136, 0.7132, 0.7106, 0.7106, 0.7103, 0.7094, 0.7089, 0.7087, 0.7086, 0.7085, 0.7054, 0.7052, 0.7052, 0.7046, 0.7041, 0.7039, 0.7032, 0.7028, 0.7021, 0.7019, 0.7015, 0.7015, 0.7014, 0.7009, 0.7008, 0.7007, 0.6998, 0.6979, 0.697, 0.6909, 0.6972, 0.6797, 0.6673, 0.6832, 0.6905, 0.6903, 0.6736, 0.6875, 0.6375, 0.6745, 0.6705, 0.4695, 0.597, 0.5452, 0.5865, 0.5523, 0.4818, 0.4465, 0.3694, 0.4863, 0.5668, 0.3795, 0.4132, 0.426, 0.31, 0.4477, 0.3431, 0.2663, 0.3519, 0.3646, 0.2548, 0.5227, 0.2439, 0.2079, 0.5045, 0.3466, 0.3761, 0.198, 0.1161, 0.1545, -0.3228, 0.171, -0.0227, 0.1853, -0.3322, 0.1004, -0.2607, -0.3551, 1.102, 1.1019, 1.1008, 1.1006, 1.0988, 1.0975, 1.0974, 1.0973, 1.0969, 1.0966, 1.0961, 1.0956, 1.0953, 1.0913, 1.0912, 1.0907, 1.0899, 1.0887, 1.0882, 1.0879, 1.0875, 1.0869, 1.0861, 1.083, 1.0822, 1.0804, 1.0796, 1.0795, 1.0788, 1.0784, 1.0745, 1.0759, 1.074, 1.0638, 1.0755, 1.0666, 1.0365, 1.003, 0.9867, 1.0076, 0.9794, 0.9464, 0.9493, 1.0348, 1.0617, 0.8067, 0.8872, 0.854, 0.7943, 0.9182, 0.9445, 0.6093, 0.6705, 0.6316, 0.6873, 0.5987, 0.6084, 0.3989, 0.6153, 0.4306, 0.7439, 0.3034, 0.4118, -0.0402, 0.3327, 0.0082, 0.3621, 0.0003, 0.1988, -0.0202, -0.3169, 0.2533, -0.0042, -0.135, 0.282, -0.1226, -0.1488, 0.195, -0.3653, -1.172, 1.7003, 1.7001, 1.6999, 1.697, 1.6965, 1.6964, 1.6962, 1.696, 1.6954, 1.6933, 1.6916, 1.6898, 1.6895, 1.6887, 1.6883, 1.6872, 1.6839, 1.6818, 1.681, 1.6788, 1.6772, 1.6761, 1.6739, 1.6641, 1.662, 1.6612, 1.6578, 1.6567, 1.655, 1.6526, 1.6196, 1.6378, 1.5637, 1.5198, 1.4332, 1.4019, 1.4984, 1.5365, 1.196, 1.3597, 1.3727, 1.2801, 1.2823, 1.2817, 1.0328, 1.1997, 1.2116, 1.0869, 1.0568, 1.3967, 0.7183, 0.8476, 1.0311, 0.7308, 0.9201, 0.6518, 0.5919, 0.8131, 0.7568, 0.7584, -0.4288, 0.8711, -0.1493, 0.2942, 0.3423, 0.1545]}, \"token.table\": {\"Topic\": [1, 2, 3, 1, 2, 1, 3, 1, 2, 3, 1, 2, 3, 1, 2, 3, 1, 2, 3, 1, 2, 3, 1, 2, 3, 1, 2, 3, 1, 2, 3, 1, 2, 3, 1, 2, 3, 1, 1, 2, 3, 1, 2, 3, 1, 2, 3, 1, 2, 3, 2, 3, 1, 2, 3, 1, 2, 3, 1, 2, 3, 1, 1, 2, 3, 1, 2, 3, 1, 2, 3, 1, 2, 3, 1, 2, 3, 1, 2, 1, 2, 3, 1, 2, 1, 2, 3, 1, 2, 3, 1, 1, 2, 1, 2, 3, 1, 2, 3, 2, 3, 1, 2, 3, 1, 2, 3, 1, 3, 1, 2, 3, 1, 1, 2, 1, 2, 3, 1, 2, 3, 2, 3, 3, 1, 2, 2, 1, 2, 3, 3, 1, 2, 3, 1, 2, 3, 1, 2, 1, 2, 3, 1, 2, 3, 1, 2, 3, 1, 2, 1, 1, 1, 2, 3, 1, 2, 3, 1, 2, 3, 1, 2, 3, 3, 2, 1, 2, 3, 1, 2, 3, 1, 2, 3, 1, 2, 1, 3, 2, 1, 2, 2, 1, 2, 3, 2, 3, 1, 2, 3, 1, 2, 3, 1, 2, 3, 1, 2, 1, 2, 3, 2, 1, 2, 3, 1, 2, 3, 1, 1, 2, 1, 2, 3, 1, 2, 3, 3, 1, 2, 3, 1, 2, 3, 1, 2, 1, 2, 3, 1, 3, 1, 1, 2, 3, 2, 1, 2, 3, 1, 2, 3, 1, 2, 3, 1, 2, 3, 1, 2, 3, 1, 2, 1, 2, 3, 1, 2, 3, 1, 2, 3, 1, 2, 3, 1, 1, 3, 1, 3, 1, 2, 3, 1, 2, 3, 1, 2, 3, 1, 2, 3, 1, 2, 3, 1, 2, 2, 1, 2, 3, 1, 2, 3, 2, 1, 2, 3, 1, 3, 1, 1, 3, 2, 1, 2, 3, 1, 2, 3, 1, 2, 1, 2, 3, 3, 1, 2, 3, 1, 2, 3, 1, 2, 1, 1, 2, 1, 2, 3, 1, 3, 2, 2, 1, 2, 3, 1, 3, 1, 2, 3, 1, 2, 3, 3, 1, 2, 1, 2, 1, 1, 2, 3, 2, 3, 2, 3, 2, 2, 3, 1, 2, 1, 2, 3, 1, 2, 3, 1, 2, 1, 2, 3, 1, 2, 3, 1, 3, 1, 2, 3, 1, 2, 1, 3, 2, 1, 2, 3, 2, 3, 2, 3, 3, 1, 3, 1, 1, 2, 3, 2, 3, 2, 3, 1, 2, 3, 1, 2, 3, 1, 2, 3, 1, 2, 3, 3, 1, 2, 1, 2, 1, 2, 3, 1, 2, 3, 1, 2, 3, 1, 2, 3, 1, 2, 1, 2, 3, 1, 2, 3, 1, 2, 3, 1, 2, 3, 1, 3, 1, 2, 3, 1, 3], \"Freq\": [0.6865021280266382, 0.28889003577591565, 0.024462462706831566, 0.972017475500648, 0.027771927871447083, 0.9830323558709773, 0.02137026860589081, 0.9601747740052081, 0.027564826047996406, 0.01148534418666517, 0.5684542531001917, 0.17520850266786733, 0.2563235501992874, 0.3527225478853183, 0.04527483450468265, 0.6020500085994777, 0.2152563376002542, 0.7772232647703834, 0.008215890748101305, 0.8595714648085158, 0.11506074725783282, 0.027073117001843016, 0.0059558144676496, 0.9901541552467459, 0.0029779072338248, 0.9555874036657757, 0.004777937018328879, 0.03822349614663103, 0.7454601143643039, 0.07585895488638708, 0.17797677877190818, 0.5775976821594833, 0.32449307986487824, 0.09806901969249653, 0.839807475016328, 0.1485549009998208, 0.012021783895939256, 0.9923470690978966, 0.3504199087684559, 0.6023747192052796, 0.04826720506452561, 0.4968938721385632, 0.49974140149179275, 0.004271294029844382, 0.7613863544983756, 0.22953825428053737, 0.009051192992134754, 0.054100286762336795, 0.07377311831227744, 0.8705227960848738, 0.020871188011123226, 0.9809458365227915, 0.24503237906536107, 0.4261432679397584, 0.328929334941001, 0.6642234129359035, 0.33098207481329883, 0.005083342445938037, 0.7048006201203432, 0.24093300362790607, 0.054199699457890584, 0.9826945766287967, 0.08063204738753789, 0.3151980034240117, 0.6047403554065341, 0.5937714795512905, 0.40195931513567174, 0.0042311506856386495, 0.008347648507333844, 0.9933701723727274, 0.008347648507333844, 0.2597232598296962, 0.0005514294263900131, 0.7394668607890077, 0.19392492686950716, 0.8037110858036242, 0.004309442819322382, 0.09134715092923974, 0.9064448053747636, 0.1289359450273745, 0.8509772371806718, 0.022103304861835628, 0.010649995799875854, 0.9904496093884544, 0.384061291532164, 0.40385826532248176, 0.2126760612902705, 0.9919865840798263, 0.002774787647775738, 0.006936969119439345, 0.9764232444644948, 0.005304694615635171, 0.9972825877394123, 0.09649338471600681, 0.9026152028643137, 0.002010278848250142, 0.4763279903884862, 0.4481552505407554, 0.07564902366520318, 0.06538050798337641, 0.9371206144283952, 0.03198582024414396, 0.96871341310836, 0.9934944698817627, 0.29435596496147565, 0.46117782600740437, 0.24418852124114204, 0.9820505485564531, 0.01122343484064518, 0.46019672200490214, 0.43853161658584017, 0.10085480108873666, 0.9888291235905978, 0.004946789102843174, 0.9893578205686347, 0.34140640429733043, 0.2848821651752559, 0.37351217211866883, 0.9216109429676248, 0.0052463621041800275, 0.07344906945852038, 0.019110651628425707, 0.974643233049711, 0.975065538149254, 0.02794312121533533, 0.9686948687982914, 0.9915953995121294, 0.26893295419480934, 0.320610266961655, 0.41025458502659146, 0.9644080996731028, 0.18703116631559574, 0.6959717438859188, 0.11689447894724733, 0.012507943613919367, 0.22430912214295398, 0.7629845604490814, 0.8763300149853825, 0.12420425409241642, 0.5859079578843503, 0.4123668138001281, 0.0016527728008021165, 0.022077881465986608, 0.0036796469109977676, 0.9751064314144084, 0.5995548119297766, 0.3242641742739014, 0.07605738641435904, 0.9551815986076825, 0.04810267043348042, 0.9858310607047577, 0.9819337630717769, 0.5381980377779415, 0.266515077692506, 0.19490299310476894, 0.3235548081714025, 0.49275806031349656, 0.183524530536566, 0.24024390190170222, 0.3717354202265022, 0.3875539487467789, 0.059634062217637944, 0.1073413119917483, 0.8324915085582257, 0.9749644237233159, 0.9895434256955897, 0.23528181363143272, 0.7325029862811108, 0.03245266394916314, 0.18284715426947284, 0.16206906855703276, 0.654509699941863, 0.1691280349172131, 0.17454013203456392, 0.6562167754787869, 0.004449587237962333, 0.9922579540656002, 0.1534062528556203, 0.8437343907059115, 0.9871240102705208, 0.06726403778477685, 0.9310758914419112, 0.9785090606976132, 0.012589445293952986, 0.981976732928333, 0.006294722646976493, 0.05629773735925913, 0.9570615351074052, 0.7120735198537528, 0.13114542383238945, 0.15684729081461654, 0.118337778602971, 0.06612993510166026, 0.8144423586204474, 0.9792213635936777, 0.013163112700438418, 0.9872334525328814, 0.9783244078186925, 0.012078079108872746, 0.25151816100874863, 0.6122481550870855, 0.1367905787942317, 0.9890995763055269, 0.2434494769690887, 0.6470053667196501, 0.10966192656265257, 0.16953730091345098, 0.11302486727563399, 0.7182548017193514, 0.9745412180926584, 0.9819301040664279, 0.010910334489626977, 0.9738025803325767, 0.012646786757565932, 0.012646786757565932, 0.995783623088992, 0.005054739203497422, 0.9899120718225305, 0.9913443755955714, 0.6890143706438099, 0.16394898710498118, 0.14680399498942762, 0.2151837331364094, 0.7412825452533789, 0.04320618263762551, 0.9831297246473314, 0.010458826857950333, 0.5472595591029907, 0.07457532926301001, 0.37792309716743416, 0.9974339104787536, 0.002674085550881377, 0.9858926024028352, 0.013236212337805956, 0.9596253944909318, 0.028678460065246235, 0.9705849366286105, 0.0012171444106756045, 0.3870519225948422, 0.6110064941591534, 0.2480291025811494, 0.2406252487727569, 0.5108659127790839, 0.9489351031209446, 0.01763819894276849, 0.03315981401240476, 0.0871375513526344, 0.1782359004940249, 0.7367083887086363, 0.0663864496467452, 0.5091909127544167, 0.4250101570167914, 0.030059642186685047, 0.9688453904785411, 0.9719570719069528, 0.023998940047085256, 0.005999735011771314, 0.11021458418829305, 0.8871370628926539, 0.0018067964621031648, 0.43387579288806244, 0.21658743134476785, 0.34906323886632484, 0.3753914203037774, 0.6087043157077707, 0.01615608644345371, 0.9956893838190162, 0.9717188260220359, 0.02602818283987596, 0.967116448970301, 0.027631898542008603, 0.004738924285014004, 0.9904351755679268, 0.004738924285014004, 0.12176403410860825, 0.8540877249618094, 0.022613320620170105, 0.06854440202158339, 0.9291574496259083, 0.0076160446690648215, 0.6357629478816758, 0.31777059794713686, 0.04634616536702833, 0.3422074179292329, 0.6584070720958441, 0.9353155367921806, 0.9562820802175054, 0.04250142578744468, 0.9811297615177057, 0.30784962837876867, 0.62230952485156, 0.06987997699395362, 0.98827216491082, 0.006459295195495556, 0.006459295195495556, 0.9973395826939045, 0.0025965904618102426, 0.8802441665536722, 0.11684657078146092, 0.9804388399010001, 0.9870430697082239, 0.9913246445117494, 0.9920491717115257, 0.00819875348521922, 0.9838730918752809, 0.7011722258792572, 0.2915765691775129, 0.007476322286602896, 0.7622546118530507, 0.2298574693668913, 0.008176747922142378, 0.017069401847364888, 0.9900253071471634, 0.01853467962185651, 0.027802019432784767, 0.9545360005256103, 0.9725227279271659, 0.1169590786765421, 0.44813794356064546, 0.4345953133980985, 0.7097370325211112, 0.2193284579665934, 0.07146657619136189, 0.9667472624245605, 0.033667815109313055, 0.9900672929649688, 0.0275927424343774, 0.9749435660146681, 0.7788963374005923, 0.10253248365871884, 0.11865725031957718, 0.991031683763227, 0.9829144788186129, 0.9706215545385088, 0.9921960256543496, 0.8223869099487094, 0.178022578153603, 0.0019350280234087282, 0.9853381323657575, 0.016153084137143565, 0.4409397924769085, 0.47522749018117827, 0.0836619823984181, 0.20859373186992597, 0.333532685854517, 0.45738521415228556, 0.9955253774621527, 0.03428845254312182, 0.9600766712074111, 0.0187987486531683, 0.9775349299647517, 0.9861134912972989, 0.3028635345035462, 0.15657473293202198, 0.5394399557949955, 0.9880271514184613, 0.9874767568584772, 0.01832639631709009, 0.9835166023505014, 0.9746471571493379, 0.006401063482773095, 0.9921648398298297, 0.0037237673583974487, 0.9942458846921187, 0.0026979121781006304, 0.0026979121781006304, 0.9955295937191326, 0.3493138538830809, 0.13928569199954957, 0.5113251061562412, 0.004477113039890177, 0.9939190948556192, 0.8852241454701537, 0.003248528974202399, 0.11207424960998277, 0.6923759873847513, 0.29270069683655164, 0.015021964223337798, 0.9805664472903179, 0.019101943778382816, 0.012941213426984243, 0.2776478517062074, 0.7094137905883181, 0.9833574329893779, 0.010926193699881978, 0.027310055683638437, 0.9558519489273453, 0.9814743335342407, 0.016160198343646022, 0.9696119006187612, 0.016160198343646022, 0.005464875806072678, 0.9946073967052275, 0.9834242667575127, 0.019668485335150254, 0.9899749686025071, 0.015470637177179577, 0.9901207793394929, 0.9980502825604223, 0.7924275780231989, 0.04452688295558927, 0.16376836612479445, 0.07986215069399584, 0.9201508666916911, 0.03326109108586521, 0.953484611128136, 0.019004411704678516, 0.019004411704678516, 0.9502205852339257, 0.2857993364546962, 0.058520816512152074, 0.6559775246245884, 0.8468415925811201, 0.0196613305076877, 0.13482055205271565, 0.8076061383206824, 0.09783352269442945, 0.09399691396131457, 0.9881979342575464, 0.17086990287621043, 0.8299395282558792, 0.9911945707756032, 0.007452590757711303, 0.7361299929150399, 0.24313671135285136, 0.020159576569457525, 0.7884568105453905, 0.04097243918890104, 0.170718496620421, 0.13280697710406233, 0.34250220411047655, 0.5242380675160355, 0.6214763594480915, 0.32951905871835624, 0.049086388280584155, 0.9734926328287107, 0.9907486657505947, 0.0030207149001718232, 0.6081705999012604, 0.3886653171554413, 0.6285099301357441, 0.33346098153349046, 0.03785533680179858, 0.02500198348429234, 0.9667433613926372, 0.008333994494764114, 0.14655351533680752, 0.8518423078951937, 0.001526599118091745, 0.0029576431655810183, 0.9967257468008032, 0.036867614518276214, 0.9631664292899661, 0.004608451814784527, 0.01265519226081776, 0.9871049963437853], \"Term\": [\"access\", \"access\", \"access\", \"adult\", \"adult\", \"afford\", \"afford\", \"airport\", \"airport\", \"airport\", \"also\", \"also\", \"also\", \"apart\", \"apart\", \"apart\", \"apply\", \"apply\", \"apply\", \"area\", \"area\", \"area\", \"art\", \"art\", \"art\", \"ask\", \"ask\", \"ask\", \"avail\", \"avail\", \"avail\", \"away\", \"away\", \"away\", \"ba\", \"ba\", \"ba\", \"bank\", \"bar\", \"bar\", \"bar\", \"bath\", \"bath\", \"bath\", \"bathroom\", \"bathroom\", \"bathroom\", \"bay\", \"bay\", \"bay\", \"beacon\", \"beacon\", \"beauty\", \"beauty\", \"beauty\", \"bed\", \"bed\", \"bed\", \"bedroom\", \"bedroom\", \"bedroom\", \"belong\", \"best\", \"best\", \"best\", \"block\", \"block\", \"block\", \"boast\", \"boast\", \"boast\", \"boston\", \"boston\", \"boston\", \"brand\", \"brand\", \"brand\", \"brewery\", \"brewery\", \"brick\", \"brick\", \"brick\", \"bronco\", \"bronco\", \"build\", \"build\", \"build\", \"bus\", \"bus\", \"bus\", \"camera\", \"carry\", \"carry\", \"ceil\", \"ceil\", \"ceil\", \"cent\", \"cent\", \"cent\", \"cheery\", \"cheery\", \"cherry\", \"cherry\", \"chi\", \"city\", \"city\", \"city\", \"cod\", \"cod\", \"coff\", \"coff\", \"coff\", \"coin\", \"colorado\", \"colorado\", \"comfort\", \"comfort\", \"comfort\", \"common\", \"common\", \"common\", \"company\", \"company\", \"crazy\", \"creek\", \"creek\", \"curt\", \"day\", \"day\", \"day\", \"decad\", \"deck\", \"deck\", \"deck\", \"design\", \"design\", \"design\", \"desk\", \"desk\", \"din\", \"din\", \"din\", \"disinfect\", \"disinfect\", \"disinfect\", \"downtown\", \"downtown\", \"downtown\", \"dress\", \"dress\", \"driveway\", \"drop\", \"easy\", \"easy\", \"easy\", \"enjoy\", \"enjoy\", \"enjoy\", \"equip\", \"equip\", \"equip\", \"every\", \"every\", \"every\", \"faucet\", \"fe\", \"feat\", \"feat\", \"feat\", \"feel\", \"feel\", \"feel\", \"find\", \"find\", \"find\", \"fir\", \"fir\", \"follow\", \"follow\", \"gallery\", \"gas\", \"gas\", \"giant\", \"glass\", \"glass\", \"glass\", \"glory\", \"glory\", \"guest\", \"guest\", \"guest\", \"happy\", \"happy\", \"happy\", \"harry\", \"healthy\", \"healthy\", \"hear\", \"hear\", \"high\", \"high\", \"high\", \"highlight\", \"hist\", \"hist\", \"hist\", \"id\", \"id\", \"id\", \"inquiry\", \"intern\", \"intern\", \"item\", \"item\", \"item\", \"key\", \"key\", \"knob\", \"latest\", \"laundry\", \"laundry\", \"laundry\", \"light\", \"light\", \"light\", \"limit\", \"limit\", \"lin\", \"lin\", \"lin\", \"lock\", \"lock\", \"lockbox\", \"loft\", \"loft\", \"loft\", \"lush\", \"luxury\", \"luxury\", \"luxury\", \"mattress\", \"mattress\", \"mattress\", \"min\", \"min\", \"min\", \"mind\", \"mind\", \"mind\", \"modern\", \"modern\", \"modern\", \"mountain\", \"mountain\", \"must\", \"must\", \"must\", \"nat\", \"nat\", \"nat\", \"nee\", \"nee\", \"nee\", \"new\", \"new\", \"new\", \"note\", \"oh\", \"oh\", \"orang\", \"orang\", \"origin\", \"origin\", \"origin\", \"outdo\", \"outdo\", \"outdo\", \"overlook\", \"overlook\", \"overlook\", \"park\", \"park\", \"park\", \"patio\", \"patio\", \"paty\", \"pay\", \"pay\", \"pearl\", \"perfect\", \"perfect\", \"perfect\", \"permit\", \"permit\", \"permit\", \"pit\", \"pool\", \"pool\", \"pool\", \"portfolio\", \"process\", \"proof\", \"quart\", \"quart\", \"quartz\", \"queen\", \"queen\", \"queen\", \"quiet\", \"quiet\", \"quiet\", \"rain\", \"rain\", \"ready\", \"ready\", \"ready\", \"regardless\", \"relax\", \"relax\", \"relax\", \"rent\", \"rent\", \"rent\", \"request\", \"request\", \"respect\", \"rocky\", \"rocky\", \"room\", \"room\", \"room\", \"rout\", \"sam\", \"sant\", \"scoot\", \"second\", \"second\", \"second\", \"send\", \"send\", \"shop\", \"shop\", \"shop\", \"show\", \"show\", \"show\", \"simply\", \"ski\", \"ski\", \"skylight\", \"skylight\", \"slight\", \"smart\", \"smart\", \"smart\", \"soak\", \"sond\", \"soph\", \"soph\", \"spa\", \"speak\", \"speak\", \"stainless\", \"stainless\", \"start\", \"start\", \"start\", \"stay\", \"stay\", \"stay\", \"steel\", \"steel\", \"stop\", \"stop\", \"stop\", \"street\", \"street\", \"street\", \"stud\", \"stud\", \"studio\", \"studio\", \"studio\", \"study\", \"study\", \"submit\", \"submit\", \"sunroom\", \"sunset\", \"sunset\", \"sunset\", \"support\", \"support\", \"sustain\", \"sustain\", \"switch\", \"text\", \"text\", \"thatch\", \"thing\", \"thing\", \"thing\", \"think\", \"think\", \"thorough\", \"thorough\", \"today\", \"today\", \"today\", \"towel\", \"towel\", \"towel\", \"train\", \"train\", \"train\", \"transport\", \"transport\", \"transport\", \"truth\", \"tub\", \"tub\", \"twin\", \"twin\", \"two\", \"two\", \"two\", \"u\", \"u\", \"u\", \"un\", \"un\", \"un\", \"unit\", \"unit\", \"unit\", \"valet\", \"vault\", \"view\", \"view\", \"view\", \"walk\", \"walk\", \"walk\", \"win\", \"win\", \"win\", \"window\", \"window\", \"window\", \"wireless\", \"wireless\", \"wood\", \"wood\", \"wood\", \"ye\", \"ye\"]}, \"R\": 30, \"lambda.step\": 0.01, \"plot.opts\": {\"xlab\": \"PC1\", \"ylab\": \"PC2\"}, \"topic.order\": [3, 2, 1]};\n",
       "\n",
       "function LDAvis_load_lib(url, callback){\n",
       "  var s = document.createElement('script');\n",
       "  s.src = url;\n",
       "  s.async = true;\n",
       "  s.onreadystatechange = s.onload = callback;\n",
       "  s.onerror = function(){console.warn(\"failed to load library \" + url);};\n",
       "  document.getElementsByTagName(\"head\")[0].appendChild(s);\n",
       "}\n",
       "\n",
       "if(typeof(LDAvis) !== \"undefined\"){\n",
       "   // already loaded: just create the visualization\n",
       "   !function(LDAvis){\n",
       "       new LDAvis(\"#\" + \"ldavis_el44441403362157993766157189426\", ldavis_el44441403362157993766157189426_data);\n",
       "   }(LDAvis);\n",
       "}else if(typeof define === \"function\" && define.amd){\n",
       "   // require.js is available: use it to load d3/LDAvis\n",
       "   require.config({paths: {d3: \"https://d3js.org/d3.v5\"}});\n",
       "   require([\"d3\"], function(d3){\n",
       "      window.d3 = d3;\n",
       "      LDAvis_load_lib(\"https://cdn.jsdelivr.net/gh/bmabey/pyLDAvis@3.3.1/pyLDAvis/js/ldavis.v3.0.0.js\", function(){\n",
       "        new LDAvis(\"#\" + \"ldavis_el44441403362157993766157189426\", ldavis_el44441403362157993766157189426_data);\n",
       "      });\n",
       "    });\n",
       "}else{\n",
       "    // require.js not available: dynamically load d3 & LDAvis\n",
       "    LDAvis_load_lib(\"https://d3js.org/d3.v5.js\", function(){\n",
       "         LDAvis_load_lib(\"https://cdn.jsdelivr.net/gh/bmabey/pyLDAvis@3.3.1/pyLDAvis/js/ldavis.v3.0.0.js\", function(){\n",
       "                 new LDAvis(\"#\" + \"ldavis_el44441403362157993766157189426\", ldavis_el44441403362157993766157189426_data);\n",
       "            })\n",
       "         });\n",
       "}\n",
       "</script>"
      ],
      "text/plain": [
       "<IPython.core.display.HTML object>"
      ]
     },
     "execution_count": 45,
     "metadata": {},
     "output_type": "execute_result"
    }
   ],
   "source": [
    "from IPython.core.display import display, HTML\n",
    "display(HTML(\"<style>.container { max-width:100% !important; }</style>\"))\n",
    "display(HTML(\"<style>.output_result { max-width:100% !important; }</style>\"))\n",
    "display(HTML(\"<style>.output_area { max-width:100% !important; }</style>\"))\n",
    "display(HTML(\"<style>.input_area { max-width:100% !important; }</style>\"))\n",
    "pyLDAvis.enable_notebook()\n",
    "pyLDAvis.display(p)"
   ]
  },
  {
   "cell_type": "markdown",
   "id": "97c00dee",
   "metadata": {},
   "source": [
    "Using these results, I will now build the top 3 Topics for description. The results can be followed by clicking on 'Next Topic' button.\n",
    "\n",
    "<b>Topic 1 - Location, location, location:</b>\n",
    "Almost half of tokens, terms that relate to location are present such as: walk (implying the value of walking distance when navigating a foreign city, hence the value of distance to center which I calculated earlier. Also park, minutes, street and access, suggest the importance of highlighting these terms in order to highlight for visitors how easy it is to move around the city from that rental unit.\n",
    "\n",
    "<b>Topic 2 - The Importance of Amenities:</b>\n",
    "For 33% of tokens, the presence of terms related to rental's facilities are also relevant. For example highlighting the type of room (top term), comfort, size of bed, Wifi and private bathroom. Airbnb rentals want to also compete with hotel offerings which normally would offer amenities such as gym, business center, etc. \n",
    "\n",
    "<b>Topic 3 - Luxury:</b>\n",
    "Interestingly, I found out that 'Luxury' seems to be a recurrent topic as hosts are keen to highlight these amenities that can set them apart. Airbnb rentals are used for a short amount of time and therefore for guests it will add to their experience if they can make use of luxurious facilities highlighted by terms such as 'modern', 'relax', 'beauty' and 'entertain'.\n",
    "\n",
    "I have now identified my top 3 topics that I will include in the regression model.\n",
    "\n",
    "Next I will conduct the final data handling prior to running the model.\n"
   ]
  },
  {
   "cell_type": "code",
   "execution_count": 46,
   "id": "463e80de",
   "metadata": {},
   "outputs": [],
   "source": [
    "#Create a class for dealing with missing values both for numerical and categorical values\n",
    "\n",
    "from sklearn.base import TransformerMixin\n",
    "\n",
    "class DataFrameImputer(TransformerMixin):\n",
    "\n",
    "    def __init__(self):\n",
    "        \"\"\"Impute missing values.\n",
    "\n",
    "        Columns of dtype object are imputed with the most frequent value \n",
    "        in column.\n",
    "\n",
    "        Columns of other types are imputed with mean of column.\n",
    "\n",
    "        \"\"\"\n",
    "    def fit(self, X, y=None):\n",
    "\n",
    "        self.fill = pd.Series([X[c].value_counts().index[0]\n",
    "            if X[c].dtype == np.dtype('O') else X[c].mean() for c in X],\n",
    "            index=X.columns)\n",
    "\n",
    "        return self\n",
    "\n",
    "    def transform(self, X, y=None):\n",
    "        return X.fillna(self.fill)"
   ]
  },
  {
   "cell_type": "code",
   "execution_count": 47,
   "id": "9f4b769a",
   "metadata": {},
   "outputs": [],
   "source": [
    "# Remove missing target [yield] values using Imputer library\n",
    "df = df.dropna(subset=['yield'])\n",
    "\n",
    "# Impute most frequent for categorical features\n",
    "categorical_feats = df.select_dtypes(include=['object']).columns\n",
    "df[categorical_feats] = DataFrameImputer().fit_transform(df[categorical_feats])"
   ]
  },
  {
   "cell_type": "code",
   "execution_count": 48,
   "id": "4dc06b31",
   "metadata": {},
   "outputs": [
    {
     "name": "stdout",
     "output_type": "stream",
     "text": [
      "Dataset has 5040 rows, 17 columns.\n"
     ]
    }
   ],
   "source": [
    "# Impute median for numerical features\n",
    "num_feats = df.select_dtypes(include=[np.number]).columns\n",
    "imp = SimpleImputer(missing_values=np.nan, strategy='median')\n",
    "df[num_feats] = imp.fit_transform(df[num_feats])\n",
    "\n",
    "print(\"Dataset has {} rows, {} columns.\".format(*df.shape))"
   ]
  },
  {
   "cell_type": "code",
   "execution_count": 49,
   "id": "868ee1d3",
   "metadata": {},
   "outputs": [
    {
     "data": {
      "text/plain": [
       "False"
      ]
     },
     "execution_count": 49,
     "metadata": {},
     "output_type": "execute_result"
    }
   ],
   "source": [
    "#Final check to see if there are any null values, if False means there are not.\n",
    "df.isnull().values.any()"
   ]
  },
  {
   "cell_type": "code",
   "execution_count": 50,
   "id": "411a1846",
   "metadata": {},
   "outputs": [
    {
     "name": "stdout",
     "output_type": "stream",
     "text": [
      "Dataset has 5040 rows, 16 columns.\n"
     ]
    }
   ],
   "source": [
    "# Separate NLP features\n",
    "nlp_feats = ['cleaned_description']\n",
    "corpus = df[nlp_feats]\n",
    "df = df.drop(nlp_feats, axis = 1)\n",
    "print(\"Dataset has {} rows, {} columns.\".format(*df.shape))"
   ]
  },
  {
   "cell_type": "code",
   "execution_count": 51,
   "id": "bc4dd10e",
   "metadata": {},
   "outputs": [
    {
     "name": "stdout",
     "output_type": "stream",
     "text": [
      "Dataset has 5040 rows, 14 columns.\n"
     ]
    }
   ],
   "source": [
    "#Dropping price and reviews as they are used for calculating Yield and therefore are correlated\n",
    "cols_to_drop = ['price', 'reviews_per_month']\n",
    "df_final_viz = df[cols_to_drop]\n",
    "df = df.drop(cols_to_drop, axis = 1)\n",
    "print(\"Dataset has {} rows, {} columns.\".format(*df.shape))"
   ]
  },
  {
   "cell_type": "code",
   "execution_count": 52,
   "id": "728099d9",
   "metadata": {},
   "outputs": [
    {
     "name": "stdout",
     "output_type": "stream",
     "text": [
      "Dataset has 5040 rows, 29 columns.\n"
     ]
    }
   ],
   "source": [
    "# Dummy encoding for property and room types\n",
    "categorical_feats = ['property_type', 'room_type']\n",
    "df = pd.get_dummies(df, columns=categorical_feats, drop_first=False)\n",
    "print(\"Dataset has {} rows, {} columns.\".format(*df.shape))"
   ]
  },
  {
   "cell_type": "code",
   "execution_count": 53,
   "id": "b8a5b68f",
   "metadata": {},
   "outputs": [
    {
     "data": {
      "text/plain": [
       "accommodates                                          float64\n",
       "bedrooms                                              float64\n",
       "beds                                                  float64\n",
       "minimum_nights                                        float64\n",
       "host_acceptance_rate                                  float64\n",
       "city                                                   object\n",
       "has_TV                                               category\n",
       "has_AC                                               category\n",
       "has_Wifi                                             category\n",
       "amenities_number                                      float64\n",
       "distance_center                                       float64\n",
       "yield                                                 float64\n",
       "property_type_Camper/RV                                 uint8\n",
       "property_type_Entire condominium (condo)                uint8\n",
       "property_type_Entire guest suite                        uint8\n",
       "property_type_Entire home/apt                           uint8\n",
       "property_type_Entire rental unit                        uint8\n",
       "property_type_Entire residential home                   uint8\n",
       "property_type_Other                                     uint8\n",
       "property_type_Private room                              uint8\n",
       "property_type_Private room in condominium (condo)       uint8\n",
       "property_type_Private room in rental unit               uint8\n",
       "property_type_Private room in residential home          uint8\n",
       "property_type_Room in bed and breakfast                 uint8\n",
       "property_type_Room in serviced apartment                uint8\n",
       "room_type_Entire home/apt                               uint8\n",
       "room_type_Hotel room                                    uint8\n",
       "room_type_Private room                                  uint8\n",
       "room_type_Shared room                                   uint8\n",
       "dtype: object"
      ]
     },
     "execution_count": 53,
     "metadata": {},
     "output_type": "execute_result"
    }
   ],
   "source": [
    "#Check data types\n",
    "df.dtypes"
   ]
  },
  {
   "cell_type": "code",
   "execution_count": 54,
   "id": "30e6fe95",
   "metadata": {},
   "outputs": [
    {
     "data": {
      "text/html": [
       "<div>\n",
       "<style scoped>\n",
       "    .dataframe tbody tr th:only-of-type {\n",
       "        vertical-align: middle;\n",
       "    }\n",
       "\n",
       "    .dataframe tbody tr th {\n",
       "        vertical-align: top;\n",
       "    }\n",
       "\n",
       "    .dataframe thead th {\n",
       "        text-align: right;\n",
       "    }\n",
       "</style>\n",
       "<table border=\"1\" class=\"dataframe\">\n",
       "  <thead>\n",
       "    <tr style=\"text-align: right;\">\n",
       "      <th></th>\n",
       "      <th>accommodates</th>\n",
       "      <th>bedrooms</th>\n",
       "      <th>beds</th>\n",
       "      <th>minimum_nights</th>\n",
       "      <th>host_acceptance_rate</th>\n",
       "      <th>has_TV</th>\n",
       "      <th>has_AC</th>\n",
       "      <th>has_Wifi</th>\n",
       "      <th>amenities_number</th>\n",
       "      <th>distance_center</th>\n",
       "      <th>...</th>\n",
       "      <th>property_type_Private room</th>\n",
       "      <th>property_type_Private room in condominium (condo)</th>\n",
       "      <th>property_type_Private room in rental unit</th>\n",
       "      <th>property_type_Private room in residential home</th>\n",
       "      <th>property_type_Room in bed and breakfast</th>\n",
       "      <th>property_type_Room in serviced apartment</th>\n",
       "      <th>room_type_Entire home/apt</th>\n",
       "      <th>room_type_Hotel room</th>\n",
       "      <th>room_type_Private room</th>\n",
       "      <th>room_type_Shared room</th>\n",
       "    </tr>\n",
       "  </thead>\n",
       "  <tbody>\n",
       "    <tr>\n",
       "      <th>1</th>\n",
       "      <td>2.0</td>\n",
       "      <td>1.0</td>\n",
       "      <td>1.0</td>\n",
       "      <td>2.0</td>\n",
       "      <td>97.0</td>\n",
       "      <td>0</td>\n",
       "      <td>0</td>\n",
       "      <td>0</td>\n",
       "      <td>38.0</td>\n",
       "      <td>6.257290</td>\n",
       "      <td>...</td>\n",
       "      <td>0</td>\n",
       "      <td>0</td>\n",
       "      <td>0</td>\n",
       "      <td>0</td>\n",
       "      <td>0</td>\n",
       "      <td>0</td>\n",
       "      <td>1</td>\n",
       "      <td>0</td>\n",
       "      <td>0</td>\n",
       "      <td>0</td>\n",
       "    </tr>\n",
       "    <tr>\n",
       "      <th>2</th>\n",
       "      <td>4.0</td>\n",
       "      <td>2.0</td>\n",
       "      <td>2.0</td>\n",
       "      <td>4.0</td>\n",
       "      <td>92.0</td>\n",
       "      <td>0</td>\n",
       "      <td>0</td>\n",
       "      <td>0</td>\n",
       "      <td>33.0</td>\n",
       "      <td>6.930941</td>\n",
       "      <td>...</td>\n",
       "      <td>0</td>\n",
       "      <td>0</td>\n",
       "      <td>0</td>\n",
       "      <td>0</td>\n",
       "      <td>0</td>\n",
       "      <td>0</td>\n",
       "      <td>1</td>\n",
       "      <td>0</td>\n",
       "      <td>0</td>\n",
       "      <td>0</td>\n",
       "    </tr>\n",
       "    <tr>\n",
       "      <th>4</th>\n",
       "      <td>2.0</td>\n",
       "      <td>1.0</td>\n",
       "      <td>2.0</td>\n",
       "      <td>2.0</td>\n",
       "      <td>100.0</td>\n",
       "      <td>0</td>\n",
       "      <td>0</td>\n",
       "      <td>0</td>\n",
       "      <td>22.0</td>\n",
       "      <td>8.168310</td>\n",
       "      <td>...</td>\n",
       "      <td>0</td>\n",
       "      <td>0</td>\n",
       "      <td>0</td>\n",
       "      <td>0</td>\n",
       "      <td>0</td>\n",
       "      <td>0</td>\n",
       "      <td>0</td>\n",
       "      <td>0</td>\n",
       "      <td>1</td>\n",
       "      <td>0</td>\n",
       "    </tr>\n",
       "    <tr>\n",
       "      <th>9</th>\n",
       "      <td>2.0</td>\n",
       "      <td>1.0</td>\n",
       "      <td>1.0</td>\n",
       "      <td>3.0</td>\n",
       "      <td>97.0</td>\n",
       "      <td>0</td>\n",
       "      <td>0</td>\n",
       "      <td>0</td>\n",
       "      <td>37.0</td>\n",
       "      <td>13.723129</td>\n",
       "      <td>...</td>\n",
       "      <td>0</td>\n",
       "      <td>0</td>\n",
       "      <td>0</td>\n",
       "      <td>1</td>\n",
       "      <td>0</td>\n",
       "      <td>0</td>\n",
       "      <td>0</td>\n",
       "      <td>0</td>\n",
       "      <td>1</td>\n",
       "      <td>0</td>\n",
       "    </tr>\n",
       "    <tr>\n",
       "      <th>10</th>\n",
       "      <td>4.0</td>\n",
       "      <td>1.0</td>\n",
       "      <td>2.0</td>\n",
       "      <td>2.0</td>\n",
       "      <td>97.0</td>\n",
       "      <td>0</td>\n",
       "      <td>0</td>\n",
       "      <td>0</td>\n",
       "      <td>47.0</td>\n",
       "      <td>2.645575</td>\n",
       "      <td>...</td>\n",
       "      <td>0</td>\n",
       "      <td>0</td>\n",
       "      <td>0</td>\n",
       "      <td>0</td>\n",
       "      <td>0</td>\n",
       "      <td>0</td>\n",
       "      <td>1</td>\n",
       "      <td>0</td>\n",
       "      <td>0</td>\n",
       "      <td>0</td>\n",
       "    </tr>\n",
       "  </tbody>\n",
       "</table>\n",
       "<p>5 rows × 28 columns</p>\n",
       "</div>"
      ],
      "text/plain": [
       "    accommodates  bedrooms  beds  minimum_nights  host_acceptance_rate has_TV  \\\n",
       "1            2.0       1.0   1.0             2.0                  97.0      0   \n",
       "2            4.0       2.0   2.0             4.0                  92.0      0   \n",
       "4            2.0       1.0   2.0             2.0                 100.0      0   \n",
       "9            2.0       1.0   1.0             3.0                  97.0      0   \n",
       "10           4.0       1.0   2.0             2.0                  97.0      0   \n",
       "\n",
       "   has_AC has_Wifi  amenities_number  distance_center  ...  \\\n",
       "1       0        0              38.0         6.257290  ...   \n",
       "2       0        0              33.0         6.930941  ...   \n",
       "4       0        0              22.0         8.168310  ...   \n",
       "9       0        0              37.0        13.723129  ...   \n",
       "10      0        0              47.0         2.645575  ...   \n",
       "\n",
       "    property_type_Private room  \\\n",
       "1                            0   \n",
       "2                            0   \n",
       "4                            0   \n",
       "9                            0   \n",
       "10                           0   \n",
       "\n",
       "   property_type_Private room in condominium (condo)  \\\n",
       "1                                                  0   \n",
       "2                                                  0   \n",
       "4                                                  0   \n",
       "9                                                  0   \n",
       "10                                                 0   \n",
       "\n",
       "   property_type_Private room in rental unit  \\\n",
       "1                                          0   \n",
       "2                                          0   \n",
       "4                                          0   \n",
       "9                                          0   \n",
       "10                                         0   \n",
       "\n",
       "   property_type_Private room in residential home  \\\n",
       "1                                               0   \n",
       "2                                               0   \n",
       "4                                               0   \n",
       "9                                               1   \n",
       "10                                              0   \n",
       "\n",
       "   property_type_Room in bed and breakfast  \\\n",
       "1                                        0   \n",
       "2                                        0   \n",
       "4                                        0   \n",
       "9                                        0   \n",
       "10                                       0   \n",
       "\n",
       "   property_type_Room in serviced apartment room_type_Entire home/apt  \\\n",
       "1                                         0                         1   \n",
       "2                                         0                         1   \n",
       "4                                         0                         0   \n",
       "9                                         0                         0   \n",
       "10                                        0                         1   \n",
       "\n",
       "   room_type_Hotel room room_type_Private room room_type_Shared room  \n",
       "1                     0                      0                     0  \n",
       "2                     0                      0                     0  \n",
       "4                     0                      1                     0  \n",
       "9                     0                      1                     0  \n",
       "10                    0                      0                     0  \n",
       "\n",
       "[5 rows x 28 columns]"
      ]
     },
     "execution_count": 54,
     "metadata": {},
     "output_type": "execute_result"
    }
   ],
   "source": [
    "#Transform uint8 columns into categorical\n",
    "for col in ['property_type_Entire condominium (condo)', 'property_type_Entire guest suite',\n",
    "        'property_type_Entire home/apt', 'property_type_Camper/RV',\n",
    "        'property_type_Entire rental unit', 'property_type_Entire residential home',\n",
    "        'property_type_Other', 'property_type_Private room', \n",
    "        'property_type_Private room in condominium (condo)', 'property_type_Private room in rental unit',\n",
    "        'property_type_Private room in residential home', 'property_type_Room in bed and breakfast',\n",
    "        'property_type_Room in serviced apartment', 'room_type_Entire home/apt','room_type_Hotel room',\n",
    "        'room_type_Private room','room_type_Shared room']:\n",
    "    df[col]=df[col].astype(\"category\")\n",
    "\n",
    "#Drop city as no longer needed\n",
    "df = df.drop(columns = ['city'])    \n",
    "df.head()"
   ]
  },
  {
   "cell_type": "code",
   "execution_count": 55,
   "id": "de6ad1fe",
   "metadata": {},
   "outputs": [
    {
     "data": {
      "text/plain": [
       "accommodates                                          float64\n",
       "bedrooms                                              float64\n",
       "beds                                                  float64\n",
       "minimum_nights                                        float64\n",
       "host_acceptance_rate                                  float64\n",
       "has_TV                                               category\n",
       "has_AC                                               category\n",
       "has_Wifi                                             category\n",
       "amenities_number                                      float64\n",
       "distance_center                                       float64\n",
       "yield                                                 float64\n",
       "property_type_Camper/RV                              category\n",
       "property_type_Entire condominium (condo)             category\n",
       "property_type_Entire guest suite                     category\n",
       "property_type_Entire home/apt                        category\n",
       "property_type_Entire rental unit                     category\n",
       "property_type_Entire residential home                category\n",
       "property_type_Other                                  category\n",
       "property_type_Private room                           category\n",
       "property_type_Private room in condominium (condo)    category\n",
       "property_type_Private room in rental unit            category\n",
       "property_type_Private room in residential home       category\n",
       "property_type_Room in bed and breakfast              category\n",
       "property_type_Room in serviced apartment             category\n",
       "room_type_Entire home/apt                            category\n",
       "room_type_Hotel room                                 category\n",
       "room_type_Private room                               category\n",
       "room_type_Shared room                                category\n",
       "dtype: object"
      ]
     },
     "execution_count": 55,
     "metadata": {},
     "output_type": "execute_result"
    }
   ],
   "source": [
    "#Final check\n",
    "df.dtypes"
   ]
  },
  {
   "cell_type": "code",
   "execution_count": 56,
   "id": "f4b2521d",
   "metadata": {},
   "outputs": [],
   "source": [
    "#Define target variable\n",
    "target = 'yield'\n",
    "X = df.drop(target, axis=1)\n",
    "y = df[target]"
   ]
  },
  {
   "cell_type": "code",
   "execution_count": 57,
   "id": "09b37ecf",
   "metadata": {},
   "outputs": [],
   "source": [
    "# Train test split\n",
    "#Setting aside 30% of dataset to testing\n",
    "test_size = 0.3\n",
    "\n",
    "X_train, X_test, y_train, y_test = train_test_split(X, y, test_size=test_size, random_state=seed)"
   ]
  },
  {
   "cell_type": "code",
   "execution_count": 58,
   "id": "c4c8b0d1",
   "metadata": {},
   "outputs": [
    {
     "data": {
      "text/plain": [
       "LinearRegression()"
      ]
     },
     "execution_count": 58,
     "metadata": {},
     "output_type": "execute_result"
    }
   ],
   "source": [
    "# Create linear regression object\n",
    "regr = linear_model.LinearRegression()\n",
    "\n",
    "# Train the model using the training sets\n",
    "regr.fit(X_train, y_train)"
   ]
  },
  {
   "cell_type": "markdown",
   "id": "3528d32a",
   "metadata": {},
   "source": [
    "<h2>Establishing a baseline model</h2>\n",
    "For the baseline model I will use a simple Linear Regression. The results from the model are simple and easy to interpretate. In its first iteration, I will leave out the LDA topics just to establish how much of an improvement topics will bring to the final model."
   ]
  },
  {
   "cell_type": "code",
   "execution_count": 59,
   "id": "c3e678b6",
   "metadata": {},
   "outputs": [
    {
     "name": "stdout",
     "output_type": "stream",
     "text": [
      "Mean squared error: 201233160.62\n"
     ]
    }
   ],
   "source": [
    "# Make predictions using the testing set\n",
    "regr_y_pred = regr.predict(X_test)\n",
    "\n",
    "# Printing mean squared error as is the selected evaluation metric\n",
    "print(\"Mean squared error: %.2f\" % mean_squared_error(y_test, regr_y_pred))\n"
   ]
  },
  {
   "cell_type": "markdown",
   "id": "0c22b43f",
   "metadata": {},
   "source": [
    "After training the model, the result is Mean Squared Error 201233160"
   ]
  },
  {
   "cell_type": "code",
   "execution_count": 60,
   "id": "48ed7867",
   "metadata": {},
   "outputs": [],
   "source": [
    "#Trying Decision Tree\n",
    "from sklearn.tree import DecisionTreeRegressor"
   ]
  },
  {
   "cell_type": "code",
   "execution_count": 61,
   "id": "c68a6e12",
   "metadata": {},
   "outputs": [
    {
     "data": {
      "text/plain": [
       "DecisionTreeRegressor(max_depth=5, random_state=42)"
      ]
     },
     "execution_count": 61,
     "metadata": {},
     "output_type": "execute_result"
    }
   ],
   "source": [
    "# Fit regression model\n",
    "dt_regr = DecisionTreeRegressor(random_state=seed, max_depth=5)\n",
    "dt_regr.fit(X_train, y_train)"
   ]
  },
  {
   "cell_type": "code",
   "execution_count": 62,
   "id": "7d01d85c",
   "metadata": {},
   "outputs": [
    {
     "name": "stdout",
     "output_type": "stream",
     "text": [
      "Mean squared error: 245120002.24\n"
     ]
    }
   ],
   "source": [
    "# Make prediction\n",
    "dt_y_pred = dt_regr.predict(X_test)\n",
    "\n",
    "print(\"Mean squared error: %.2f\" % mean_squared_error(y_test, dt_y_pred))"
   ]
  },
  {
   "cell_type": "markdown",
   "id": "6231dfc7",
   "metadata": {},
   "source": [
    "The Decision Tree model had a slightly higher MSE, 2452120002, which is an improvement from Linear Regression, but not significant."
   ]
  },
  {
   "cell_type": "code",
   "execution_count": 63,
   "id": "1ebf535d",
   "metadata": {},
   "outputs": [
    {
     "name": "stderr",
     "output_type": "stream",
     "text": [
      "/opt/anaconda3/lib/python3.7/site-packages/sklearn/ensemble/_forest.py:392: FutureWarning: Criterion 'mse' was deprecated in v1.0 and will be removed in version 1.2. Use `criterion='squared_error'` which is equivalent.\n",
      "  FutureWarning,\n"
     ]
    },
    {
     "data": {
      "text/plain": [
       "RandomForestRegressor(criterion='mse', max_depth=25, min_samples_split=4,\n",
       "                      n_estimators=150, random_state=42)"
      ]
     },
     "execution_count": 63,
     "metadata": {},
     "output_type": "execute_result"
    }
   ],
   "source": [
    "#Finally I will fit a RandomForest model, which is typically a more complex model\n",
    "rf_regr = RandomForestRegressor(random_state=seed, bootstrap=True, criterion='mse', max_depth=25, \n",
    "                           max_features='auto', min_samples_split=4, n_estimators=150)\n",
    "\n",
    "rf_regr.fit(X_train, y_train)"
   ]
  },
  {
   "cell_type": "code",
   "execution_count": 64,
   "id": "54a7c40d",
   "metadata": {},
   "outputs": [
    {
     "name": "stdout",
     "output_type": "stream",
     "text": [
      "Mean squared error: 201524609.50\n"
     ]
    }
   ],
   "source": [
    "# Make prediction\n",
    "rf_y_pred = rf_regr.predict(X_test)\n",
    "\n",
    "print(\"Mean squared error: %.2f\" % mean_squared_error(y_test, rf_y_pred))"
   ]
  },
  {
   "cell_type": "markdown",
   "id": "62f07027",
   "metadata": {},
   "source": [
    "The Random Forest Regressor model had a similar MSE, 201524609, to Linear Regression.\n",
    "Now I will bring in the text mining element to the model to observe if there are any improvements. I will introduce the listings as topics, which are determined by the trained LDA model."
   ]
  },
  {
   "cell_type": "code",
   "execution_count": 65,
   "id": "9825ed00",
   "metadata": {},
   "outputs": [
    {
     "name": "stdout",
     "output_type": "stream",
     "text": [
      "Dataset has 8883 rows, 31 columns.\n"
     ]
    }
   ],
   "source": [
    "#Topics are then added in as a new feature.\n",
    "df = add_topics_to_df(ldamodel_description, doc_term_matrix_description, df, new_col='topics_description', num_topics=3)\n",
    "\n",
    "# Rename columns based on understanding of topics as described above\n",
    "df['topics_description'].replace({0:'Location', 1:'Amenities', 2:'Luxury'},inplace=True)\n",
    "df = pd.get_dummies(df, columns=['topics_description'], drop_first=False)\n",
    "\n",
    "print(\"Dataset has {} rows, {} columns.\".format(*df.shape))"
   ]
  },
  {
   "cell_type": "code",
   "execution_count": 66,
   "id": "5a2e9e7f",
   "metadata": {},
   "outputs": [],
   "source": [
    "#Remove any NAs\n",
    "df = df.dropna(axis=0, how='any', thresh=None, subset=None, inplace=False)"
   ]
  },
  {
   "cell_type": "code",
   "execution_count": 67,
   "id": "d9ed087d",
   "metadata": {},
   "outputs": [
    {
     "data": {
      "text/plain": [
       "(5040, 31)"
      ]
     },
     "execution_count": 67,
     "metadata": {},
     "output_type": "execute_result"
    }
   ],
   "source": [
    "df.shape"
   ]
  },
  {
   "cell_type": "code",
   "execution_count": 68,
   "id": "e7990647",
   "metadata": {},
   "outputs": [],
   "source": [
    "# Create response and target variable\n",
    "X = df.drop(target, axis=1)\n",
    "y = df[target]\n",
    "X_train, X_test, y_train, y_test = train_test_split(X, y, test_size=test_size, random_state=seed)"
   ]
  },
  {
   "cell_type": "code",
   "execution_count": 69,
   "id": "dc665d76",
   "metadata": {},
   "outputs": [
    {
     "data": {
      "text/plain": [
       "DecisionTreeRegressor(max_depth=5, random_state=42)"
      ]
     },
     "execution_count": 69,
     "metadata": {},
     "output_type": "execute_result"
    }
   ],
   "source": [
    "dt_regr.fit(X_train, y_train)"
   ]
  },
  {
   "cell_type": "code",
   "execution_count": 70,
   "id": "dfb4e952",
   "metadata": {},
   "outputs": [
    {
     "name": "stdout",
     "output_type": "stream",
     "text": [
      "Mean squared error: 261631378.25\n"
     ]
    }
   ],
   "source": [
    "# Make prediction on best performing model\n",
    "dt_y_pred = dt_regr.predict(X_test)\n",
    "\n",
    "print(\"Mean squared error: %.2f\" % mean_squared_error(y_test, dt_y_pred))"
   ]
  },
  {
   "cell_type": "markdown",
   "id": "ec4ed6d4",
   "metadata": {},
   "source": [
    "There is a significant improvement in performance once topics are introduced for Decision Tree."
   ]
  },
  {
   "cell_type": "markdown",
   "id": "c0ef0413",
   "metadata": {},
   "source": [
    "I will conclude the refinement part of the project by tuning hyperparameters using GridSearchCV library."
   ]
  },
  {
   "cell_type": "code",
   "execution_count": 71,
   "id": "2d1d0fa9",
   "metadata": {},
   "outputs": [],
   "source": [
    "#Tuning hyperparameters\n",
    "param_grid = {\"criterion\": [\"squared_error\", \"absolute_error\"],\n",
    "              \"min_samples_split\": [10, 20, 40],\n",
    "              \"max_depth\": [2, 6, 8],\n",
    "              \"min_samples_leaf\": [20, 40, 100],\n",
    "              \"max_leaf_nodes\": [5, 20, 100],\n",
    "              }"
   ]
  },
  {
   "cell_type": "code",
   "execution_count": 72,
   "id": "5640b699",
   "metadata": {},
   "outputs": [
    {
     "name": "stdout",
     "output_type": "stream",
     "text": [
      "CPU times: user 1min 56s, sys: 343 ms, total: 1min 56s\n",
      "Wall time: 1min 57s\n"
     ]
    },
    {
     "data": {
      "text/plain": [
       "GridSearchCV(cv=5,\n",
       "             estimator=DecisionTreeRegressor(max_depth=5, random_state=42),\n",
       "             param_grid={'criterion': ['squared_error', 'absolute_error'],\n",
       "                         'max_depth': [2, 6, 8], 'max_leaf_nodes': [5, 20, 100],\n",
       "                         'min_samples_leaf': [20, 40, 100],\n",
       "                         'min_samples_split': [10, 20, 40]})"
      ]
     },
     "execution_count": 72,
     "metadata": {},
     "output_type": "execute_result"
    }
   ],
   "source": [
    "%%time\n",
    "dt_regr = DecisionTreeRegressor(random_state=seed, max_depth=5)\n",
    "dt_regr.fit(X_train, y_train)\n",
    "\n",
    "dt_cv = GridSearchCV(dt_regr, param_grid, cv=5)\n",
    "dt_cv.fit(X_train, y_train)"
   ]
  },
  {
   "cell_type": "code",
   "execution_count": 73,
   "id": "3ec85675",
   "metadata": {},
   "outputs": [
    {
     "name": "stdout",
     "output_type": "stream",
     "text": [
      "Mean squared error: 201524609.50\n",
      "Variance score: 0.09\n",
      "Refined Model Parameters: {'criterion': 'squared_error', 'max_depth': 6, 'max_leaf_nodes': 100, 'min_samples_leaf': 20, 'min_samples_split': 10}\n"
     ]
    }
   ],
   "source": [
    "# Make final prediction\n",
    "dt_y_pred = dt_cv.predict(X_test)\n",
    "\n",
    "# The mean squared error\n",
    "print(\"Mean squared error: %.2f\" % mean_squared_error(y_test, rf_y_pred))\n",
    "# Explained variance score: 1 is perfect prediction\n",
    "print('Variance score: %.2f' % r2_score(y_test, rf_y_pred))\n",
    "# Best params\n",
    "print(\"Refined Model Parameters: {}\".format(dt_cv.best_params_))"
   ]
  },
  {
   "cell_type": "markdown",
   "id": "0f14eb1a",
   "metadata": {},
   "source": [
    "A further refinement showed a moderate improvement."
   ]
  },
  {
   "cell_type": "markdown",
   "id": "5fc5e0bf",
   "metadata": {},
   "source": [
    "<h2>Conclusions:</h2>\n",
    "Whilst adding text-based variables built with NLP, improved performance the final model did not result in a model that can predict yield values in a reliable way. The challenge was to work with unstructured language and I'm satisfied to have explored topic modelling. This proved useful to identify the main features that hosts want to highlight.\n",
    "\n",
    "On reflection, I learnt from this project to use new topic modelling techniques like LDA and spent a significant amount of time cleaning and doing feature engineering. LDA provided with a more rigorous approach to language modelling compared to for example bag of words, which is a basic and standard technique in NLP. LDA assumes that each document (listings' descriptions in this example) consists of multiple topics and calculates the contribution of each topic to the document. LDA algorithm's function is to construct the hidden (‘latent’) layer between the distribution of topics with the distribution of words. \n",
    "\n",
    "In terms of visualizing results, I used an Intertopic Distance Map, which shows for each of the main 3 topics a sorted list for the most frequent words found in each topic, based on the probability distribution for each term. This helped me build the 3 main topics for the descriptions: Location, Amenities and Luxury. One possible improvement for this project would be to try different topic modeling techniques such as Gibbs Sampling Dirichlet Multinomial Mixture (GSDMM) or Short Text Topic Modeling (STTM), which seem to perform better with shorter texts such as reviews and listings. These models also seek to tweak the number of meaningful tokens in order to really zoom in with relevant topics.\n",
    "\n",
    "A further improvement to this model would be to expand the data sample, perhaps from 4 cities to 10 to increase the sample size to at least 10K rows. Given the consistency of Airbnb's API hosted in the website Inside Airbnb this should be a relative easy task to do. Perhaps this could also be done as a time series task, seeking to observe how topic modelling has changed before and after the Covid-19 pandemic (in the descriptions I used there was a lot of references to being fully vaccinated).\n",
    "\n",
    "Also dimension-reduction as in the case for property type and room type is also an important technique to consider. Perhaps I could have increased the required threshold for value counts to reduce the number of dimensions even further.\n",
    "\n",
    "I'm satisfied to have used such a well-built and documented dataset such as Airbnb listings. The reviews are also available so that could also be a part of future projects.\n"
   ]
  },
  {
   "cell_type": "markdown",
   "id": "c105ea0e",
   "metadata": {},
   "source": [
    "<h2>References:</h2>\n",
    "<li>Hutto, C.J. & Gilbert, E.E. (2014). VADER: A Parsimonious Rule-based Model for\n",
    "Sentiment Analysis of Social Media Text. Eighth International Conference on\n",
    "Weblogs and Social Media (ICWSM-14). Ann Arbor, MI, June 2014.</li>\n",
    "<li>VanderPlas, J. Python data science handbook: Essential tools for working with data. (California: O'Reilly Media, Inc., 2016), pp.382–90.</li>\n",
    "<li>Bird, S., E. Klein and E. Loper Natural language processing with Python: analyzing text with the natural language toolkit. (2019). Chapter 6, pp.221-228.</li>\n",
    "<li>En.wikipedia.org. 2022. Latent Dirichlet allocation - Wikipedia. [online] Available at: <a href=\"https://en.wikipedia.org/wiki/Latent_Dirichlet_allocation\">Article</a> [Accessed 21 December 2021].</li>\n",
    "<li>Amrouche, M., 2021. Short Text Topic Modeling. [online] Medium. Available at: <https://towardsdatascience.com/short-text-topic-modeling-70e50a57c883> [Accessed 22 December 2021].</li>"
   ]
  },
  {
   "cell_type": "code",
   "execution_count": null,
   "id": "79feae99",
   "metadata": {},
   "outputs": [],
   "source": []
  }
 ],
 "metadata": {
  "kernelspec": {
   "display_name": "Python 3",
   "language": "python",
   "name": "python3"
  },
  "language_info": {
   "codemirror_mode": {
    "name": "ipython",
    "version": 3
   },
   "file_extension": ".py",
   "mimetype": "text/x-python",
   "name": "python",
   "nbconvert_exporter": "python",
   "pygments_lexer": "ipython3",
   "version": "3.8.8"
  }
 },
 "nbformat": 4,
 "nbformat_minor": 5
}
